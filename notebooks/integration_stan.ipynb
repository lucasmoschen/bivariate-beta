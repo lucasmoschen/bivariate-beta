{
 "cells": [
  {
   "cell_type": "markdown",
   "metadata": {},
   "source": [
    "# Integration through Stan"
   ]
  },
  {
   "cell_type": "code",
   "execution_count": 81,
   "metadata": {},
   "outputs": [],
   "source": [
    "import nest_asyncio\n",
    "nest_asyncio.apply()\n",
    "\n",
    "import numpy as np\n",
    "#from cmdstanpy import cmdstan_path, CmdStanModel\n",
    "import stan\n",
    "import matplotlib.pyplot as plt\n",
    "import os\n",
    "import tqdm\n",
    "\n",
    "from mpmath import mp\n",
    "mp.dps = 25; mp.pretty = True\n",
    "\n",
    "import sys\n",
    "sys.path.append('../scripts')\n",
    "\n",
    "from parameter_estimation import BivariateBeta"
   ]
  },
  {
   "cell_type": "markdown",
   "metadata": {},
   "source": [
    "First, let's analyze the `integrate_1d` function from Stan. We defined four different variations: \n",
    "\n",
    "1. The integrand is $u^{\\alpha_1-1}(x-u)^{\\alpha_2-1}(y-u)^{\\alpha_3-1}(1-x-y+u)^{\\alpha_4-1}$\n",
    "2. The integrand is $\\exp\\{(\\alpha_1-1)\\cdot\\log(u) + (\\alpha_2-1)\\cdot\\log(x-u) + (\\alpha_3-1)\\cdot\\log(y-u) + (\\alpha_4-1)\\cdot\\log(1-x-y+u)\\}$\n",
    "3. The integrand is $u^{\\alpha_1-1}(x-u)^{\\alpha_2-1}(y-u)^{\\alpha_3-1}(1-x-y+u)^{\\alpha_4-1}$, but using the high precision parameter `xc` which is the distance between $u$ and the closest limit. For instance, if $u$ is close to $x < y$, we have $xc = x-u$, with more precision.\n",
    "4. The integrand is$\\exp\\{(\\alpha_1-1)\\cdot\\log(u) + (\\alpha_2-1)\\cdot\\log(x-u) + (\\alpha_3-1)\\cdot\\log(y-u) + (\\alpha_4-1)\\cdot\\log(1-x-y+u)\\}$, but using the high precision parameter `xc` which is the distance between $u$ and the closest limit."
   ]
  },
  {
   "cell_type": "code",
   "execution_count": 2,
   "metadata": {},
   "outputs": [],
   "source": [
    "filename = '../scripts/bivariate-beta-density.stan'\n",
    "with open(filename) as f:\n",
    "    model = f.read()"
   ]
  },
  {
   "cell_type": "code",
   "execution_count": 3,
   "metadata": {},
   "outputs": [],
   "source": [
    "alpha = np.random.gamma(1,1,size=4)\n",
    "n = 1000\n",
    "XY = np.random.random(size=(n,2))\n",
    "data = {'n': n, 'xy': XY, 'tolerance': 1e-10, 'alpha': alpha, 'integrand': 1}"
   ]
  },
  {
   "cell_type": "code",
   "execution_count": 5,
   "metadata": {},
   "outputs": [
    {
     "name": "stderr",
     "output_type": "stream",
     "text": [
      "\u001b[32mBuilding:\u001b[0m found in cache, done.\n",
      "\u001b[36mMessages from \u001b[0m\u001b[36;1mstanc\u001b[0m\u001b[36m:\u001b[0m\n",
      "Warning in '/tmp/httpstan_vanpcngh/model_w4376tn3.stan', line 101, column 31: The\n",
      "    variable integrand4 may not have been assigned a value before its use.\n",
      "Warning in '/tmp/httpstan_vanpcngh/model_w4376tn3.stan', line 99, column 31: The\n",
      "    variable integrand3 may not have been assigned a value before its use.\n",
      "Warning in '/tmp/httpstan_vanpcngh/model_w4376tn3.stan', line 97, column 31: The\n",
      "    variable integrand2 may not have been assigned a value before its use.\n",
      "Warning in '/tmp/httpstan_vanpcngh/model_w4376tn3.stan', line 95, column 31: The\n",
      "    variable integrand1 may not have been assigned a value before its use.\n",
      "\u001b[36mSampling:\u001b[0m   0%\n",
      "\u001b[1A\u001b[0J\u001b[36mSampling:\u001b[0m 100% (1/1)\n",
      "\u001b[1A\u001b[0J\u001b[32mSampling:\u001b[0m 100% (1/1), done.\n",
      "\u001b[36mMessages received during sampling:\u001b[0m\n",
      "  Exception: Exception: Error in function tanh_sinh<double>::integrate: The tanh_sinh quadrature evaluated your function at a singular point and got inf. Please narrow the bounds of integration or check your function for singularities. (in '/tmp/httpstan_i0dcrl8u/model_w4376tn3.stan', line 95, column 10 to column 103) (in '/tmp/httpstan_i0dcrl8u/model_w4376tn3.stan', line 125, column 8 to column 105)\n"
     ]
    }
   ],
   "source": [
    "data['integrand']=1\n",
    "bivbeta_density = stan.build(model, data)\n",
    "fit = bivbeta_density.fixed_param(num_chains=1, num_samples=1)"
   ]
  },
  {
   "cell_type": "code",
   "execution_count": 6,
   "metadata": {},
   "outputs": [
    {
     "name": "stderr",
     "output_type": "stream",
     "text": [
      "\u001b[32mBuilding:\u001b[0m found in cache, done.\n",
      "\u001b[36mMessages from \u001b[0m\u001b[36;1mstanc\u001b[0m\u001b[36m:\u001b[0m\n",
      "Warning in '/tmp/httpstan_vanpcngh/model_w4376tn3.stan', line 101, column 31: The\n",
      "    variable integrand4 may not have been assigned a value before its use.\n",
      "Warning in '/tmp/httpstan_vanpcngh/model_w4376tn3.stan', line 99, column 31: The\n",
      "    variable integrand3 may not have been assigned a value before its use.\n",
      "Warning in '/tmp/httpstan_vanpcngh/model_w4376tn3.stan', line 97, column 31: The\n",
      "    variable integrand2 may not have been assigned a value before its use.\n",
      "Warning in '/tmp/httpstan_vanpcngh/model_w4376tn3.stan', line 95, column 31: The\n",
      "    variable integrand1 may not have been assigned a value before its use.\n",
      "\u001b[36mSampling:\u001b[0m   0%\n",
      "\u001b[1A\u001b[0J\u001b[36mSampling:\u001b[0m 100% (1/1)\n",
      "\u001b[1A\u001b[0J\u001b[32mSampling:\u001b[0m 100% (1/1), done.\n",
      "\u001b[36mMessages received during sampling:\u001b[0m\n",
      "  Exception: Exception: Error in function tanh_sinh<double>::integrate: The tanh_sinh quadrature evaluated your function at a singular point and got inf. Please narrow the bounds of integration or check your function for singularities. (in '/tmp/httpstan_i0dcrl8u/model_w4376tn3.stan', line 97, column 10 to column 103) (in '/tmp/httpstan_i0dcrl8u/model_w4376tn3.stan', line 125, column 8 to column 105)\n"
     ]
    }
   ],
   "source": [
    "data['integrand']=2\n",
    "bivbeta_density = stan.build(model, data)\n",
    "fit = bivbeta_density.fixed_param(num_chains=1, num_samples=1)\n",
    "a2 = fit['log_density']"
   ]
  },
  {
   "cell_type": "code",
   "execution_count": 7,
   "metadata": {},
   "outputs": [
    {
     "name": "stderr",
     "output_type": "stream",
     "text": [
      "\u001b[32mBuilding:\u001b[0m found in cache, done.\n",
      "\u001b[36mMessages from \u001b[0m\u001b[36;1mstanc\u001b[0m\u001b[36m:\u001b[0m\n",
      "Warning in '/tmp/httpstan_vanpcngh/model_w4376tn3.stan', line 101, column 31: The\n",
      "    variable integrand4 may not have been assigned a value before its use.\n",
      "Warning in '/tmp/httpstan_vanpcngh/model_w4376tn3.stan', line 99, column 31: The\n",
      "    variable integrand3 may not have been assigned a value before its use.\n",
      "Warning in '/tmp/httpstan_vanpcngh/model_w4376tn3.stan', line 97, column 31: The\n",
      "    variable integrand2 may not have been assigned a value before its use.\n",
      "Warning in '/tmp/httpstan_vanpcngh/model_w4376tn3.stan', line 95, column 31: The\n",
      "    variable integrand1 may not have been assigned a value before its use.\n",
      "\u001b[36mSampling:\u001b[0m   0%\n",
      "\u001b[1A\u001b[0J\u001b[36mSampling:\u001b[0m 100% (1/1)\n",
      "\u001b[1A\u001b[0J\u001b[32mSampling:\u001b[0m 100% (1/1), done.\n"
     ]
    }
   ],
   "source": [
    "data['integrand']=3\n",
    "bivbeta_density = stan.build(model, data)\n",
    "fit = bivbeta_density.fixed_param(num_chains=1, num_samples=1)\n",
    "a3 = fit['log_density']"
   ]
  },
  {
   "cell_type": "code",
   "execution_count": 13,
   "metadata": {},
   "outputs": [
    {
     "name": "stderr",
     "output_type": "stream",
     "text": [
      "\u001b[32mBuilding:\u001b[0m found in cache, done.\n",
      "\u001b[36mMessages from \u001b[0m\u001b[36;1mstanc\u001b[0m\u001b[36m:\u001b[0m\n",
      "Warning in '/tmp/httpstan_vanpcngh/model_w4376tn3.stan', line 101, column 31: The\n",
      "    variable integrand4 may not have been assigned a value before its use.\n",
      "Warning in '/tmp/httpstan_vanpcngh/model_w4376tn3.stan', line 99, column 31: The\n",
      "    variable integrand3 may not have been assigned a value before its use.\n",
      "Warning in '/tmp/httpstan_vanpcngh/model_w4376tn3.stan', line 97, column 31: The\n",
      "    variable integrand2 may not have been assigned a value before its use.\n",
      "Warning in '/tmp/httpstan_vanpcngh/model_w4376tn3.stan', line 95, column 31: The\n",
      "    variable integrand1 may not have been assigned a value before its use.\n",
      "\u001b[36mSampling:\u001b[0m   0%\n",
      "\u001b[1A\u001b[0J\u001b[36mSampling:\u001b[0m 100% (1/1)\n",
      "\u001b[1A\u001b[0J\u001b[32mSampling:\u001b[0m 100% (1/1), done.\n"
     ]
    }
   ],
   "source": [
    "data['integrand']=4\n",
    "bivbeta_density = stan.build(model, data)\n",
    "fit = bivbeta_density.fixed_param(num_chains=1, num_samples=1)\n",
    "quantities_stan = fit['log_density']"
   ]
  },
  {
   "cell_type": "markdown",
   "metadata": {},
   "source": [
    "We want to compare with the Appell F1 implementation in Python. Both are numerical approximations to the true value, however the implementation below is more robust. "
   ]
  },
  {
   "cell_type": "code",
   "execution_count": 11,
   "metadata": {},
   "outputs": [],
   "source": [
    "biv_beta_object = BivariateBeta(alpha=alpha)\n",
    "quantities_scipy = np.array([np.log(float(biv_beta_object.pdf_appell(XY[i,0], XY[i,1]))) for i in range(n)]).reshape(-1,1)"
   ]
  },
  {
   "cell_type": "markdown",
   "metadata": {},
   "source": [
    "The maximum percentage error is"
   ]
  },
  {
   "cell_type": "code",
   "execution_count": 15,
   "metadata": {},
   "outputs": [
    {
     "data": {
      "text/plain": [
       "1.3830862310777245e-14"
      ]
     },
     "execution_count": 15,
     "metadata": {},
     "output_type": "execute_result"
    }
   ],
   "source": [
    "np.max(np.abs(quantities_scipy - quantities_stan)/quantities_scipy)"
   ]
  },
  {
   "cell_type": "markdown",
   "metadata": {},
   "source": [
    "## Stan model"
   ]
  },
  {
   "cell_type": "code",
   "execution_count": 16,
   "metadata": {},
   "outputs": [],
   "source": [
    "filename = '../scripts/bivariate-beta-model.stan'"
   ]
  },
  {
   "cell_type": "markdown",
   "metadata": {},
   "source": [
    "Generating data."
   ]
  },
  {
   "cell_type": "code",
   "execution_count": 61,
   "metadata": {},
   "outputs": [],
   "source": [
    "alpha = np.array([1,1,1,1])\n",
    "n = 50\n",
    "U = np.random.dirichlet(alpha, size=n)\n",
    "X = U[:,0] + U[:,1]\n",
    "Y = U[:,0] + U[:,2]\n",
    "XY = np.column_stack([X,Y])\n",
    "\n",
    "a = np.array([1,1,1,1])\n",
    "b = np.array([1,1,1,1])\n",
    "\n",
    "data = {'n': n, 'xy': XY, 'a': a, 'b': b, 'tolerance': 1e-8}"
   ]
  },
  {
   "cell_type": "code",
   "execution_count": 63,
   "metadata": {},
   "outputs": [
    {
     "name": "stderr",
     "output_type": "stream",
     "text": [
      "\u001b[32mBuilding:\u001b[0m found in cache, done.\n",
      "\u001b[36mMessages from \u001b[0m\u001b[36;1mstanc\u001b[0m\u001b[36m:\u001b[0m\n",
      "Warning in '/tmp/httpstan_xz6pxvrk/model_z5odsxxc.stan', line 41, column 31: The\n",
      "    variable integrand may not have been assigned a value before its use.\n",
      "Warning: The parameter alpha has no priors.\n"
     ]
    }
   ],
   "source": [
    "with open(filename) as f:\n",
    "    model = f.read()\n",
    "\n",
    "bivbeta_model = stan.build(model, data)"
   ]
  },
  {
   "cell_type": "markdown",
   "metadata": {},
   "source": [
    "Sampling"
   ]
  },
  {
   "cell_type": "code",
   "execution_count": 64,
   "metadata": {},
   "outputs": [
    {
     "name": "stderr",
     "output_type": "stream",
     "text": [
      "\u001b[36mSampling:\u001b[0m   0%\n",
      "\u001b[1A\u001b[0J\u001b[36mSampling:\u001b[0m   0% (1/8000)\n",
      "\u001b[1A\u001b[0J\u001b[36mSampling:\u001b[0m   0% (2/8000)\n",
      "\u001b[1A\u001b[0J\u001b[36mSampling:\u001b[0m   0% (3/8000)\n",
      "\u001b[1A\u001b[0J\u001b[36mSampling:\u001b[0m   0% (4/8000)\n",
      "\u001b[1A\u001b[0J\u001b[36mSampling:\u001b[0m   1% (103/8000)\n",
      "\u001b[1A\u001b[0J\u001b[36mSampling:\u001b[0m   3% (202/8000)\n",
      "\u001b[1A\u001b[0J\u001b[36mSampling:\u001b[0m   4% (301/8000)\n",
      "\u001b[1A\u001b[0J\u001b[36mSampling:\u001b[0m   5% (400/8000)\n",
      "\u001b[1A\u001b[0J\u001b[36mSampling:\u001b[0m   6% (500/8000)\n",
      "\u001b[1A\u001b[0J\u001b[36mSampling:\u001b[0m   8% (600/8000)\n",
      "\u001b[1A\u001b[0J\u001b[36mSampling:\u001b[0m   9% (700/8000)\n",
      "\u001b[1A\u001b[0J\u001b[36mSampling:\u001b[0m  10% (800/8000)\n",
      "\u001b[1A\u001b[0J\u001b[36mSampling:\u001b[0m  11% (900/8000)\n",
      "\u001b[1A\u001b[0J\u001b[36mSampling:\u001b[0m  12% (1000/8000)\n",
      "\u001b[1A\u001b[0J\u001b[36mSampling:\u001b[0m  14% (1100/8000)\n",
      "\u001b[1A\u001b[0J\u001b[36mSampling:\u001b[0m  15% (1200/8000)\n",
      "\u001b[1A\u001b[0J\u001b[36mSampling:\u001b[0m  16% (1300/8000)\n",
      "\u001b[1A\u001b[0J\u001b[36mSampling:\u001b[0m  18% (1400/8000)\n",
      "\u001b[1A\u001b[0J\u001b[36mSampling:\u001b[0m  19% (1500/8000)\n",
      "\u001b[1A\u001b[0J\u001b[36mSampling:\u001b[0m  20% (1600/8000)\n",
      "\u001b[1A\u001b[0J\u001b[36mSampling:\u001b[0m  21% (1700/8000)\n",
      "\u001b[1A\u001b[0J\u001b[36mSampling:\u001b[0m  22% (1800/8000)\n",
      "\u001b[1A\u001b[0J\u001b[36mSampling:\u001b[0m  24% (1900/8000)\n",
      "\u001b[1A\u001b[0J\u001b[36mSampling:\u001b[0m  25% (2000/8000)\n",
      "\u001b[1A\u001b[0J\u001b[36mSampling:\u001b[0m  26% (2100/8000)\n",
      "\u001b[1A\u001b[0J\u001b[36mSampling:\u001b[0m  28% (2200/8000)\n",
      "\u001b[1A\u001b[0J\u001b[36mSampling:\u001b[0m  29% (2300/8000)\n",
      "\u001b[1A\u001b[0J\u001b[36mSampling:\u001b[0m  30% (2400/8000)\n",
      "\u001b[1A\u001b[0J\u001b[36mSampling:\u001b[0m  31% (2500/8000)\n",
      "\u001b[1A\u001b[0J\u001b[36mSampling:\u001b[0m  32% (2600/8000)\n",
      "\u001b[1A\u001b[0J\u001b[36mSampling:\u001b[0m  34% (2700/8000)\n",
      "\u001b[1A\u001b[0J\u001b[36mSampling:\u001b[0m  35% (2800/8000)\n",
      "\u001b[1A\u001b[0J\u001b[36mSampling:\u001b[0m  36% (2900/8000)\n",
      "\u001b[1A\u001b[0J\u001b[36mSampling:\u001b[0m  38% (3000/8000)\n",
      "\u001b[1A\u001b[0J\u001b[36mSampling:\u001b[0m  39% (3100/8000)\n",
      "\u001b[1A\u001b[0J\u001b[36mSampling:\u001b[0m  40% (3200/8000)\n",
      "\u001b[1A\u001b[0J\u001b[36mSampling:\u001b[0m  41% (3300/8000)\n",
      "\u001b[1A\u001b[0J\u001b[36mSampling:\u001b[0m  42% (3400/8000)\n",
      "\u001b[1A\u001b[0J\u001b[36mSampling:\u001b[0m  44% (3500/8000)\n",
      "\u001b[1A\u001b[0J\u001b[36mSampling:\u001b[0m  45% (3600/8000)\n",
      "\u001b[1A\u001b[0J\u001b[36mSampling:\u001b[0m  46% (3700/8000)\n",
      "\u001b[1A\u001b[0J\u001b[36mSampling:\u001b[0m  48% (3800/8000)\n",
      "\u001b[1A\u001b[0J\u001b[36mSampling:\u001b[0m  48% (3801/8000)\n",
      "\u001b[1A\u001b[0J\u001b[36mSampling:\u001b[0m  48% (3802/8000)\n",
      "\u001b[1A\u001b[0J\u001b[36mSampling:\u001b[0m  49% (3902/8000)\n",
      "\u001b[1A\u001b[0J\u001b[36mSampling:\u001b[0m  49% (3903/8000)\n",
      "\u001b[1A\u001b[0J\u001b[36mSampling:\u001b[0m  50% (4003/8000)\n",
      "\u001b[1A\u001b[0J\u001b[36mSampling:\u001b[0m  50% (4004/8000)\n",
      "\u001b[1A\u001b[0J\u001b[36mSampling:\u001b[0m  51% (4103/8000)\n",
      "\u001b[1A\u001b[0J\u001b[36mSampling:\u001b[0m  53% (4202/8000)\n",
      "\u001b[1A\u001b[0J\u001b[36mSampling:\u001b[0m  54% (4301/8000)\n",
      "\u001b[1A\u001b[0J\u001b[36mSampling:\u001b[0m  55% (4400/8000)\n",
      "\u001b[1A\u001b[0J\u001b[36mSampling:\u001b[0m  56% (4500/8000)\n",
      "\u001b[1A\u001b[0J\u001b[36mSampling:\u001b[0m  58% (4600/8000)\n",
      "\u001b[1A\u001b[0J\u001b[36mSampling:\u001b[0m  59% (4700/8000)\n",
      "\u001b[1A\u001b[0J\u001b[36mSampling:\u001b[0m  60% (4800/8000)\n",
      "\u001b[1A\u001b[0J\u001b[36mSampling:\u001b[0m  61% (4900/8000)\n",
      "\u001b[1A\u001b[0J\u001b[36mSampling:\u001b[0m  62% (5000/8000)\n",
      "\u001b[1A\u001b[0J\u001b[36mSampling:\u001b[0m  64% (5100/8000)\n",
      "\u001b[1A\u001b[0J\u001b[36mSampling:\u001b[0m  65% (5200/8000)\n",
      "\u001b[1A\u001b[0J\u001b[36mSampling:\u001b[0m  66% (5300/8000)\n",
      "\u001b[1A\u001b[0J\u001b[36mSampling:\u001b[0m  68% (5400/8000)\n",
      "\u001b[1A\u001b[0J\u001b[36mSampling:\u001b[0m  69% (5500/8000)\n",
      "\u001b[1A\u001b[0J\u001b[36mSampling:\u001b[0m  70% (5600/8000)\n",
      "\u001b[1A\u001b[0J\u001b[36mSampling:\u001b[0m  71% (5700/8000)\n",
      "\u001b[1A\u001b[0J\u001b[36mSampling:\u001b[0m  72% (5800/8000)\n",
      "\u001b[1A\u001b[0J\u001b[36mSampling:\u001b[0m  74% (5900/8000)\n",
      "\u001b[1A\u001b[0J\u001b[36mSampling:\u001b[0m  75% (6000/8000)\n",
      "\u001b[1A\u001b[0J\u001b[36mSampling:\u001b[0m  76% (6100/8000)\n",
      "\u001b[1A\u001b[0J\u001b[36mSampling:\u001b[0m  78% (6200/8000)\n",
      "\u001b[1A\u001b[0J\u001b[36mSampling:\u001b[0m  79% (6300/8000)\n",
      "\u001b[1A\u001b[0J\u001b[36mSampling:\u001b[0m  80% (6400/8000)\n",
      "\u001b[1A\u001b[0J\u001b[36mSampling:\u001b[0m  81% (6500/8000)\n",
      "\u001b[1A\u001b[0J\u001b[36mSampling:\u001b[0m  82% (6600/8000)\n",
      "\u001b[1A\u001b[0J\u001b[36mSampling:\u001b[0m  84% (6700/8000)\n",
      "\u001b[1A\u001b[0J\u001b[36mSampling:\u001b[0m  85% (6800/8000)\n",
      "\u001b[1A\u001b[0J\u001b[36mSampling:\u001b[0m  86% (6900/8000)\n",
      "\u001b[1A\u001b[0J\u001b[36mSampling:\u001b[0m  88% (7000/8000)\n",
      "\u001b[1A\u001b[0J\u001b[36mSampling:\u001b[0m  89% (7100/8000)\n",
      "\u001b[1A\u001b[0J\u001b[36mSampling:\u001b[0m  90% (7200/8000)\n",
      "\u001b[1A\u001b[0J\u001b[36mSampling:\u001b[0m  91% (7300/8000)\n",
      "\u001b[1A\u001b[0J\u001b[36mSampling:\u001b[0m  92% (7400/8000)\n",
      "\u001b[1A\u001b[0J\u001b[36mSampling:\u001b[0m  94% (7500/8000)\n",
      "\u001b[1A\u001b[0J\u001b[36mSampling:\u001b[0m  95% (7600/8000)\n",
      "\u001b[1A\u001b[0J\u001b[36mSampling:\u001b[0m  96% (7700/8000)\n",
      "\u001b[1A\u001b[0J\u001b[36mSampling:\u001b[0m  98% (7800/8000)\n",
      "\u001b[1A\u001b[0J\u001b[36mSampling:\u001b[0m  99% (7900/8000)\n",
      "\u001b[1A\u001b[0J\u001b[36mSampling:\u001b[0m 100% (8000/8000)\n",
      "\u001b[1A\u001b[0J\u001b[32mSampling:\u001b[0m 100% (8000/8000), done.\n",
      "\u001b[36mMessages received during sampling:\u001b[0m\n",
      "  Gradient evaluation took 0.040027 seconds\n",
      "  1000 transitions using 10 leapfrog steps per transition would take 400.27 seconds.\n",
      "  Adjust your expectations accordingly!\n",
      "  Informational Message: The current Metropolis proposal is about to be rejected because of the following issue:\n",
      "  Exception: Exception: integrate: error estimate of integral 1.51883e-07 exceeds the given relative tolerance times norm of integral (in '/tmp/httpstan_cgx0on4v/model_z5odsxxc.stan', line 41, column 7 to column 102) (in '/tmp/httpstan_cgx0on4v/model_z5odsxxc.stan', line 68, column 8 to column 72)\n",
      "  If this warning occurs sporadically, such as for highly constrained variable types like covariance matrices, then the sampler is fine,\n",
      "  but if this warning occurs often then your model may be either severely ill-conditioned or misspecified.\n",
      "  Informational Message: The current Metropolis proposal is about to be rejected because of the following issue:\n",
      "  Exception: Exception: integrate: error estimate of integral 0.0131241 exceeds the given relative tolerance times norm of integral (in '/tmp/httpstan_cgx0on4v/model_z5odsxxc.stan', line 41, column 7 to column 102) (in '/tmp/httpstan_cgx0on4v/model_z5odsxxc.stan', line 68, column 8 to column 72)\n",
      "  If this warning occurs sporadically, such as for highly constrained variable types like covariance matrices, then the sampler is fine,\n",
      "  but if this warning occurs often then your model may be either severely ill-conditioned or misspecified.\n",
      "  Informational Message: The current Metropolis proposal is about to be rejected because of the following issue:\n",
      "  Exception: Exception: integrate: error estimate of integral 1.78776e-18 exceeds the given relative tolerance times norm of integral (in '/tmp/httpstan_cgx0on4v/model_z5odsxxc.stan', line 41, column 7 to column 102) (in '/tmp/httpstan_cgx0on4v/model_z5odsxxc.stan', line 68, column 8 to column 72)\n",
      "  If this warning occurs sporadically, such as for highly constrained variable types like covariance matrices, then the sampler is fine,\n",
      "  but if this warning occurs often then your model may be either severely ill-conditioned or misspecified.\n",
      "  Informational Message: The current Metropolis proposal is about to be rejected because of the following issue:\n",
      "  Exception: Exception: integrate: error estimate of integral 4.8131e-05 exceeds the given relative tolerance times norm of integral (in '/tmp/httpstan_cgx0on4v/model_z5odsxxc.stan', line 41, column 7 to column 102) (in '/tmp/httpstan_cgx0on4v/model_z5odsxxc.stan', line 68, column 8 to column 72)\n",
      "  If this warning occurs sporadically, such as for highly constrained variable types like covariance matrices, then the sampler is fine,\n",
      "  but if this warning occurs often then your model may be either severely ill-conditioned or misspecified.\n",
      "  Gradient evaluation took 0.041255 seconds\n",
      "  1000 transitions using 10 leapfrog steps per transition would take 412.55 seconds.\n",
      "  Adjust your expectations accordingly!\n",
      "  Informational Message: The current Metropolis proposal is about to be rejected because of the following issue:\n",
      "  Exception: Exception: integrate: error estimate of integral 2.56044e-58 exceeds the given relative tolerance times norm of integral (in '/tmp/httpstan_cgx0on4v/model_z5odsxxc.stan', line 41, column 7 to column 102) (in '/tmp/httpstan_cgx0on4v/model_z5odsxxc.stan', line 68, column 8 to column 72)\n",
      "  If this warning occurs sporadically, such as for highly constrained variable types like covariance matrices, then the sampler is fine,\n",
      "  but if this warning occurs often then your model may be either severely ill-conditioned or misspecified.\n",
      "  Informational Message: The current Metropolis proposal is about to be rejected because of the following issue:\n",
      "  Exception: Exception: integrate: error estimate of integral 0.000148076 exceeds the given relative tolerance times norm of integral (in '/tmp/httpstan_cgx0on4v/model_z5odsxxc.stan', line 41, column 7 to column 102) (in '/tmp/httpstan_cgx0on4v/model_z5odsxxc.stan', line 68, column 8 to column 72)\n",
      "  If this warning occurs sporadically, such as for highly constrained variable types like covariance matrices, then the sampler is fine,\n",
      "  but if this warning occurs often then your model may be either severely ill-conditioned or misspecified.\n",
      "  Informational Message: The current Metropolis proposal is about to be rejected because of the following issue:\n",
      "  Exception: Exception: integrate: error estimate of integral 1.08218e-08 exceeds the given relative tolerance times norm of integral (in '/tmp/httpstan_cgx0on4v/model_z5odsxxc.stan', line 41, column 7 to column 102) (in '/tmp/httpstan_cgx0on4v/model_z5odsxxc.stan', line 68, column 8 to column 72)\n",
      "  If this warning occurs sporadically, such as for highly constrained variable types like covariance matrices, then the sampler is fine,\n",
      "  but if this warning occurs often then your model may be either severely ill-conditioned or misspecified.\n",
      "  Informational Message: The current Metropolis proposal is about to be rejected because of the following issue:\n",
      "  Exception: Exception: integrate: error estimate of integral 0.0300124 exceeds the given relative tolerance times norm of integral (in '/tmp/httpstan_cgx0on4v/model_z5odsxxc.stan', line 41, column 7 to column 102) (in '/tmp/httpstan_cgx0on4v/model_z5odsxxc.stan', line 68, column 8 to column 72)\n",
      "  If this warning occurs sporadically, such as for highly constrained variable types like covariance matrices, then the sampler is fine,\n",
      "  but if this warning occurs often then your model may be either severely ill-conditioned or misspecified.\n",
      "  Informational Message: The current Metropolis proposal is about to be rejected because of the following issue:\n",
      "  Exception: Exception: integrate: error estimate of integral 7.69261e-07 exceeds the given relative tolerance times norm of integral (in '/tmp/httpstan_cgx0on4v/model_z5odsxxc.stan', line 41, column 7 to column 102) (in '/tmp/httpstan_cgx0on4v/model_z5odsxxc.stan', line 68, column 8 to column 72)\n",
      "  If this warning occurs sporadically, such as for highly constrained variable types like covariance matrices, then the sampler is fine,\n",
      "  but if this warning occurs often then your model may be either severely ill-conditioned or misspecified.\n",
      "  Informational Message: The current Metropolis proposal is about to be rejected because of the following issue:\n",
      "  Exception: Exception: integrate: error estimate of integral 5.13379e-10 exceeds the given relative tolerance times norm of integral (in '/tmp/httpstan_cgx0on4v/model_z5odsxxc.stan', line 41, column 7 to column 102) (in '/tmp/httpstan_cgx0on4v/model_z5odsxxc.stan', line 68, column 8 to column 72)\n",
      "  If this warning occurs sporadically, such as for highly constrained variable types like covariance matrices, then the sampler is fine,\n",
      "  but if this warning occurs often then your model may be either severely ill-conditioned or misspecified.\n",
      "  Informational Message: The current Metropolis proposal is about to be rejected because of the following issue:\n",
      "  Exception: Exception: integrate: error estimate of integral 1.34519e-316 exceeds the given relative tolerance times norm of integral (in '/tmp/httpstan_cgx0on4v/model_z5odsxxc.stan', line 41, column 7 to column 102) (in '/tmp/httpstan_cgx0on4v/model_z5odsxxc.stan', line 68, column 8 to column 72)\n",
      "  If this warning occurs sporadically, such as for highly constrained variable types like covariance matrices, then the sampler is fine,\n",
      "  but if this warning occurs often then your model may be either severely ill-conditioned or misspecified.\n",
      "  Gradient evaluation took 0.021874 seconds\n",
      "  1000 transitions using 10 leapfrog steps per transition would take 218.74 seconds.\n",
      "  Adjust your expectations accordingly!\n",
      "  Informational Message: The current Metropolis proposal is about to be rejected because of the following issue:\n",
      "  Exception: Exception: integrate: error estimate of integral 6.76386e-07 exceeds the given relative tolerance times norm of integral (in '/tmp/httpstan_cgx0on4v/model_z5odsxxc.stan', line 41, column 7 to column 102) (in '/tmp/httpstan_cgx0on4v/model_z5odsxxc.stan', line 68, column 8 to column 72)\n",
      "  If this warning occurs sporadically, such as for highly constrained variable types like covariance matrices, then the sampler is fine,\n",
      "  but if this warning occurs often then your model may be either severely ill-conditioned or misspecified.\n",
      "  Informational Message: The current Metropolis proposal is about to be rejected because of the following issue:\n",
      "  Exception: Exception: integrate: error estimate of integral 7.13782e-10 exceeds the given relative tolerance times norm of integral (in '/tmp/httpstan_cgx0on4v/model_z5odsxxc.stan', line 41, column 7 to column 102) (in '/tmp/httpstan_cgx0on4v/model_z5odsxxc.stan', line 68, column 8 to column 72)\n",
      "  If this warning occurs sporadically, such as for highly constrained variable types like covariance matrices, then the sampler is fine,\n",
      "  but if this warning occurs often then your model may be either severely ill-conditioned or misspecified.\n",
      "  Informational Message: The current Metropolis proposal is about to be rejected because of the following issue:\n",
      "  Exception: Exception: integrate: error estimate of integral 1.98891e-05 exceeds the given relative tolerance times norm of integral (in '/tmp/httpstan_cgx0on4v/model_z5odsxxc.stan', line 41, column 7 to column 102) (in '/tmp/httpstan_cgx0on4v/model_z5odsxxc.stan', line 68, column 8 to column 72)\n",
      "  If this warning occurs sporadically, such as for highly constrained variable types like covariance matrices, then the sampler is fine,\n",
      "  but if this warning occurs often then your model may be either severely ill-conditioned or misspecified.\n",
      "  Informational Message: The current Metropolis proposal is about to be rejected because of the following issue:\n",
      "  Exception: Exception: integrate: error estimate of integral 0.000827733 exceeds the given relative tolerance times norm of integral (in '/tmp/httpstan_cgx0on4v/model_z5odsxxc.stan', line 41, column 7 to column 102) (in '/tmp/httpstan_cgx0on4v/model_z5odsxxc.stan', line 68, column 8 to column 72)\n",
      "  If this warning occurs sporadically, such as for highly constrained variable types like covariance matrices, then the sampler is fine,\n",
      "  but if this warning occurs often then your model may be either severely ill-conditioned or misspecified.\n",
      "  Informational Message: The current Metropolis proposal is about to be rejected because of the following issue:\n",
      "  Exception: Exception: integrate: error estimate of integral 1.82565 exceeds the given relative tolerance times norm of integral (in '/tmp/httpstan_cgx0on4v/model_z5odsxxc.stan', line 41, column 7 to column 102) (in '/tmp/httpstan_cgx0on4v/model_z5odsxxc.stan', line 68, column 8 to column 72)\n",
      "  If this warning occurs sporadically, such as for highly constrained variable types like covariance matrices, then the sampler is fine,\n",
      "  but if this warning occurs often then your model may be either severely ill-conditioned or misspecified.\n",
      "  Informational Message: The current Metropolis proposal is about to be rejected because of the following issue:\n",
      "  Exception: Exception: integrate: error estimate of integral 1.05567e-05 exceeds the given relative tolerance times norm of integral (in '/tmp/httpstan_cgx0on4v/model_z5odsxxc.stan', line 41, column 7 to column 102) (in '/tmp/httpstan_cgx0on4v/model_z5odsxxc.stan', line 68, column 8 to column 72)\n",
      "  If this warning occurs sporadically, such as for highly constrained variable types like covariance matrices, then the sampler is fine,\n",
      "  but if this warning occurs often then your model may be either severely ill-conditioned or misspecified.\n",
      "  Gradient evaluation took 0.03837 seconds\n",
      "  1000 transitions using 10 leapfrog steps per transition would take 383.7 seconds.\n",
      "  Adjust your expectations accordingly!\n",
      "  Informational Message: The current Metropolis proposal is about to be rejected because of the following issue:\n",
      "  Exception: Exception: integrate: error estimate of integral 0.000252031 exceeds the given relative tolerance times norm of integral (in '/tmp/httpstan_cgx0on4v/model_z5odsxxc.stan', line 41, column 7 to column 102) (in '/tmp/httpstan_cgx0on4v/model_z5odsxxc.stan', line 68, column 8 to column 72)\n",
      "  If this warning occurs sporadically, such as for highly constrained variable types like covariance matrices, then the sampler is fine,\n",
      "  but if this warning occurs often then your model may be either severely ill-conditioned or misspecified.\n",
      "  Informational Message: The current Metropolis proposal is about to be rejected because of the following issue:\n",
      "  Exception: Exception: integrate: error estimate of integral 0.0033165 exceeds the given relative tolerance times norm of integral (in '/tmp/httpstan_cgx0on4v/model_z5odsxxc.stan', line 41, column 7 to column 102) (in '/tmp/httpstan_cgx0on4v/model_z5odsxxc.stan', line 68, column 8 to column 72)\n",
      "  If this warning occurs sporadically, such as for highly constrained variable types like covariance matrices, then the sampler is fine,\n",
      "  but if this warning occurs often then your model may be either severely ill-conditioned or misspecified.\n",
      "  Informational Message: The current Metropolis proposal is about to be rejected because of the following issue:\n",
      "  Exception: Exception: integrate: error estimate of integral 0.0569681 exceeds the given relative tolerance times norm of integral (in '/tmp/httpstan_cgx0on4v/model_z5odsxxc.stan', line 41, column 7 to column 102) (in '/tmp/httpstan_cgx0on4v/model_z5odsxxc.stan', line 68, column 8 to column 72)\n",
      "  If this warning occurs sporadically, such as for highly constrained variable types like covariance matrices, then the sampler is fine,\n",
      "  but if this warning occurs often then your model may be either severely ill-conditioned or misspecified.\n",
      "  Informational Message: The current Metropolis proposal is about to be rejected because of the following issue:\n",
      "  Exception: Exception: integrate: error estimate of integral 1.41714 exceeds the given relative tolerance times norm of integral (in '/tmp/httpstan_cgx0on4v/model_z5odsxxc.stan', line 41, column 7 to column 102) (in '/tmp/httpstan_cgx0on4v/model_z5odsxxc.stan', line 68, column 8 to column 72)\n",
      "  If this warning occurs sporadically, such as for highly constrained variable types like covariance matrices, then the sampler is fine,\n",
      "  but if this warning occurs often then your model may be either severely ill-conditioned or misspecified.\n",
      "  Informational Message: The current Metropolis proposal is about to be rejected because of the following issue:\n",
      "  Exception: Exception: integrate: error estimate of integral 0.0991258 exceeds the given relative tolerance times norm of integral (in '/tmp/httpstan_cgx0on4v/model_z5odsxxc.stan', line 41, column 7 to column 102) (in '/tmp/httpstan_cgx0on4v/model_z5odsxxc.stan', line 68, column 8 to column 72)\n",
      "  If this warning occurs sporadically, such as for highly constrained variable types like covariance matrices, then the sampler is fine,\n",
      "  but if this warning occurs often then your model may be either severely ill-conditioned or misspecified.\n",
      "  Informational Message: The current Metropolis proposal is about to be rejected because of the following issue:\n",
      "  Exception: Exception: integrate: error estimate of integral 1.02621e-05 exceeds the given relative tolerance times norm of integral (in '/tmp/httpstan_cgx0on4v/model_z5odsxxc.stan', line 41, column 7 to column 102) (in '/tmp/httpstan_cgx0on4v/model_z5odsxxc.stan', line 68, column 8 to column 72)\n",
      "  If this warning occurs sporadically, such as for highly constrained variable types like covariance matrices, then the sampler is fine,\n",
      "  but if this warning occurs often then your model may be either severely ill-conditioned or misspecified.\n",
      "  Informational Message: The current Metropolis proposal is about to be rejected because of the following issue:\n",
      "  Exception: Exception: integrate: error estimate of integral 3.88254e-08 exceeds the given relative tolerance times norm of integral (in '/tmp/httpstan_cgx0on4v/model_z5odsxxc.stan', line 41, column 7 to column 102) (in '/tmp/httpstan_cgx0on4v/model_z5odsxxc.stan', line 68, column 8 to column 72)\n",
      "  If this warning occurs sporadically, such as for highly constrained variable types like covariance matrices, then the sampler is fine,\n",
      "  but if this warning occurs often then your model may be either severely ill-conditioned or misspecified.\n"
     ]
    }
   ],
   "source": [
    "model_fit = bivbeta_model.sample(num_chains=4, num_samples=1000)"
   ]
  },
  {
   "cell_type": "code",
   "execution_count": 67,
   "metadata": {},
   "outputs": [
    {
     "name": "stdout",
     "output_type": "stream",
     "text": [
      "[0.80598714 1.03843482 0.99042469 0.91154168]\n",
      "[0.81123072 1.04270837 0.99755572 0.91654255]\n"
     ]
    }
   ],
   "source": [
    "print(np.quantile(model_fit['alpha'], axis=1, q=0.5))\n",
    "print(model_fit['alpha'].mean(axis=1))"
   ]
  },
  {
   "cell_type": "code",
   "execution_count": 78,
   "metadata": {},
   "outputs": [
    {
     "data": {
      "text/plain": [
       "ValuesView(<stan.Fit>\n",
       "Parameters:\n",
       "    alpha: (4,)\n",
       "Draws: 4000)"
      ]
     },
     "execution_count": 78,
     "metadata": {},
     "output_type": "execute_result"
    }
   ],
   "source": [
    "model_fit.values()"
   ]
  },
  {
   "cell_type": "code",
   "execution_count": null,
   "metadata": {},
   "outputs": [],
   "source": []
  }
 ],
 "metadata": {
  "interpreter": {
   "hash": "63638139854e329365b4222387bbd31424a6edfb77acb40ed96a5a7629ade7cc"
  },
  "kernelspec": {
   "display_name": "project-beta",
   "language": "python",
   "name": "project-beta"
  },
  "language_info": {
   "codemirror_mode": {
    "name": "ipython",
    "version": 3
   },
   "file_extension": ".py",
   "mimetype": "text/x-python",
   "name": "python",
   "nbconvert_exporter": "python",
   "pygments_lexer": "ipython3",
   "version": "3.10.4"
  }
 },
 "nbformat": 4,
 "nbformat_minor": 4
}
