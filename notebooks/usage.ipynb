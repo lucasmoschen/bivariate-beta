{
 "cells": [
  {
   "cell_type": "markdown",
   "id": "e7938273",
   "metadata": {},
   "source": [
    "# Usage of the codes \n",
    "\n",
    "This notebook uses a dataset to present the main function from the class `BivariateBeta` from the `parameter_estimation.py` file."
   ]
  },
  {
   "cell_type": "code",
   "execution_count": 1,
   "id": "bc916671",
   "metadata": {},
   "outputs": [],
   "source": [
    "import pandas as pd\n",
    "import numpy as np\n",
    "import matplotlib.pyplot as plt\n",
    "import re\n",
    "\n",
    "from cmdstanpy import cmdstan_path, CmdStanModel, set_cmdstan_path, install_cmdstan\n",
    "\n",
    "import matplotlib.pyplot as plt\n",
    "import matplotlib\n",
    "import seaborn as sns\n",
    "import arviz as az\n",
    "plt.style.use('science')\n",
    "\n",
    "import sys\n",
    "import os\n",
    "sys.path.append('../scripts/python')\n",
    "\n",
    "from parameter_estimation import BivariateBeta"
   ]
  },
  {
   "cell_type": "markdown",
   "id": "6d8d6354",
   "metadata": {},
   "source": [
    "Some pre sets:"
   ]
  },
  {
   "cell_type": "code",
   "execution_count": 58,
   "id": "3f48acb1",
   "metadata": {},
   "outputs": [
    {
     "name": "stderr",
     "output_type": "stream",
     "text": [
      "17:20:45 - cmdstanpy - INFO - compiling stan file /home/lucasmoschen/Documents/github/bivariate-beta/scripts/stan/bivariate-beta-model-v3.stan to exe file /home/lucasmoschen/Documents/github/bivariate-beta/scripts/stan/bivariate-beta-model-v3\n",
      "17:21:03 - cmdstanpy - INFO - compiled model executable: /home/lucasmoschen/Documents/github/bivariate-beta/scripts/stan/bivariate-beta-model-v3\n"
     ]
    }
   ],
   "source": [
    "folder = '../data/covid_tests_data/'\n",
    "filter_func = lambda i: lambda x: float(re.findall('[0-9].[0-9][0-9]', x.replace(',', '.'))[i])\n",
    "\n",
    "set_cmdstan_path('/home/lucasmoschen/anaconda3/envs/project-beta/bin/cmdstan')\n",
    "\n",
    "stanfile = os.path.join('..', 'scripts', 'stan', 'bivariate-beta-model-v3.stan')\n",
    "model = CmdStanModel(stan_file=stanfile, cpp_options={'STAN_THREADS': True})"
   ]
  },
  {
   "cell_type": "markdown",
   "id": "269e20d4",
   "metadata": {},
   "source": [
    "## The data: Accuracy of diagnostic tests registered by ANVISA for COVID-19\n",
    "\n",
    "A documentary investigation was carried out utilizing the information provided by manufacturers during their registration with Anvisa. \n",
    "The diagnostic tests recorded with Anvisa up to June 23, 2020, during the data collection period, were scrutinized through the use of the following link: [https://consultas.anvisa.gov.br/#/saude/q/?nomeTecnico=coronav%C3%ADrus](https://consultas.anvisa.gov.br/#/saude/q/?nomeTecnico=coronav%C3%ADrus).\n",
    "\n",
    "The data that was registered with Anvisa during the time of registration was retrieved from the Agency's website, specifically from the General Management of Health Product Technology (GGTPS) for in vitro diagnosis. \n",
    "To present the data in a structured format, a standard table created by the authors was employed, gathering essential information such as: i) company/importer; ii) manufacturer/country; iii) sample; iv) whether it was classified as a quick test v) Anvisa registration number; vi) sensitivity/specificity data presented by the manufacturer. \n",
    "The information provided by the manufacturers during their registration with Anvisa was then used to generate graphs displaying the sensitivity and specificity of the diagnostic tests.\n",
    "\n",
    "The data provided by the manufacturers were plotted in the figures presented to illustrate the IgG and/or IgM sensitivity and specificity of the tests:\n",
    "\n",
    "a) immunochromatographic with blood sample (whole blood, venous whole blood, whole blood via digital puncture or dried blood), human serum or plasma;\n",
    "\n",
    "b) immunochromatographic with secretion nasopharyngeal swab and oropharyngeal swab;\n",
    "\n",
    "c) immunoassay with blood sample (whole blood, venous whole blood, whole blood via finger prick or dried blood), human serum or plasma;\n",
    "\n",
    "d) immunoassay with nasopharyngeal swab and oropharyngeal swab secretion sample;\n",
    "\n",
    "e) qualitative or semi-qualitative detection with blood sample"
   ]
  },
  {
   "cell_type": "code",
   "execution_count": 3,
   "id": "9b48348a",
   "metadata": {},
   "outputs": [],
   "source": [
    "tables = [pd.read_csv(folder+'raw/table_a.csv'),\n",
    "          pd.read_csv(folder+'raw/table_b.csv'),\n",
    "          pd.read_csv(folder+'raw/table_c.csv'),\n",
    "          pd.read_csv(folder+'raw/table_d.csv'),\n",
    "          pd.read_csv(folder+'raw/table_e.csv'),\n",
    "          pd.read_csv(folder+'raw/table_pcr_a.csv'),\n",
    "          pd.read_csv(folder+'raw/table_pcr_b.csv'),\n",
    "          pd.read_csv(folder+'raw/table_pcr_c.csv'),\n",
    "         ]\n",
    "\n",
    "letters = ['a', 'b', 'c', 'd', 'e', 'a_pcr', 'b_pcr', 'c_pcr']\n",
    "for i in range(8):\n",
    "\n",
    "    tables[i]['sensitivity']          = tables[i]['Sensitivity [95% CI]'].apply(filter_func(0))\n",
    "    tables[i]['sensitivity_ci_lower'] = tables[i]['Sensitivity [95% CI]'].apply(filter_func(1))\n",
    "    tables[i]['sensitivity_ci_upper'] = tables[i]['Sensitivity [95% CI]'].apply(filter_func(2))\n",
    "    tables[i]['specificity']          = tables[i]['Specificity [95% CI]'].apply(filter_func(0))\n",
    "    tables[i]['specificity_ci_lower'] = tables[i]['Specificity [95% CI]'].apply(filter_func(1))\n",
    "    tables[i]['specificity_ci_upper'] = tables[i]['Specificity [95% CI]'].apply(filter_func(2))\n",
    "    tables[i]['type']                 = letters[i]\n",
    "    \n",
    "    del tables[i]['Sensitivity [95% CI]']\n",
    "    del tables[i]['Specificity [95% CI]']\n",
    "    \n",
    "df = pd.concat(tables)"
   ]
  },
  {
   "cell_type": "code",
   "execution_count": 4,
   "id": "9587f97e",
   "metadata": {},
   "outputs": [
    {
     "data": {
      "text/html": [
       "<div>\n",
       "<style scoped>\n",
       "    .dataframe tbody tr th:only-of-type {\n",
       "        vertical-align: middle;\n",
       "    }\n",
       "\n",
       "    .dataframe tbody tr th {\n",
       "        vertical-align: top;\n",
       "    }\n",
       "\n",
       "    .dataframe thead th {\n",
       "        text-align: right;\n",
       "    }\n",
       "</style>\n",
       "<table border=\"1\" class=\"dataframe\">\n",
       "  <thead>\n",
       "    <tr style=\"text-align: right;\">\n",
       "      <th></th>\n",
       "      <th>Study</th>\n",
       "      <th>TP</th>\n",
       "      <th>FP</th>\n",
       "      <th>FN</th>\n",
       "      <th>TN</th>\n",
       "      <th>sensitivity</th>\n",
       "      <th>sensitivity_ci_lower</th>\n",
       "      <th>sensitivity_ci_upper</th>\n",
       "      <th>specificity</th>\n",
       "      <th>specificity_ci_lower</th>\n",
       "      <th>specificity_ci_upper</th>\n",
       "      <th>type</th>\n",
       "    </tr>\n",
       "  </thead>\n",
       "  <tbody>\n",
       "    <tr>\n",
       "      <th>0</th>\n",
       "      <td>10071770900</td>\n",
       "      <td>312</td>\n",
       "      <td>1</td>\n",
       "      <td>49</td>\n",
       "      <td>234</td>\n",
       "      <td>0.86</td>\n",
       "      <td>0.82</td>\n",
       "      <td>0.90</td>\n",
       "      <td>1.00</td>\n",
       "      <td>0.98</td>\n",
       "      <td>1.00</td>\n",
       "      <td>a</td>\n",
       "    </tr>\n",
       "    <tr>\n",
       "      <th>1</th>\n",
       "      <td>10071770901</td>\n",
       "      <td>46</td>\n",
       "      <td>3</td>\n",
       "      <td>2</td>\n",
       "      <td>47</td>\n",
       "      <td>0.96</td>\n",
       "      <td>0.86</td>\n",
       "      <td>0.99</td>\n",
       "      <td>0.94</td>\n",
       "      <td>0.83</td>\n",
       "      <td>0.99</td>\n",
       "      <td>a</td>\n",
       "    </tr>\n",
       "    <tr>\n",
       "      <th>2</th>\n",
       "      <td>10210410105</td>\n",
       "      <td>90</td>\n",
       "      <td>3</td>\n",
       "      <td>3</td>\n",
       "      <td>124</td>\n",
       "      <td>0.97</td>\n",
       "      <td>0.91</td>\n",
       "      <td>0.99</td>\n",
       "      <td>0.98</td>\n",
       "      <td>0.93</td>\n",
       "      <td>1.00</td>\n",
       "      <td>a</td>\n",
       "    </tr>\n",
       "    <tr>\n",
       "      <th>3</th>\n",
       "      <td>10310030208</td>\n",
       "      <td>171</td>\n",
       "      <td>12</td>\n",
       "      <td>12</td>\n",
       "      <td>514</td>\n",
       "      <td>0.93</td>\n",
       "      <td>0.89</td>\n",
       "      <td>0.97</td>\n",
       "      <td>0.98</td>\n",
       "      <td>0.96</td>\n",
       "      <td>0.99</td>\n",
       "      <td>a</td>\n",
       "    </tr>\n",
       "    <tr>\n",
       "      <th>4</th>\n",
       "      <td>10342880015</td>\n",
       "      <td>23</td>\n",
       "      <td>2</td>\n",
       "      <td>1</td>\n",
       "      <td>49</td>\n",
       "      <td>0.96</td>\n",
       "      <td>0.79</td>\n",
       "      <td>1.00</td>\n",
       "      <td>0.96</td>\n",
       "      <td>0.87</td>\n",
       "      <td>1.00</td>\n",
       "      <td>a</td>\n",
       "    </tr>\n",
       "    <tr>\n",
       "      <th>...</th>\n",
       "      <td>...</td>\n",
       "      <td>...</td>\n",
       "      <td>...</td>\n",
       "      <td>...</td>\n",
       "      <td>...</td>\n",
       "      <td>...</td>\n",
       "      <td>...</td>\n",
       "      <td>...</td>\n",
       "      <td>...</td>\n",
       "      <td>...</td>\n",
       "      <td>...</td>\n",
       "      <td>...</td>\n",
       "    </tr>\n",
       "    <tr>\n",
       "      <th>11</th>\n",
       "      <td>80867150018</td>\n",
       "      <td>209</td>\n",
       "      <td>10</td>\n",
       "      <td>0</td>\n",
       "      <td>370</td>\n",
       "      <td>1.00</td>\n",
       "      <td>0.98</td>\n",
       "      <td>1.00</td>\n",
       "      <td>0.97</td>\n",
       "      <td>0.95</td>\n",
       "      <td>0.99</td>\n",
       "      <td>a_pcr</td>\n",
       "    </tr>\n",
       "    <tr>\n",
       "      <th>12</th>\n",
       "      <td>80954880134</td>\n",
       "      <td>3</td>\n",
       "      <td>0</td>\n",
       "      <td>0</td>\n",
       "      <td>98</td>\n",
       "      <td>1.00</td>\n",
       "      <td>0.29</td>\n",
       "      <td>1.00</td>\n",
       "      <td>1.00</td>\n",
       "      <td>0.96</td>\n",
       "      <td>1.00</td>\n",
       "      <td>a_pcr</td>\n",
       "    </tr>\n",
       "    <tr>\n",
       "      <th>0</th>\n",
       "      <td>10009010357</td>\n",
       "      <td>60</td>\n",
       "      <td>0</td>\n",
       "      <td>0</td>\n",
       "      <td>60</td>\n",
       "      <td>1.00</td>\n",
       "      <td>0.94</td>\n",
       "      <td>1.00</td>\n",
       "      <td>1.00</td>\n",
       "      <td>0.94</td>\n",
       "      <td>1.00</td>\n",
       "      <td>b_pcr</td>\n",
       "    </tr>\n",
       "    <tr>\n",
       "      <th>1</th>\n",
       "      <td>10223400001</td>\n",
       "      <td>10</td>\n",
       "      <td>0</td>\n",
       "      <td>0</td>\n",
       "      <td>14</td>\n",
       "      <td>1.00</td>\n",
       "      <td>0.69</td>\n",
       "      <td>1.00</td>\n",
       "      <td>1.00</td>\n",
       "      <td>0.77</td>\n",
       "      <td>1.00</td>\n",
       "      <td>b_pcr</td>\n",
       "    </tr>\n",
       "    <tr>\n",
       "      <th>0</th>\n",
       "      <td>80867150015</td>\n",
       "      <td>92</td>\n",
       "      <td>2</td>\n",
       "      <td>14</td>\n",
       "      <td>218</td>\n",
       "      <td>0.87</td>\n",
       "      <td>0.79</td>\n",
       "      <td>0.93</td>\n",
       "      <td>0.99</td>\n",
       "      <td>0.97</td>\n",
       "      <td>1.00</td>\n",
       "      <td>c_pcr</td>\n",
       "    </tr>\n",
       "  </tbody>\n",
       "</table>\n",
       "<p>71 rows × 12 columns</p>\n",
       "</div>"
      ],
      "text/plain": [
       "          Study   TP  FP  FN   TN  sensitivity  sensitivity_ci_lower  \\\n",
       "0   10071770900  312   1  49  234         0.86                  0.82   \n",
       "1   10071770901   46   3   2   47         0.96                  0.86   \n",
       "2   10210410105   90   3   3  124         0.97                  0.91   \n",
       "3   10310030208  171  12  12  514         0.93                  0.89   \n",
       "4   10342880015   23   2   1   49         0.96                  0.79   \n",
       "..          ...  ...  ..  ..  ...          ...                   ...   \n",
       "11  80867150018  209  10   0  370         1.00                  0.98   \n",
       "12  80954880134    3   0   0   98         1.00                  0.29   \n",
       "0   10009010357   60   0   0   60         1.00                  0.94   \n",
       "1   10223400001   10   0   0   14         1.00                  0.69   \n",
       "0   80867150015   92   2  14  218         0.87                  0.79   \n",
       "\n",
       "    sensitivity_ci_upper  specificity  specificity_ci_lower  \\\n",
       "0                   0.90         1.00                  0.98   \n",
       "1                   0.99         0.94                  0.83   \n",
       "2                   0.99         0.98                  0.93   \n",
       "3                   0.97         0.98                  0.96   \n",
       "4                   1.00         0.96                  0.87   \n",
       "..                   ...          ...                   ...   \n",
       "11                  1.00         0.97                  0.95   \n",
       "12                  1.00         1.00                  0.96   \n",
       "0                   1.00         1.00                  0.94   \n",
       "1                   1.00         1.00                  0.77   \n",
       "0                   0.93         0.99                  0.97   \n",
       "\n",
       "    specificity_ci_upper   type  \n",
       "0                   1.00      a  \n",
       "1                   0.99      a  \n",
       "2                   1.00      a  \n",
       "3                   0.99      a  \n",
       "4                   1.00      a  \n",
       "..                   ...    ...  \n",
       "11                  0.99  a_pcr  \n",
       "12                  1.00  a_pcr  \n",
       "0                   1.00  b_pcr  \n",
       "1                   1.00  b_pcr  \n",
       "0                   1.00  c_pcr  \n",
       "\n",
       "[71 rows x 12 columns]"
      ]
     },
     "execution_count": 4,
     "metadata": {},
     "output_type": "execute_result"
    }
   ],
   "source": [
    "df"
   ]
  },
  {
   "cell_type": "code",
   "execution_count": 5,
   "id": "bba22a45",
   "metadata": {},
   "outputs": [
    {
     "data": {
      "image/png": "[encoded data removed]",
      "text/plain": [
       "<Figure size 432x288 with 1 Axes>"
      ]
     },
     "metadata": {
      "needs_background": "light"
     },
     "output_type": "display_data"
    }
   ],
   "source": [
    "plt.scatter(df[~df.type.str.contains('pcr')].sensitivity, df[~df.type.str.contains('pcr')].specificity,\n",
    "            color='blue', label='sorológico')\n",
    "plt.scatter(df[df.type.str.contains('pcr')].sensitivity, df[df.type.str.contains('pcr')].specificity, \n",
    "            color='red', label='PCR')\n",
    "plt.xlabel('sensitivity')\n",
    "plt.ylabel('specificity')\n",
    "plt.legend(loc='lower left')\n",
    "plt.show()"
   ]
  },
  {
   "cell_type": "code",
   "execution_count": 6,
   "id": "b0c66363",
   "metadata": {},
   "outputs": [
    {
     "data": {
      "text/html": [
       "<div>\n",
       "<style scoped>\n",
       "    .dataframe tbody tr th:only-of-type {\n",
       "        vertical-align: middle;\n",
       "    }\n",
       "\n",
       "    .dataframe tbody tr th {\n",
       "        vertical-align: top;\n",
       "    }\n",
       "\n",
       "    .dataframe thead th {\n",
       "        text-align: right;\n",
       "    }\n",
       "</style>\n",
       "<table border=\"1\" class=\"dataframe\">\n",
       "  <thead>\n",
       "    <tr style=\"text-align: right;\">\n",
       "      <th></th>\n",
       "      <th>Study</th>\n",
       "      <th>TP</th>\n",
       "      <th>FP</th>\n",
       "      <th>FN</th>\n",
       "      <th>TN</th>\n",
       "      <th>sensitivity</th>\n",
       "      <th>sensitivity_ci_lower</th>\n",
       "      <th>sensitivity_ci_upper</th>\n",
       "      <th>specificity</th>\n",
       "      <th>specificity_ci_lower</th>\n",
       "      <th>specificity_ci_upper</th>\n",
       "    </tr>\n",
       "  </thead>\n",
       "  <tbody>\n",
       "    <tr>\n",
       "      <th>count</th>\n",
       "      <td>7.100000e+01</td>\n",
       "      <td>71.000000</td>\n",
       "      <td>71.000000</td>\n",
       "      <td>71.000000</td>\n",
       "      <td>71.000000</td>\n",
       "      <td>71.000000</td>\n",
       "      <td>71.000000</td>\n",
       "      <td>71.000000</td>\n",
       "      <td>71.000000</td>\n",
       "      <td>71.000000</td>\n",
       "      <td>71.000000</td>\n",
       "    </tr>\n",
       "    <tr>\n",
       "      <th>mean</th>\n",
       "      <td>5.591396e+10</td>\n",
       "      <td>115.394366</td>\n",
       "      <td>13.971831</td>\n",
       "      <td>7.183099</td>\n",
       "      <td>191.676056</td>\n",
       "      <td>0.946901</td>\n",
       "      <td>0.835070</td>\n",
       "      <td>0.976479</td>\n",
       "      <td>0.942958</td>\n",
       "      <td>0.881127</td>\n",
       "      <td>0.962676</td>\n",
       "    </tr>\n",
       "    <tr>\n",
       "      <th>std</th>\n",
       "      <td>3.390722e+10</td>\n",
       "      <td>97.261427</td>\n",
       "      <td>45.681810</td>\n",
       "      <td>11.856656</td>\n",
       "      <td>212.390192</td>\n",
       "      <td>0.065500</td>\n",
       "      <td>0.174076</td>\n",
       "      <td>0.037037</td>\n",
       "      <td>0.132432</td>\n",
       "      <td>0.154064</td>\n",
       "      <td>0.113187</td>\n",
       "    </tr>\n",
       "    <tr>\n",
       "      <th>min</th>\n",
       "      <td>1.000901e+10</td>\n",
       "      <td>2.000000</td>\n",
       "      <td>0.000000</td>\n",
       "      <td>0.000000</td>\n",
       "      <td>5.000000</td>\n",
       "      <td>0.680000</td>\n",
       "      <td>0.160000</td>\n",
       "      <td>0.820000</td>\n",
       "      <td>0.390000</td>\n",
       "      <td>0.320000</td>\n",
       "      <td>0.440000</td>\n",
       "    </tr>\n",
       "    <tr>\n",
       "      <th>25%</th>\n",
       "      <td>1.034136e+10</td>\n",
       "      <td>49.000000</td>\n",
       "      <td>0.500000</td>\n",
       "      <td>0.000000</td>\n",
       "      <td>60.000000</td>\n",
       "      <td>0.930000</td>\n",
       "      <td>0.820000</td>\n",
       "      <td>0.970000</td>\n",
       "      <td>0.960000</td>\n",
       "      <td>0.890000</td>\n",
       "      <td>0.990000</td>\n",
       "    </tr>\n",
       "    <tr>\n",
       "      <th>50%</th>\n",
       "      <td>8.025802e+10</td>\n",
       "      <td>92.000000</td>\n",
       "      <td>2.000000</td>\n",
       "      <td>3.000000</td>\n",
       "      <td>124.000000</td>\n",
       "      <td>0.970000</td>\n",
       "      <td>0.890000</td>\n",
       "      <td>0.990000</td>\n",
       "      <td>0.980000</td>\n",
       "      <td>0.930000</td>\n",
       "      <td>1.000000</td>\n",
       "    </tr>\n",
       "    <tr>\n",
       "      <th>75%</th>\n",
       "      <td>8.086715e+10</td>\n",
       "      <td>169.000000</td>\n",
       "      <td>9.000000</td>\n",
       "      <td>7.500000</td>\n",
       "      <td>241.000000</td>\n",
       "      <td>1.000000</td>\n",
       "      <td>0.925000</td>\n",
       "      <td>1.000000</td>\n",
       "      <td>1.000000</td>\n",
       "      <td>0.960000</td>\n",
       "      <td>1.000000</td>\n",
       "    </tr>\n",
       "    <tr>\n",
       "      <th>max</th>\n",
       "      <td>8.198451e+10</td>\n",
       "      <td>422.000000</td>\n",
       "      <td>297.000000</td>\n",
       "      <td>49.000000</td>\n",
       "      <td>1364.000000</td>\n",
       "      <td>1.000000</td>\n",
       "      <td>0.980000</td>\n",
       "      <td>1.000000</td>\n",
       "      <td>1.000000</td>\n",
       "      <td>0.990000</td>\n",
       "      <td>1.000000</td>\n",
       "    </tr>\n",
       "  </tbody>\n",
       "</table>\n",
       "</div>"
      ],
      "text/plain": [
       "              Study          TP          FP         FN           TN  \\\n",
       "count  7.100000e+01   71.000000   71.000000  71.000000    71.000000   \n",
       "mean   5.591396e+10  115.394366   13.971831   7.183099   191.676056   \n",
       "std    3.390722e+10   97.261427   45.681810  11.856656   212.390192   \n",
       "min    1.000901e+10    2.000000    0.000000   0.000000     5.000000   \n",
       "25%    1.034136e+10   49.000000    0.500000   0.000000    60.000000   \n",
       "50%    8.025802e+10   92.000000    2.000000   3.000000   124.000000   \n",
       "75%    8.086715e+10  169.000000    9.000000   7.500000   241.000000   \n",
       "max    8.198451e+10  422.000000  297.000000  49.000000  1364.000000   \n",
       "\n",
       "       sensitivity  sensitivity_ci_lower  sensitivity_ci_upper  specificity  \\\n",
       "count    71.000000             71.000000             71.000000    71.000000   \n",
       "mean      0.946901              0.835070              0.976479     0.942958   \n",
       "std       0.065500              0.174076              0.037037     0.132432   \n",
       "min       0.680000              0.160000              0.820000     0.390000   \n",
       "25%       0.930000              0.820000              0.970000     0.960000   \n",
       "50%       0.970000              0.890000              0.990000     0.980000   \n",
       "75%       1.000000              0.925000              1.000000     1.000000   \n",
       "max       1.000000              0.980000              1.000000     1.000000   \n",
       "\n",
       "       specificity_ci_lower  specificity_ci_upper  \n",
       "count             71.000000             71.000000  \n",
       "mean               0.881127              0.962676  \n",
       "std                0.154064              0.113187  \n",
       "min                0.320000              0.440000  \n",
       "25%                0.890000              0.990000  \n",
       "50%                0.930000              1.000000  \n",
       "75%                0.960000              1.000000  \n",
       "max                0.990000              1.000000  "
      ]
     },
     "execution_count": 6,
     "metadata": {},
     "output_type": "execute_result"
    }
   ],
   "source": [
    "df.describe()"
   ]
  },
  {
   "cell_type": "code",
   "execution_count": 23,
   "id": "ea0ac2d0",
   "metadata": {},
   "outputs": [
    {
     "data": {
      "text/plain": [
       "[0.9429577464788733,\n",
       " 0.9469014084507043,\n",
       " 0.017538269617706236,\n",
       " 0.0042902615694164975,\n",
       " -0.18700410861015324]"
      ]
     },
     "execution_count": 23,
     "metadata": {},
     "output_type": "execute_result"
    }
   ],
   "source": [
    "distribution = BivariateBeta()\n",
    "\n",
    "x = df.specificity.values\n",
    "y = df.sensitivity.values\n",
    "\n",
    "m1 = np.mean(x)\n",
    "m2 = np.mean(y)\n",
    "v1 = np.var(x, ddof=1)\n",
    "v2 = np.var(y, ddof=1)\n",
    "rho = np.corrcoef(x, y)[0,1]\n",
    "\n",
    "moments = [m1, m2, v1, v2, rho]\n",
    "moments"
   ]
  },
  {
   "cell_type": "markdown",
   "id": "c7203fd1",
   "metadata": {},
   "source": [
    "Estimating through the method of moments:"
   ]
  },
  {
   "cell_type": "code",
   "execution_count": 24,
   "id": "1b257201",
   "metadata": {},
   "outputs": [],
   "source": [
    "alpha_hat1 = distribution.method_moments_estimator_1(x, y)"
   ]
  },
  {
   "cell_type": "code",
   "execution_count": 25,
   "id": "1f25c9fc",
   "metadata": {},
   "outputs": [],
   "source": [
    "alpha_hat2 = distribution.method_moments_estimator_2(x, y)"
   ]
  },
  {
   "cell_type": "code",
   "execution_count": 26,
   "id": "614439e3",
   "metadata": {},
   "outputs": [],
   "source": [
    "alpha_hat3 = distribution.method_moments_estimator_3(x, y, alpha0=(1,1))"
   ]
  },
  {
   "cell_type": "code",
   "execution_count": 27,
   "id": "e6c4b136",
   "metadata": {},
   "outputs": [],
   "source": [
    "alpha_hat4 = distribution.method_moments_estimator_4(x, y, alpha0=(1,1,1,1))"
   ]
  },
  {
   "cell_type": "markdown",
   "id": "6526e830",
   "metadata": {},
   "source": [
    "Using bootstrap"
   ]
  },
  {
   "cell_type": "code",
   "execution_count": 41,
   "id": "e5b12ad1",
   "metadata": {},
   "outputs": [
    {
     "data": {
      "image/png": "[encoded data removed]",
      "text/plain": [
       "<Figure size 1296x576 with 4 Axes>"
      ]
     },
     "metadata": {
      "needs_background": "light"
     },
     "output_type": "display_data"
    }
   ],
   "source": [
    "bootstrap_samples_2 = distribution.bootstrap_method(x, y, B=1000, method=distribution.method_moments_estimator_2)\n",
    "bootstrap_samples_4 = distribution.bootstrap_method(x, y, B=1000, method=distribution.method_moments_estimator_4,\n",
    "                                                    alpha0=(1,1,1,1))\n",
    "\n",
    "fig, ax = plt.subplots(2,2,figsize=(18,8))\n",
    "fig.suptitle('Bootstrap samples histogram', fontsize=24)\n",
    "for k in range(4):\n",
    "    i = k // 2\n",
    "    j = k % 2\n",
    "    ax[i,j].hist(bootstrap_samples_2[k,:], bins=50, label='MM2')\n",
    "    ax[i,j].hist(bootstrap_samples_4[k,:], bins=50, label='MM4')\n",
    "    ax[i,j].set_title(r'$\\alpha_{}$'.format(k+1), fontsize=20)\n",
    "    ax[i,j].legend(fontsize=12)\n",
    "plt.show()"
   ]
  },
  {
   "cell_type": "markdown",
   "id": "265d935c",
   "metadata": {},
   "source": [
    "Frequentist diagnostics"
   ]
  },
  {
   "cell_type": "code",
   "execution_count": 43,
   "id": "8336048c",
   "metadata": {},
   "outputs": [
    {
     "data": {
      "text/plain": [
       "(-2.180356884666157, 0.0292310174720331)"
      ]
     },
     "execution_count": 43,
     "metadata": {},
     "output_type": "execute_result"
    }
   ],
   "source": [
    "distribution.marginal_diagnostic(x,y)"
   ]
  },
  {
   "cell_type": "markdown",
   "id": "ff9c05b1",
   "metadata": {},
   "source": [
    "Since $p$-value $< 0.05$, it indicates strong evidence against the null hypothesis that the data comes from the bivariate beta distribution and the marginal distributions do not obey the necessary relation."
   ]
  },
  {
   "cell_type": "code",
   "execution_count": 45,
   "id": "bf8a6a1c",
   "metadata": {},
   "outputs": [
    {
     "data": {
      "text/plain": [
       "-0.006696133857051478"
      ]
     },
     "execution_count": 45,
     "metadata": {},
     "output_type": "execute_result"
    }
   ],
   "source": [
    "distribution.positive_diagnostic_diagnostic(x,y)"
   ]
  },
  {
   "cell_type": "markdown",
   "id": "db248bd3",
   "metadata": {},
   "source": [
    "For the positive test, we cannot reject the null hypotheses. \n",
    "\n",
    "From that analysis, we can see some difficulties in modelling this data using the Bivariate Beta model. Since we have observed values equal to $1$, the bayesian estimator will not work."
   ]
  },
  {
   "cell_type": "code",
   "execution_count": 56,
   "id": "001cd753",
   "metadata": {},
   "outputs": [],
   "source": [
    "x[x==1] -= abs(np.random.normal(scale=1e-4, size=sum(x==1)))\n",
    "y[y==1] -= abs(np.random.normal(scale=1e-4, size=sum(y==1)))"
   ]
  },
  {
   "cell_type": "code",
   "execution_count": 59,
   "id": "d884fcf9",
   "metadata": {},
   "outputs": [
    {
     "name": "stderr",
     "output_type": "stream",
     "text": [
      "17:21:03 - cmdstanpy - INFO - CmdStan start processing\n"
     ]
    },
    {
     "data": {
      "application/vnd.jupyter.widget-view+json": {
       "model_id": "b5be8002ed6b469aae6ba571b8f4c45a",
       "version_major": 2,
       "version_minor": 0
      },
      "text/plain": [
       "chain 1 |          | 00:00 Status"
      ]
     },
     "metadata": {},
     "output_type": "display_data"
    },
    {
     "data": {
      "application/vnd.jupyter.widget-view+json": {
       "model_id": "9d1fed01589b4e9284832de5d1cb5386",
       "version_major": 2,
       "version_minor": 0
      },
      "text/plain": [
       "chain 2 |          | 00:00 Status"
      ]
     },
     "metadata": {},
     "output_type": "display_data"
    },
    {
     "data": {
      "application/vnd.jupyter.widget-view+json": {
       "model_id": "9abfa9670e754ed982224a9b5b8d43d9",
       "version_major": 2,
       "version_minor": 0
      },
      "text/plain": [
       "chain 3 |          | 00:00 Status"
      ]
     },
     "metadata": {},
     "output_type": "display_data"
    },
    {
     "data": {
      "application/vnd.jupyter.widget-view+json": {
       "model_id": "b1d2d6ce7bb2456289c6c1154068df32",
       "version_major": 2,
       "version_minor": 0
      },
      "text/plain": [
       "chain 4 |          | 00:00 Status"
      ]
     },
     "metadata": {},
     "output_type": "display_data"
    },
    {
     "name": "stdout",
     "output_type": "stream",
     "text": [
      "                                                                                                                                                                                                                                                                                                                                "
     ]
    },
    {
     "name": "stderr",
     "output_type": "stream",
     "text": [
      "17:22:19 - cmdstanpy - INFO - CmdStan done processing.\n",
      "17:22:19 - cmdstanpy - WARNING - Non-fatal error during sampling:\n",
      "Exception: gamma_lpdf: Random variable[2] is 0, but must be positive finite! (in '/home/lucasmoschen/Documents/github/bivariate-beta/scripts/stan/bivariate-beta-model-v3.stan', line 41, column 4 to column 24)\n",
      "\tException: gamma_lpdf: Random variable[2] is 0, but must be positive finite! (in '/home/lucasmoschen/Documents/github/bivariate-beta/scripts/stan/bivariate-beta-model-v3.stan', line 41, column 4 to column 24)\n",
      "\tException: gamma_lpdf: Random variable[1] is inf, but must be positive finite! (in '/home/lucasmoschen/Documents/github/bivariate-beta/scripts/stan/bivariate-beta-model-v3.stan', line 41, column 4 to column 24)\n",
      "\tException: gamma_lpdf: Random variable[1] is inf, but must be positive finite! (in '/home/lucasmoschen/Documents/github/bivariate-beta/scripts/stan/bivariate-beta-model-v3.stan', line 41, column 4 to column 24)\n",
      "\tException: gamma_lpdf: Random variable[1] is inf, but must be positive finite! (in '/home/lucasmoschen/Documents/github/bivariate-beta/scripts/stan/bivariate-beta-model-v3.stan', line 41, column 4 to column 24)\n",
      "\tException: gamma_lpdf: Random variable[1] is inf, but must be positive finite! (in '/home/lucasmoschen/Documents/github/bivariate-beta/scripts/stan/bivariate-beta-model-v3.stan', line 41, column 4 to column 24)\n",
      "\tException: gamma_lpdf: Random variable[2] is 0, but must be positive finite! (in '/home/lucasmoschen/Documents/github/bivariate-beta/scripts/stan/bivariate-beta-model-v3.stan', line 41, column 4 to column 24)\n",
      "Consider re-running with show_console=True if the above output is unclear!\n",
      "17:22:19 - cmdstanpy - WARNING - Some chains may have failed to converge.\n",
      "\tChain 1 had 489 divergent transitions (24.4%)\n",
      "\tChain 1 had 1511 iterations at max treedepth (75.5%)\n",
      "\tChain 2 had 851 divergent transitions (42.5%)\n",
      "\tChain 2 had 1149 iterations at max treedepth (57.5%)\n",
      "\tChain 3 had 986 divergent transitions (49.3%)\n",
      "\tChain 3 had 1014 iterations at max treedepth (50.7%)\n",
      "\tChain 4 had 829 divergent transitions (41.4%)\n",
      "\tChain 4 had 1171 iterations at max treedepth (58.6%)\n",
      "\tUse function \"diagnose()\" to see further information.\n"
     ]
    },
    {
     "name": "stdout",
     "output_type": "stream",
     "text": [
      "\n"
     ]
    }
   ],
   "source": [
    "a = 1*np.ones(4)\n",
    "b = 1*np.ones(4)\n",
    "\n",
    "data = {'n': len(x), 'a': a, 'b': b, 'xy': np.column_stack([x,y])}\n",
    "\n",
    "model_fit = model.sample(data=data, iter_warmup=2000, iter_sampling=2000, chains=4, adapt_delta=0.9)"
   ]
  },
  {
   "cell_type": "code",
   "execution_count": 61,
   "id": "d1693e86",
   "metadata": {},
   "outputs": [
    {
     "data": {
      "text/html": [
       "<div>\n",
       "<style scoped>\n",
       "    .dataframe tbody tr th:only-of-type {\n",
       "        vertical-align: middle;\n",
       "    }\n",
       "\n",
       "    .dataframe tbody tr th {\n",
       "        vertical-align: top;\n",
       "    }\n",
       "\n",
       "    .dataframe thead th {\n",
       "        text-align: right;\n",
       "    }\n",
       "</style>\n",
       "<table border=\"1\" class=\"dataframe\">\n",
       "  <thead>\n",
       "    <tr style=\"text-align: right;\">\n",
       "      <th></th>\n",
       "      <th>Mean</th>\n",
       "      <th>MCSE</th>\n",
       "      <th>StdDev</th>\n",
       "      <th>5%</th>\n",
       "      <th>50%</th>\n",
       "      <th>95%</th>\n",
       "      <th>N_Eff</th>\n",
       "      <th>N_Eff/s</th>\n",
       "      <th>R_hat</th>\n",
       "    </tr>\n",
       "  </thead>\n",
       "  <tbody>\n",
       "    <tr>\n",
       "      <th>lp__</th>\n",
       "      <td>614.686000</td>\n",
       "      <td>1.092520e+00</td>\n",
       "      <td>8.401190</td>\n",
       "      <td>599.782000</td>\n",
       "      <td>615.329000</td>\n",
       "      <td>628.087000</td>\n",
       "      <td>59.1326</td>\n",
       "      <td>0.408307</td>\n",
       "      <td>1.03056</td>\n",
       "    </tr>\n",
       "    <tr>\n",
       "      <th>alpha[1]</th>\n",
       "      <td>3.728030</td>\n",
       "      <td>6.015700e-02</td>\n",
       "      <td>0.638302</td>\n",
       "      <td>2.698390</td>\n",
       "      <td>3.714600</td>\n",
       "      <td>4.824540</td>\n",
       "      <td>112.5850</td>\n",
       "      <td>0.777391</td>\n",
       "      <td>1.01910</td>\n",
       "    </tr>\n",
       "    <tr>\n",
       "      <th>alpha[2]</th>\n",
       "      <td>0.198654</td>\n",
       "      <td>3.919680e-03</td>\n",
       "      <td>0.028502</td>\n",
       "      <td>0.156112</td>\n",
       "      <td>0.196553</td>\n",
       "      <td>0.250390</td>\n",
       "      <td>52.8745</td>\n",
       "      <td>0.365095</td>\n",
       "      <td>1.14318</td>\n",
       "    </tr>\n",
       "    <tr>\n",
       "      <th>alpha[3]</th>\n",
       "      <td>0.133734</td>\n",
       "      <td>2.967030e-03</td>\n",
       "      <td>0.021815</td>\n",
       "      <td>0.101295</td>\n",
       "      <td>0.132441</td>\n",
       "      <td>0.172951</td>\n",
       "      <td>54.0579</td>\n",
       "      <td>0.373266</td>\n",
       "      <td>1.03834</td>\n",
       "    </tr>\n",
       "    <tr>\n",
       "      <th>alpha[4]</th>\n",
       "      <td>0.122716</td>\n",
       "      <td>3.271690e-03</td>\n",
       "      <td>0.020658</td>\n",
       "      <td>0.089669</td>\n",
       "      <td>0.121496</td>\n",
       "      <td>0.158106</td>\n",
       "      <td>39.8705</td>\n",
       "      <td>0.275303</td>\n",
       "      <td>1.06531</td>\n",
       "    </tr>\n",
       "    <tr>\n",
       "      <th>...</th>\n",
       "      <td>...</td>\n",
       "      <td>...</td>\n",
       "      <td>...</td>\n",
       "      <td>...</td>\n",
       "      <td>...</td>\n",
       "      <td>...</td>\n",
       "      <td>...</td>\n",
       "      <td>...</td>\n",
       "      <td>...</td>\n",
       "    </tr>\n",
       "    <tr>\n",
       "      <th>u[67]</th>\n",
       "      <td>0.969983</td>\n",
       "      <td>9.658670e-07</td>\n",
       "      <td>0.000012</td>\n",
       "      <td>0.969971</td>\n",
       "      <td>0.969976</td>\n",
       "      <td>0.970000</td>\n",
       "      <td>167.0540</td>\n",
       "      <td>1.153500</td>\n",
       "      <td>1.01744</td>\n",
       "    </tr>\n",
       "    <tr>\n",
       "      <th>u[68]</th>\n",
       "      <td>0.999927</td>\n",
       "      <td>2.516340e-06</td>\n",
       "      <td>0.000014</td>\n",
       "      <td>0.999909</td>\n",
       "      <td>0.999936</td>\n",
       "      <td>0.999941</td>\n",
       "      <td>32.7669</td>\n",
       "      <td>0.226253</td>\n",
       "      <td>1.16055</td>\n",
       "    </tr>\n",
       "    <tr>\n",
       "      <th>u[69]</th>\n",
       "      <td>0.999830</td>\n",
       "      <td>4.399310e-06</td>\n",
       "      <td>0.000037</td>\n",
       "      <td>0.999778</td>\n",
       "      <td>0.999854</td>\n",
       "      <td>0.999863</td>\n",
       "      <td>71.6326</td>\n",
       "      <td>0.494618</td>\n",
       "      <td>1.03793</td>\n",
       "    </tr>\n",
       "    <tr>\n",
       "      <th>u[70]</th>\n",
       "      <td>0.999880</td>\n",
       "      <td>9.734250e-07</td>\n",
       "      <td>0.000015</td>\n",
       "      <td>0.999860</td>\n",
       "      <td>0.999888</td>\n",
       "      <td>0.999894</td>\n",
       "      <td>232.7600</td>\n",
       "      <td>1.607190</td>\n",
       "      <td>1.01689</td>\n",
       "    </tr>\n",
       "    <tr>\n",
       "      <th>u[71]</th>\n",
       "      <td>0.865050</td>\n",
       "      <td>5.427740e-04</td>\n",
       "      <td>0.004435</td>\n",
       "      <td>0.860000</td>\n",
       "      <td>0.865374</td>\n",
       "      <td>0.870000</td>\n",
       "      <td>66.7612</td>\n",
       "      <td>0.460981</td>\n",
       "      <td>1.10746</td>\n",
       "    </tr>\n",
       "  </tbody>\n",
       "</table>\n",
       "<p>147 rows × 9 columns</p>\n",
       "</div>"
      ],
      "text/plain": [
       "                Mean          MCSE    StdDev          5%         50%  \\\n",
       "lp__      614.686000  1.092520e+00  8.401190  599.782000  615.329000   \n",
       "alpha[1]    3.728030  6.015700e-02  0.638302    2.698390    3.714600   \n",
       "alpha[2]    0.198654  3.919680e-03  0.028502    0.156112    0.196553   \n",
       "alpha[3]    0.133734  2.967030e-03  0.021815    0.101295    0.132441   \n",
       "alpha[4]    0.122716  3.271690e-03  0.020658    0.089669    0.121496   \n",
       "...              ...           ...       ...         ...         ...   \n",
       "u[67]       0.969983  9.658670e-07  0.000012    0.969971    0.969976   \n",
       "u[68]       0.999927  2.516340e-06  0.000014    0.999909    0.999936   \n",
       "u[69]       0.999830  4.399310e-06  0.000037    0.999778    0.999854   \n",
       "u[70]       0.999880  9.734250e-07  0.000015    0.999860    0.999888   \n",
       "u[71]       0.865050  5.427740e-04  0.004435    0.860000    0.865374   \n",
       "\n",
       "                 95%     N_Eff   N_Eff/s    R_hat  \n",
       "lp__      628.087000   59.1326  0.408307  1.03056  \n",
       "alpha[1]    4.824540  112.5850  0.777391  1.01910  \n",
       "alpha[2]    0.250390   52.8745  0.365095  1.14318  \n",
       "alpha[3]    0.172951   54.0579  0.373266  1.03834  \n",
       "alpha[4]    0.158106   39.8705  0.275303  1.06531  \n",
       "...              ...       ...       ...      ...  \n",
       "u[67]       0.970000  167.0540  1.153500  1.01744  \n",
       "u[68]       0.999941   32.7669  0.226253  1.16055  \n",
       "u[69]       0.999863   71.6326  0.494618  1.03793  \n",
       "u[70]       0.999894  232.7600  1.607190  1.01689  \n",
       "u[71]       0.870000   66.7612  0.460981  1.10746  \n",
       "\n",
       "[147 rows x 9 columns]"
      ]
     },
     "execution_count": 61,
     "metadata": {},
     "output_type": "execute_result"
    }
   ],
   "source": [
    "model_fit.summary()"
   ]
  },
  {
   "cell_type": "code",
   "execution_count": null,
   "id": "846a4511",
   "metadata": {},
   "outputs": [],
   "source": []
  }
 ],
 "metadata": {
  "kernelspec": {
   "display_name": "ProjectBeta",
   "language": "python",
   "name": "projectbeta"
  },
  "language_info": {
   "codemirror_mode": {
    "name": "ipython",
    "version": 3
   },
   "file_extension": ".py",
   "mimetype": "text/x-python",
   "name": "python",
   "nbconvert_exporter": "python",
   "pygments_lexer": "ipython3",
   "version": "3.10.6"
  }
 },
 "nbformat": 4,
 "nbformat_minor": 5
}
