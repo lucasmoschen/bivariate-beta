{
 "cells": [
  {
   "cell_type": "markdown",
   "id": "e7938273",
   "metadata": {},
   "source": [
    "# Usage of the codes \n",
    "\n",
    "This notebook uses a dataset to present the main function from the class `BivariateBeta` from the `parameter_estimation.py` file."
   ]
  },
  {
   "cell_type": "code",
   "execution_count": 1,
   "id": "bc916671",
   "metadata": {},
   "outputs": [],
   "source": [
    "import pandas as pd\n",
    "import numpy as np\n",
    "import matplotlib.pyplot as plt\n",
    "import re\n",
    "\n",
    "from cmdstanpy import cmdstan_path, CmdStanModel, set_cmdstan_path, install_cmdstan\n",
    "\n",
    "import matplotlib.pyplot as plt\n",
    "import matplotlib\n",
    "import seaborn as sns\n",
    "import arviz as az\n",
    "plt.style.use('science')\n",
    "\n",
    "import sys\n",
    "import os\n",
    "sys.path.append('../scripts/python')\n",
    "\n",
    "from parameter_estimation import BivariateBeta"
   ]
  },
  {
   "cell_type": "markdown",
   "id": "6d8d6354",
   "metadata": {},
   "source": [
    "Some pre sets:"
   ]
  },
  {
   "cell_type": "code",
   "execution_count": 3,
   "id": "3f48acb1",
   "metadata": {},
   "outputs": [
    {
     "ename": "ValueError",
     "evalue": "No CmdStan directory, path /home/lucasmoschen/anaconda3/envs/project-beta/bin/cmdstan does not exist.",
     "output_type": "error",
     "traceback": [
      "\u001b[1;31m---------------------------------------------------------------------------\u001b[0m",
      "\u001b[1;31mValueError\u001b[0m                                Traceback (most recent call last)",
      "Input \u001b[1;32mIn [3]\u001b[0m, in \u001b[0;36m<cell line: 4>\u001b[1;34m()\u001b[0m\n\u001b[0;32m      1\u001b[0m folder \u001b[38;5;241m=\u001b[39m \u001b[38;5;124m'\u001b[39m\u001b[38;5;124m../data/covid_tests_data/\u001b[39m\u001b[38;5;124m'\u001b[39m\n\u001b[0;32m      2\u001b[0m filter_func \u001b[38;5;241m=\u001b[39m \u001b[38;5;28;01mlambda\u001b[39;00m i: \u001b[38;5;28;01mlambda\u001b[39;00m x: \u001b[38;5;28mfloat\u001b[39m(re\u001b[38;5;241m.\u001b[39mfindall(\u001b[38;5;124m'\u001b[39m\u001b[38;5;124m[0-9].[0-9][0-9]\u001b[39m\u001b[38;5;124m'\u001b[39m, x\u001b[38;5;241m.\u001b[39mreplace(\u001b[38;5;124m'\u001b[39m\u001b[38;5;124m,\u001b[39m\u001b[38;5;124m'\u001b[39m, \u001b[38;5;124m'\u001b[39m\u001b[38;5;124m.\u001b[39m\u001b[38;5;124m'\u001b[39m))[i])\n\u001b[1;32m----> 4\u001b[0m \u001b[43mset_cmdstan_path\u001b[49m\u001b[43m(\u001b[49m\u001b[38;5;124;43m'\u001b[39;49m\u001b[38;5;124;43m/home/lucasmoschen/anaconda3/envs/project-beta/bin/cmdstan\u001b[39;49m\u001b[38;5;124;43m'\u001b[39;49m\u001b[43m)\u001b[49m\n\u001b[0;32m      6\u001b[0m stanfile \u001b[38;5;241m=\u001b[39m os\u001b[38;5;241m.\u001b[39mpath\u001b[38;5;241m.\u001b[39mjoin(\u001b[38;5;124m'\u001b[39m\u001b[38;5;124m..\u001b[39m\u001b[38;5;124m'\u001b[39m, \u001b[38;5;124m'\u001b[39m\u001b[38;5;124mscripts\u001b[39m\u001b[38;5;124m'\u001b[39m, \u001b[38;5;124m'\u001b[39m\u001b[38;5;124mstan\u001b[39m\u001b[38;5;124m'\u001b[39m, \u001b[38;5;124m'\u001b[39m\u001b[38;5;124mbivariate-beta-model-v3-1.stan\u001b[39m\u001b[38;5;124m'\u001b[39m)\n\u001b[0;32m      7\u001b[0m model \u001b[38;5;241m=\u001b[39m CmdStanModel(stan_file\u001b[38;5;241m=\u001b[39mstanfile, cpp_options\u001b[38;5;241m=\u001b[39m{\u001b[38;5;124m'\u001b[39m\u001b[38;5;124mSTAN_THREADS\u001b[39m\u001b[38;5;124m'\u001b[39m: \u001b[38;5;28;01mTrue\u001b[39;00m})\n",
      "File \u001b[1;32m~\\anaconda3\\envs\\project-beta\\lib\\site-packages\\cmdstanpy\\utils\\cmdstan.py:106\u001b[0m, in \u001b[0;36mset_cmdstan_path\u001b[1;34m(path)\u001b[0m\n\u001b[0;32m    102\u001b[0m \u001b[38;5;28;01mdef\u001b[39;00m \u001b[38;5;21mset_cmdstan_path\u001b[39m(path: \u001b[38;5;28mstr\u001b[39m) \u001b[38;5;241m-\u001b[39m\u001b[38;5;241m>\u001b[39m \u001b[38;5;28;01mNone\u001b[39;00m:\n\u001b[0;32m    103\u001b[0m     \u001b[38;5;124;03m\"\"\"\u001b[39;00m\n\u001b[0;32m    104\u001b[0m \u001b[38;5;124;03m    Validate, then set CmdStan directory path.\u001b[39;00m\n\u001b[0;32m    105\u001b[0m \u001b[38;5;124;03m    \"\"\"\u001b[39;00m\n\u001b[1;32m--> 106\u001b[0m     \u001b[43mvalidate_cmdstan_path\u001b[49m\u001b[43m(\u001b[49m\u001b[43mpath\u001b[49m\u001b[43m)\u001b[49m\n\u001b[0;32m    107\u001b[0m     os\u001b[38;5;241m.\u001b[39menviron[\u001b[38;5;124m'\u001b[39m\u001b[38;5;124mCMDSTAN\u001b[39m\u001b[38;5;124m'\u001b[39m] \u001b[38;5;241m=\u001b[39m path\n",
      "File \u001b[1;32m~\\anaconda3\\envs\\project-beta\\lib\\site-packages\\cmdstanpy\\utils\\cmdstan.py:92\u001b[0m, in \u001b[0;36mvalidate_cmdstan_path\u001b[1;34m(path)\u001b[0m\n\u001b[0;32m     87\u001b[0m \u001b[38;5;124;03m\"\"\"\u001b[39;00m\n\u001b[0;32m     88\u001b[0m \u001b[38;5;124;03mValidate that CmdStan directory exists and binaries have been built.\u001b[39;00m\n\u001b[0;32m     89\u001b[0m \u001b[38;5;124;03mThrows exception if specified path is invalid.\u001b[39;00m\n\u001b[0;32m     90\u001b[0m \u001b[38;5;124;03m\"\"\"\u001b[39;00m\n\u001b[0;32m     91\u001b[0m \u001b[38;5;28;01mif\u001b[39;00m \u001b[38;5;129;01mnot\u001b[39;00m os\u001b[38;5;241m.\u001b[39mpath\u001b[38;5;241m.\u001b[39misdir(path):\n\u001b[1;32m---> 92\u001b[0m     \u001b[38;5;28;01mraise\u001b[39;00m \u001b[38;5;167;01mValueError\u001b[39;00m(\u001b[38;5;124mf\u001b[39m\u001b[38;5;124m'\u001b[39m\u001b[38;5;124mNo CmdStan directory, path \u001b[39m\u001b[38;5;132;01m{\u001b[39;00mpath\u001b[38;5;132;01m}\u001b[39;00m\u001b[38;5;124m does not exist.\u001b[39m\u001b[38;5;124m'\u001b[39m)\n\u001b[0;32m     93\u001b[0m \u001b[38;5;28;01mif\u001b[39;00m \u001b[38;5;129;01mnot\u001b[39;00m os\u001b[38;5;241m.\u001b[39mpath\u001b[38;5;241m.\u001b[39mexists(os\u001b[38;5;241m.\u001b[39mpath\u001b[38;5;241m.\u001b[39mjoin(path, \u001b[38;5;124m'\u001b[39m\u001b[38;5;124mbin\u001b[39m\u001b[38;5;124m'\u001b[39m, \u001b[38;5;124m'\u001b[39m\u001b[38;5;124mstanc\u001b[39m\u001b[38;5;124m'\u001b[39m \u001b[38;5;241m+\u001b[39m EXTENSION)):\n\u001b[0;32m     94\u001b[0m     \u001b[38;5;28;01mraise\u001b[39;00m \u001b[38;5;167;01mValueError\u001b[39;00m(\n\u001b[0;32m     95\u001b[0m         \u001b[38;5;124mf\u001b[39m\u001b[38;5;124m'\u001b[39m\u001b[38;5;124mCmdStan installataion missing binaries in \u001b[39m\u001b[38;5;132;01m{\u001b[39;00mpath\u001b[38;5;132;01m}\u001b[39;00m\u001b[38;5;124m/bin. \u001b[39m\u001b[38;5;124m'\u001b[39m\n\u001b[0;32m     96\u001b[0m         \u001b[38;5;124m'\u001b[39m\u001b[38;5;124mRe-install cmdstan by running command \u001b[39m\u001b[38;5;124m\"\u001b[39m\u001b[38;5;124minstall_cmdstan \u001b[39m\u001b[38;5;124m'\u001b[39m\n\u001b[0;32m     97\u001b[0m         \u001b[38;5;124m'\u001b[39m\u001b[38;5;124m--overwrite\u001b[39m\u001b[38;5;124m\"\u001b[39m\u001b[38;5;124m, or Python code \u001b[39m\u001b[38;5;124m\"\u001b[39m\u001b[38;5;124mimport cmdstanpy; \u001b[39m\u001b[38;5;124m'\u001b[39m\n\u001b[0;32m     98\u001b[0m         \u001b[38;5;124m'\u001b[39m\u001b[38;5;124mcmdstanpy.install_cmdstan(overwrite=True)\u001b[39m\u001b[38;5;124m\"\u001b[39m\u001b[38;5;124m'\u001b[39m\n\u001b[0;32m     99\u001b[0m     )\n",
      "\u001b[1;31mValueError\u001b[0m: No CmdStan directory, path /home/lucasmoschen/anaconda3/envs/project-beta/bin/cmdstan does not exist."
     ]
    }
   ],
   "source": [
    "folder = '../data/covid_tests_data/'\n",
    "filter_func = lambda i: lambda x: float(re.findall('[0-9].[0-9][0-9]', x.replace(',', '.'))[i])\n",
    "\n",
    "set_cmdstan_path('/home/lucasmoschen/anaconda3/envs/project-beta/bin/cmdstan')\n",
    "\n",
    "stanfile = os.path.join('..', 'scripts', 'stan', 'bivariate-beta-model-v3-1.stan')\n",
    "model = CmdStanModel(stan_file=stanfile, cpp_options={'STAN_THREADS': True})"
   ]
  },
  {
   "cell_type": "markdown",
   "id": "269e20d4",
   "metadata": {},
   "source": [
    "## The data: Accuracy of diagnostic tests registered by ANVISA for COVID-19\n",
    "\n",
    "A documentary investigation was carried out utilizing the information provided by manufacturers during their registration with Anvisa. \n",
    "The diagnostic tests recorded with Anvisa up to June 23, 2020, during the data collection period, were scrutinized through the use of the following link: [https://consultas.anvisa.gov.br/#/saude/q/?nomeTecnico=coronav%C3%ADrus](https://consultas.anvisa.gov.br/#/saude/q/?nomeTecnico=coronav%C3%ADrus).\n",
    "\n",
    "The data that was registered with Anvisa during the time of registration was retrieved from the Agency's website, specifically from the General Management of Health Product Technology (GGTPS) for in vitro diagnosis. \n",
    "To present the data in a structured format, a standard table created by the authors was employed, gathering essential information such as: i) company/importer; ii) manufacturer/country; iii) sample; iv) whether it was classified as a quick test v) Anvisa registration number; vi) sensitivity/specificity data presented by the manufacturer. \n",
    "The information provided by the manufacturers during their registration with Anvisa was then used to generate graphs displaying the sensitivity and specificity of the diagnostic tests.\n",
    "\n",
    "The data provided by the manufacturers were plotted in the figures presented to illustrate the IgG and/or IgM sensitivity and specificity of the tests:\n",
    "\n",
    "a) immunochromatographic with blood sample (whole blood, venous whole blood, whole blood via digital puncture or dried blood), human serum or plasma;\n",
    "\n",
    "b) immunochromatographic with secretion nasopharyngeal swab and oropharyngeal swab;\n",
    "\n",
    "c) immunoassay with blood sample (whole blood, venous whole blood, whole blood via finger prick or dried blood), human serum or plasma;\n",
    "\n",
    "d) immunoassay with nasopharyngeal swab and oropharyngeal swab secretion sample;\n",
    "\n",
    "e) qualitative or semi-qualitative detection with blood sample"
   ]
  },
  {
   "cell_type": "code",
   "execution_count": 25,
   "id": "9b48348a",
   "metadata": {},
   "outputs": [],
   "source": [
    "tables = [pd.read_csv(folder+'raw/table_a.csv'),\n",
    "          pd.read_csv(folder+'raw/table_b.csv'),\n",
    "          pd.read_csv(folder+'raw/table_c.csv'),\n",
    "          pd.read_csv(folder+'raw/table_d.csv'),\n",
    "          pd.read_csv(folder+'raw/table_e.csv'),\n",
    "          pd.read_csv(folder+'raw/table_pcr_a.csv'),\n",
    "          pd.read_csv(folder+'raw/table_pcr_b.csv'),\n",
    "          pd.read_csv(folder+'raw/table_pcr_c.csv'),\n",
    "         ]\n",
    "\n",
    "letters = ['a', 'b', 'c', 'd', 'e', 'a_pcr', 'b_pcr', 'c_pcr']\n",
    "for i in range(8):\n",
    "\n",
    "    tables[i]['sensitivity']          = tables[i]['Sensitivity [95% CI]'].apply(filter_func(0))\n",
    "    tables[i]['sensitivity_ci_lower'] = tables[i]['Sensitivity [95% CI]'].apply(filter_func(1))\n",
    "    tables[i]['sensitivity_ci_upper'] = tables[i]['Sensitivity [95% CI]'].apply(filter_func(2))\n",
    "    tables[i]['specificity']          = tables[i]['Specificity [95% CI]'].apply(filter_func(0))\n",
    "    tables[i]['specificity_ci_lower'] = tables[i]['Specificity [95% CI]'].apply(filter_func(1))\n",
    "    tables[i]['specificity_ci_upper'] = tables[i]['Specificity [95% CI]'].apply(filter_func(2))\n",
    "    tables[i]['type']                 = letters[i]\n",
    "    \n",
    "    del tables[i]['Sensitivity [95% CI]']\n",
    "    del tables[i]['Specificity [95% CI]']\n",
    "    \n",
    "df = pd.concat(tables)"
   ]
  },
  {
   "cell_type": "code",
   "execution_count": 26,
   "id": "9587f97e",
   "metadata": {},
   "outputs": [
    {
     "data": {
      "text/html": [
       "<div>\n",
       "<style scoped>\n",
       "    .dataframe tbody tr th:only-of-type {\n",
       "        vertical-align: middle;\n",
       "    }\n",
       "\n",
       "    .dataframe tbody tr th {\n",
       "        vertical-align: top;\n",
       "    }\n",
       "\n",
       "    .dataframe thead th {\n",
       "        text-align: right;\n",
       "    }\n",
       "</style>\n",
       "<table border=\"1\" class=\"dataframe\">\n",
       "  <thead>\n",
       "    <tr style=\"text-align: right;\">\n",
       "      <th></th>\n",
       "      <th>Study</th>\n",
       "      <th>TP</th>\n",
       "      <th>FP</th>\n",
       "      <th>FN</th>\n",
       "      <th>TN</th>\n",
       "      <th>sensitivity</th>\n",
       "      <th>sensitivity_ci_lower</th>\n",
       "      <th>sensitivity_ci_upper</th>\n",
       "      <th>specificity</th>\n",
       "      <th>specificity_ci_lower</th>\n",
       "      <th>specificity_ci_upper</th>\n",
       "      <th>type</th>\n",
       "    </tr>\n",
       "  </thead>\n",
       "  <tbody>\n",
       "    <tr>\n",
       "      <th>0</th>\n",
       "      <td>10071770900</td>\n",
       "      <td>312</td>\n",
       "      <td>1</td>\n",
       "      <td>49</td>\n",
       "      <td>234</td>\n",
       "      <td>0.86</td>\n",
       "      <td>0.82</td>\n",
       "      <td>0.90</td>\n",
       "      <td>1.00</td>\n",
       "      <td>0.98</td>\n",
       "      <td>1.00</td>\n",
       "      <td>a</td>\n",
       "    </tr>\n",
       "    <tr>\n",
       "      <th>1</th>\n",
       "      <td>10071770901</td>\n",
       "      <td>46</td>\n",
       "      <td>3</td>\n",
       "      <td>2</td>\n",
       "      <td>47</td>\n",
       "      <td>0.96</td>\n",
       "      <td>0.86</td>\n",
       "      <td>0.99</td>\n",
       "      <td>0.94</td>\n",
       "      <td>0.83</td>\n",
       "      <td>0.99</td>\n",
       "      <td>a</td>\n",
       "    </tr>\n",
       "    <tr>\n",
       "      <th>2</th>\n",
       "      <td>10210410105</td>\n",
       "      <td>90</td>\n",
       "      <td>3</td>\n",
       "      <td>3</td>\n",
       "      <td>124</td>\n",
       "      <td>0.97</td>\n",
       "      <td>0.91</td>\n",
       "      <td>0.99</td>\n",
       "      <td>0.98</td>\n",
       "      <td>0.93</td>\n",
       "      <td>1.00</td>\n",
       "      <td>a</td>\n",
       "    </tr>\n",
       "    <tr>\n",
       "      <th>3</th>\n",
       "      <td>10310030208</td>\n",
       "      <td>171</td>\n",
       "      <td>12</td>\n",
       "      <td>12</td>\n",
       "      <td>514</td>\n",
       "      <td>0.93</td>\n",
       "      <td>0.89</td>\n",
       "      <td>0.97</td>\n",
       "      <td>0.98</td>\n",
       "      <td>0.96</td>\n",
       "      <td>0.99</td>\n",
       "      <td>a</td>\n",
       "    </tr>\n",
       "    <tr>\n",
       "      <th>4</th>\n",
       "      <td>10342880015</td>\n",
       "      <td>23</td>\n",
       "      <td>2</td>\n",
       "      <td>1</td>\n",
       "      <td>49</td>\n",
       "      <td>0.96</td>\n",
       "      <td>0.79</td>\n",
       "      <td>1.00</td>\n",
       "      <td>0.96</td>\n",
       "      <td>0.87</td>\n",
       "      <td>1.00</td>\n",
       "      <td>a</td>\n",
       "    </tr>\n",
       "    <tr>\n",
       "      <th>...</th>\n",
       "      <td>...</td>\n",
       "      <td>...</td>\n",
       "      <td>...</td>\n",
       "      <td>...</td>\n",
       "      <td>...</td>\n",
       "      <td>...</td>\n",
       "      <td>...</td>\n",
       "      <td>...</td>\n",
       "      <td>...</td>\n",
       "      <td>...</td>\n",
       "      <td>...</td>\n",
       "      <td>...</td>\n",
       "    </tr>\n",
       "    <tr>\n",
       "      <th>11</th>\n",
       "      <td>80867150018</td>\n",
       "      <td>209</td>\n",
       "      <td>10</td>\n",
       "      <td>0</td>\n",
       "      <td>370</td>\n",
       "      <td>1.00</td>\n",
       "      <td>0.98</td>\n",
       "      <td>1.00</td>\n",
       "      <td>0.97</td>\n",
       "      <td>0.95</td>\n",
       "      <td>0.99</td>\n",
       "      <td>a_pcr</td>\n",
       "    </tr>\n",
       "    <tr>\n",
       "      <th>12</th>\n",
       "      <td>80954880134</td>\n",
       "      <td>3</td>\n",
       "      <td>0</td>\n",
       "      <td>0</td>\n",
       "      <td>98</td>\n",
       "      <td>1.00</td>\n",
       "      <td>0.29</td>\n",
       "      <td>1.00</td>\n",
       "      <td>1.00</td>\n",
       "      <td>0.96</td>\n",
       "      <td>1.00</td>\n",
       "      <td>a_pcr</td>\n",
       "    </tr>\n",
       "    <tr>\n",
       "      <th>0</th>\n",
       "      <td>10009010357</td>\n",
       "      <td>60</td>\n",
       "      <td>0</td>\n",
       "      <td>0</td>\n",
       "      <td>60</td>\n",
       "      <td>1.00</td>\n",
       "      <td>0.94</td>\n",
       "      <td>1.00</td>\n",
       "      <td>1.00</td>\n",
       "      <td>0.94</td>\n",
       "      <td>1.00</td>\n",
       "      <td>b_pcr</td>\n",
       "    </tr>\n",
       "    <tr>\n",
       "      <th>1</th>\n",
       "      <td>10223400001</td>\n",
       "      <td>10</td>\n",
       "      <td>0</td>\n",
       "      <td>0</td>\n",
       "      <td>14</td>\n",
       "      <td>1.00</td>\n",
       "      <td>0.69</td>\n",
       "      <td>1.00</td>\n",
       "      <td>1.00</td>\n",
       "      <td>0.77</td>\n",
       "      <td>1.00</td>\n",
       "      <td>b_pcr</td>\n",
       "    </tr>\n",
       "    <tr>\n",
       "      <th>0</th>\n",
       "      <td>80867150015</td>\n",
       "      <td>92</td>\n",
       "      <td>2</td>\n",
       "      <td>14</td>\n",
       "      <td>218</td>\n",
       "      <td>0.87</td>\n",
       "      <td>0.79</td>\n",
       "      <td>0.93</td>\n",
       "      <td>0.99</td>\n",
       "      <td>0.97</td>\n",
       "      <td>1.00</td>\n",
       "      <td>c_pcr</td>\n",
       "    </tr>\n",
       "  </tbody>\n",
       "</table>\n",
       "<p>71 rows × 12 columns</p>\n",
       "</div>"
      ],
      "text/plain": [
       "          Study   TP  FP  FN   TN  sensitivity  sensitivity_ci_lower  \\\n",
       "0   10071770900  312   1  49  234         0.86                  0.82   \n",
       "1   10071770901   46   3   2   47         0.96                  0.86   \n",
       "2   10210410105   90   3   3  124         0.97                  0.91   \n",
       "3   10310030208  171  12  12  514         0.93                  0.89   \n",
       "4   10342880015   23   2   1   49         0.96                  0.79   \n",
       "..          ...  ...  ..  ..  ...          ...                   ...   \n",
       "11  80867150018  209  10   0  370         1.00                  0.98   \n",
       "12  80954880134    3   0   0   98         1.00                  0.29   \n",
       "0   10009010357   60   0   0   60         1.00                  0.94   \n",
       "1   10223400001   10   0   0   14         1.00                  0.69   \n",
       "0   80867150015   92   2  14  218         0.87                  0.79   \n",
       "\n",
       "    sensitivity_ci_upper  specificity  specificity_ci_lower  \\\n",
       "0                   0.90         1.00                  0.98   \n",
       "1                   0.99         0.94                  0.83   \n",
       "2                   0.99         0.98                  0.93   \n",
       "3                   0.97         0.98                  0.96   \n",
       "4                   1.00         0.96                  0.87   \n",
       "..                   ...          ...                   ...   \n",
       "11                  1.00         0.97                  0.95   \n",
       "12                  1.00         1.00                  0.96   \n",
       "0                   1.00         1.00                  0.94   \n",
       "1                   1.00         1.00                  0.77   \n",
       "0                   0.93         0.99                  0.97   \n",
       "\n",
       "    specificity_ci_upper   type  \n",
       "0                   1.00      a  \n",
       "1                   0.99      a  \n",
       "2                   1.00      a  \n",
       "3                   0.99      a  \n",
       "4                   1.00      a  \n",
       "..                   ...    ...  \n",
       "11                  0.99  a_pcr  \n",
       "12                  1.00  a_pcr  \n",
       "0                   1.00  b_pcr  \n",
       "1                   1.00  b_pcr  \n",
       "0                   1.00  c_pcr  \n",
       "\n",
       "[71 rows x 12 columns]"
      ]
     },
     "execution_count": 26,
     "metadata": {},
     "output_type": "execute_result"
    }
   ],
   "source": [
    "df"
   ]
  },
  {
   "cell_type": "code",
   "execution_count": 4,
   "id": "bba22a45",
   "metadata": {},
   "outputs": [
    {
     "data": {
      "image/png": "[encoded data removed]",
      "text/plain": [
       "<Figure size 432x288 with 1 Axes>"
      ]
     },
     "metadata": {
      "needs_background": "light"
     },
     "output_type": "display_data"
    }
   ],
   "source": [
    "plt.scatter(df[~df.type.str.contains('pcr')].sensitivity, df[~df.type.str.contains('pcr')].specificity,\n",
    "            color='blue', label='sorológico')\n",
    "plt.scatter(df[df.type.str.contains('pcr')].sensitivity, df[df.type.str.contains('pcr')].specificity, \n",
    "            color='red', label='PCR')\n",
    "plt.xlabel('sensitivity')\n",
    "plt.ylabel('specificity')\n",
    "plt.legend(loc='lower left')\n",
    "plt.show()"
   ]
  },
  {
   "cell_type": "code",
   "execution_count": 5,
   "id": "b0c66363",
   "metadata": {},
   "outputs": [
    {
     "data": {
      "text/html": [
       "<div>\n",
       "<style scoped>\n",
       "    .dataframe tbody tr th:only-of-type {\n",
       "        vertical-align: middle;\n",
       "    }\n",
       "\n",
       "    .dataframe tbody tr th {\n",
       "        vertical-align: top;\n",
       "    }\n",
       "\n",
       "    .dataframe thead th {\n",
       "        text-align: right;\n",
       "    }\n",
       "</style>\n",
       "<table border=\"1\" class=\"dataframe\">\n",
       "  <thead>\n",
       "    <tr style=\"text-align: right;\">\n",
       "      <th></th>\n",
       "      <th>Study</th>\n",
       "      <th>TP</th>\n",
       "      <th>FP</th>\n",
       "      <th>FN</th>\n",
       "      <th>TN</th>\n",
       "      <th>sensitivity</th>\n",
       "      <th>sensitivity_ci_lower</th>\n",
       "      <th>sensitivity_ci_upper</th>\n",
       "      <th>specificity</th>\n",
       "      <th>specificity_ci_lower</th>\n",
       "      <th>specificity_ci_upper</th>\n",
       "    </tr>\n",
       "  </thead>\n",
       "  <tbody>\n",
       "    <tr>\n",
       "      <th>count</th>\n",
       "      <td>7.100000e+01</td>\n",
       "      <td>71.000000</td>\n",
       "      <td>71.000000</td>\n",
       "      <td>71.000000</td>\n",
       "      <td>71.000000</td>\n",
       "      <td>71.000000</td>\n",
       "      <td>71.000000</td>\n",
       "      <td>71.000000</td>\n",
       "      <td>71.000000</td>\n",
       "      <td>71.000000</td>\n",
       "      <td>71.000000</td>\n",
       "    </tr>\n",
       "    <tr>\n",
       "      <th>mean</th>\n",
       "      <td>5.591396e+10</td>\n",
       "      <td>115.394366</td>\n",
       "      <td>13.971831</td>\n",
       "      <td>7.183099</td>\n",
       "      <td>191.676056</td>\n",
       "      <td>0.946901</td>\n",
       "      <td>0.835070</td>\n",
       "      <td>0.976479</td>\n",
       "      <td>0.942958</td>\n",
       "      <td>0.881127</td>\n",
       "      <td>0.962676</td>\n",
       "    </tr>\n",
       "    <tr>\n",
       "      <th>std</th>\n",
       "      <td>3.390722e+10</td>\n",
       "      <td>97.261427</td>\n",
       "      <td>45.681810</td>\n",
       "      <td>11.856656</td>\n",
       "      <td>212.390192</td>\n",
       "      <td>0.065500</td>\n",
       "      <td>0.174076</td>\n",
       "      <td>0.037037</td>\n",
       "      <td>0.132432</td>\n",
       "      <td>0.154064</td>\n",
       "      <td>0.113187</td>\n",
       "    </tr>\n",
       "    <tr>\n",
       "      <th>min</th>\n",
       "      <td>1.000901e+10</td>\n",
       "      <td>2.000000</td>\n",
       "      <td>0.000000</td>\n",
       "      <td>0.000000</td>\n",
       "      <td>5.000000</td>\n",
       "      <td>0.680000</td>\n",
       "      <td>0.160000</td>\n",
       "      <td>0.820000</td>\n",
       "      <td>0.390000</td>\n",
       "      <td>0.320000</td>\n",
       "      <td>0.440000</td>\n",
       "    </tr>\n",
       "    <tr>\n",
       "      <th>25%</th>\n",
       "      <td>1.034136e+10</td>\n",
       "      <td>49.000000</td>\n",
       "      <td>0.500000</td>\n",
       "      <td>0.000000</td>\n",
       "      <td>60.000000</td>\n",
       "      <td>0.930000</td>\n",
       "      <td>0.820000</td>\n",
       "      <td>0.970000</td>\n",
       "      <td>0.960000</td>\n",
       "      <td>0.890000</td>\n",
       "      <td>0.990000</td>\n",
       "    </tr>\n",
       "    <tr>\n",
       "      <th>50%</th>\n",
       "      <td>8.025802e+10</td>\n",
       "      <td>92.000000</td>\n",
       "      <td>2.000000</td>\n",
       "      <td>3.000000</td>\n",
       "      <td>124.000000</td>\n",
       "      <td>0.970000</td>\n",
       "      <td>0.890000</td>\n",
       "      <td>0.990000</td>\n",
       "      <td>0.980000</td>\n",
       "      <td>0.930000</td>\n",
       "      <td>1.000000</td>\n",
       "    </tr>\n",
       "    <tr>\n",
       "      <th>75%</th>\n",
       "      <td>8.086715e+10</td>\n",
       "      <td>169.000000</td>\n",
       "      <td>9.000000</td>\n",
       "      <td>7.500000</td>\n",
       "      <td>241.000000</td>\n",
       "      <td>1.000000</td>\n",
       "      <td>0.925000</td>\n",
       "      <td>1.000000</td>\n",
       "      <td>1.000000</td>\n",
       "      <td>0.960000</td>\n",
       "      <td>1.000000</td>\n",
       "    </tr>\n",
       "    <tr>\n",
       "      <th>max</th>\n",
       "      <td>8.198451e+10</td>\n",
       "      <td>422.000000</td>\n",
       "      <td>297.000000</td>\n",
       "      <td>49.000000</td>\n",
       "      <td>1364.000000</td>\n",
       "      <td>1.000000</td>\n",
       "      <td>0.980000</td>\n",
       "      <td>1.000000</td>\n",
       "      <td>1.000000</td>\n",
       "      <td>0.990000</td>\n",
       "      <td>1.000000</td>\n",
       "    </tr>\n",
       "  </tbody>\n",
       "</table>\n",
       "</div>"
      ],
      "text/plain": [
       "              Study          TP          FP         FN           TN  \\\n",
       "count  7.100000e+01   71.000000   71.000000  71.000000    71.000000   \n",
       "mean   5.591396e+10  115.394366   13.971831   7.183099   191.676056   \n",
       "std    3.390722e+10   97.261427   45.681810  11.856656   212.390192   \n",
       "min    1.000901e+10    2.000000    0.000000   0.000000     5.000000   \n",
       "25%    1.034136e+10   49.000000    0.500000   0.000000    60.000000   \n",
       "50%    8.025802e+10   92.000000    2.000000   3.000000   124.000000   \n",
       "75%    8.086715e+10  169.000000    9.000000   7.500000   241.000000   \n",
       "max    8.198451e+10  422.000000  297.000000  49.000000  1364.000000   \n",
       "\n",
       "       sensitivity  sensitivity_ci_lower  sensitivity_ci_upper  specificity  \\\n",
       "count    71.000000             71.000000             71.000000    71.000000   \n",
       "mean      0.946901              0.835070              0.976479     0.942958   \n",
       "std       0.065500              0.174076              0.037037     0.132432   \n",
       "min       0.680000              0.160000              0.820000     0.390000   \n",
       "25%       0.930000              0.820000              0.970000     0.960000   \n",
       "50%       0.970000              0.890000              0.990000     0.980000   \n",
       "75%       1.000000              0.925000              1.000000     1.000000   \n",
       "max       1.000000              0.980000              1.000000     1.000000   \n",
       "\n",
       "       specificity_ci_lower  specificity_ci_upper  \n",
       "count             71.000000             71.000000  \n",
       "mean               0.881127              0.962676  \n",
       "std                0.154064              0.113187  \n",
       "min                0.320000              0.440000  \n",
       "25%                0.890000              0.990000  \n",
       "50%                0.930000              1.000000  \n",
       "75%                0.960000              1.000000  \n",
       "max                0.990000              1.000000  "
      ]
     },
     "execution_count": 5,
     "metadata": {},
     "output_type": "execute_result"
    }
   ],
   "source": [
    "df.describe()"
   ]
  },
  {
   "cell_type": "code",
   "execution_count": 6,
   "id": "ea0ac2d0",
   "metadata": {},
   "outputs": [
    {
     "data": {
      "text/plain": [
       "[0.9429577464788733,\n",
       " 0.9469014084507043,\n",
       " 0.017538269617706236,\n",
       " 0.0042902615694164975,\n",
       " -0.18700410861015324]"
      ]
     },
     "execution_count": 6,
     "metadata": {},
     "output_type": "execute_result"
    }
   ],
   "source": [
    "distribution = BivariateBeta()\n",
    "\n",
    "x = df.specificity\n",
    "y = df.sensitivity\n",
    "\n",
    "m1 = np.mean(x)\n",
    "m2 = np.mean(y)\n",
    "v1 = np.var(x, ddof=1)\n",
    "v2 = np.var(y, ddof=1)\n",
    "rho = np.corrcoef(x, y)[0,1]\n",
    "\n",
    "moments = [m1, m2, v1, v2, rho]\n",
    "moments"
   ]
  },
  {
   "cell_type": "markdown",
   "id": "c7203fd1",
   "metadata": {},
   "source": [
    "Estimating through the method of moments:"
   ]
  },
  {
   "cell_type": "code",
   "execution_count": 7,
   "id": "1b257201",
   "metadata": {},
   "outputs": [],
   "source": [
    "alpha_hat1 = distribution.method_moments_estimator_1(x, y)"
   ]
  },
  {
   "cell_type": "code",
   "execution_count": 8,
   "id": "1f25c9fc",
   "metadata": {},
   "outputs": [],
   "source": [
    "alpha_hat2 = distribution.method_moments_estimator_2(x, y)"
   ]
  },
  {
   "cell_type": "code",
   "execution_count": 9,
   "id": "614439e3",
   "metadata": {},
   "outputs": [],
   "source": [
    "alpha_hat3 = distribution.method_moments_estimator_3(x, y, alpha0=(1,1))"
   ]
  },
  {
   "cell_type": "code",
   "execution_count": 10,
   "id": "e6c4b136",
   "metadata": {},
   "outputs": [],
   "source": [
    "alpha_hat4 = distribution.method_moments_estimator_4(x, y, alpha0=(1,1,1,1))"
   ]
  },
  {
   "cell_type": "code",
   "execution_count": 38,
   "id": "d884fcf9",
   "metadata": {},
   "outputs": [
    {
     "name": "stderr",
     "output_type": "stream",
     "text": [
      "21:58:26 - cmdstanpy - INFO - CmdStan start processing\n"
     ]
    },
    {
     "data": {
      "application/vnd.jupyter.widget-view+json": {
       "model_id": "0de71c70e81c47ec99093f4014205fdc",
       "version_major": 2,
       "version_minor": 0
      },
      "text/plain": [
       "chain 1 |          | 00:00 Status"
      ]
     },
     "metadata": {},
     "output_type": "display_data"
    },
    {
     "data": {
      "application/vnd.jupyter.widget-view+json": {
       "model_id": "2eb8734a567749739c328087a45cdb5f",
       "version_major": 2,
       "version_minor": 0
      },
      "text/plain": [
       "chain 2 |          | 00:00 Status"
      ]
     },
     "metadata": {},
     "output_type": "display_data"
    },
    {
     "data": {
      "application/vnd.jupyter.widget-view+json": {
       "model_id": "943a69cd8eba4b659229cd82c01899f8",
       "version_major": 2,
       "version_minor": 0
      },
      "text/plain": [
       "chain 3 |          | 00:00 Status"
      ]
     },
     "metadata": {},
     "output_type": "display_data"
    },
    {
     "data": {
      "application/vnd.jupyter.widget-view+json": {
       "model_id": "827fe542c96c466d911a5670681fa968",
       "version_major": 2,
       "version_minor": 0
      },
      "text/plain": [
       "chain 4 |          | 00:00 Status"
      ]
     },
     "metadata": {},
     "output_type": "display_data"
    },
    {
     "name": "stderr",
     "output_type": "stream",
     "text": [
      "21:58:27 - cmdstanpy - ERROR - CmdStan error: error during processing Operation not permitted\n"
     ]
    },
    {
     "name": "stdout",
     "output_type": "stream",
     "text": [
      "                                                                                                                                                                                                                                                                                                                                "
     ]
    },
    {
     "name": "stderr",
     "output_type": "stream",
     "text": [
      "21:58:27 - cmdstanpy - INFO - CmdStan done processing.\n"
     ]
    },
    {
     "name": "stdout",
     "output_type": "stream",
     "text": [
      "\n"
     ]
    },
    {
     "ename": "RuntimeError",
     "evalue": "Error during sampling:\n\nCommand and output files:\nRunSet: chains=4, chain_ids=[1, 2, 3, 4], num_processes=1\n cmd (chain 1):\n\t['/home/lucasmoschen/Documents/github/bivariate-beta/scripts/stan/bivariate-beta-model-v3', 'id=1', 'random', 'seed=35241', 'data', 'file=/tmp/tmp6rnm1eix/9jz_740w.json', 'output', 'file=/tmp/tmp6rnm1eix/bivariate-beta-model-v3zpqzrf5_/bivariate-beta-model-v3-20220930215827.csv', 'method=sample', 'num_samples=2000', 'num_warmup=2000', 'algorithm=hmc', 'adapt', 'engaged=1', 'delta=0.9', 'num_chains=4']\n retcodes=[1]\n per-chain output files (showing chain 1 only):\n csv_file:\n\t/tmp/tmp6rnm1eix/bivariate-beta-model-v3zpqzrf5_/bivariate-beta-model-v3-20220930215827_1.csv\n console_msgs (if any):\n\t/tmp/tmp6rnm1eix/bivariate-beta-model-v3zpqzrf5_/bivariate-beta-model-v3-20220930215827-stdout.txt\nConsider re-running with show_console=True if the above output is unclear!",
     "output_type": "error",
     "traceback": [
      "\u001b[0;31m---------------------------------------------------------------------------\u001b[0m",
      "\u001b[0;31mRuntimeError\u001b[0m                              Traceback (most recent call last)",
      "Input \u001b[0;32mIn [38]\u001b[0m, in \u001b[0;36m<cell line: 6>\u001b[0;34m()\u001b[0m\n\u001b[1;32m      2\u001b[0m b \u001b[38;5;241m=\u001b[39m \u001b[38;5;241m1\u001b[39m\u001b[38;5;241m*\u001b[39mnp\u001b[38;5;241m.\u001b[39mones(\u001b[38;5;241m4\u001b[39m)\n\u001b[1;32m      4\u001b[0m data \u001b[38;5;241m=\u001b[39m {\u001b[38;5;124m'\u001b[39m\u001b[38;5;124mn\u001b[39m\u001b[38;5;124m'\u001b[39m: \u001b[38;5;28mlen\u001b[39m(x), \u001b[38;5;124m'\u001b[39m\u001b[38;5;124ma\u001b[39m\u001b[38;5;124m'\u001b[39m: a, \u001b[38;5;124m'\u001b[39m\u001b[38;5;124mb\u001b[39m\u001b[38;5;124m'\u001b[39m: b, \u001b[38;5;124m'\u001b[39m\u001b[38;5;124mxy\u001b[39m\u001b[38;5;124m'\u001b[39m: np\u001b[38;5;241m.\u001b[39mcolumn_stack([x,y])}\n\u001b[0;32m----> 6\u001b[0m model_fit \u001b[38;5;241m=\u001b[39m \u001b[43mmodel3\u001b[49m\u001b[38;5;241;43m.\u001b[39;49m\u001b[43msample\u001b[49m\u001b[43m(\u001b[49m\u001b[43mdata\u001b[49m\u001b[38;5;241;43m=\u001b[39;49m\u001b[43mdata\u001b[49m\u001b[43m,\u001b[49m\u001b[43m \u001b[49m\u001b[43miter_warmup\u001b[49m\u001b[38;5;241;43m=\u001b[39;49m\u001b[38;5;241;43m2000\u001b[39;49m\u001b[43m,\u001b[49m\u001b[43m \u001b[49m\u001b[43miter_sampling\u001b[49m\u001b[38;5;241;43m=\u001b[39;49m\u001b[38;5;241;43m2000\u001b[39;49m\u001b[43m,\u001b[49m\u001b[43m \u001b[49m\u001b[43mchains\u001b[49m\u001b[38;5;241;43m=\u001b[39;49m\u001b[38;5;241;43m4\u001b[39;49m\u001b[43m,\u001b[49m\u001b[43m \u001b[49m\u001b[43madapt_delta\u001b[49m\u001b[38;5;241;43m=\u001b[39;49m\u001b[38;5;241;43m0.9\u001b[39;49m\u001b[43m)\u001b[49m\n",
      "File \u001b[0;32m~/anaconda3/envs/project-beta/lib/python3.10/site-packages/cmdstanpy/model.py:1190\u001b[0m, in \u001b[0;36mCmdStanModel.sample\u001b[0;34m(self, data, chains, parallel_chains, threads_per_chain, seed, chain_ids, inits, iter_warmup, iter_sampling, save_warmup, thin, max_treedepth, metric, step_size, adapt_engaged, adapt_delta, adapt_init_phase, adapt_metric_window, adapt_step_size, fixed_param, output_dir, sig_figs, save_latent_dynamics, save_profile, show_progress, show_console, refresh, time_fmt, force_one_process_per_chain)\u001b[0m\n\u001b[1;32m   1183\u001b[0m \u001b[38;5;28;01mif\u001b[39;00m \u001b[38;5;129;01mnot\u001b[39;00m runset\u001b[38;5;241m.\u001b[39m_check_retcodes():\n\u001b[1;32m   1184\u001b[0m     msg \u001b[38;5;241m=\u001b[39m (\n\u001b[1;32m   1185\u001b[0m         \u001b[38;5;124mf\u001b[39m\u001b[38;5;124m'\u001b[39m\u001b[38;5;124mError during sampling:\u001b[39m\u001b[38;5;130;01m\\n\u001b[39;00m\u001b[38;5;132;01m{\u001b[39;00merrors\u001b[38;5;132;01m}\u001b[39;00m\u001b[38;5;130;01m\\n\u001b[39;00m\u001b[38;5;124m'\u001b[39m\n\u001b[1;32m   1186\u001b[0m         \u001b[38;5;241m+\u001b[39m \u001b[38;5;124mf\u001b[39m\u001b[38;5;124m'\u001b[39m\u001b[38;5;124mCommand and output files:\u001b[39m\u001b[38;5;130;01m\\n\u001b[39;00m\u001b[38;5;132;01m{\u001b[39;00m\u001b[38;5;28mrepr\u001b[39m(runset)\u001b[38;5;132;01m}\u001b[39;00m\u001b[38;5;130;01m\\n\u001b[39;00m\u001b[38;5;124m'\u001b[39m\n\u001b[1;32m   1187\u001b[0m         \u001b[38;5;241m+\u001b[39m \u001b[38;5;124m'\u001b[39m\u001b[38;5;124mConsider re-running with show_console=True if the above\u001b[39m\u001b[38;5;124m'\u001b[39m\n\u001b[1;32m   1188\u001b[0m         \u001b[38;5;241m+\u001b[39m \u001b[38;5;124m'\u001b[39m\u001b[38;5;124m output is unclear!\u001b[39m\u001b[38;5;124m'\u001b[39m\n\u001b[1;32m   1189\u001b[0m     )\n\u001b[0;32m-> 1190\u001b[0m     \u001b[38;5;28;01mraise\u001b[39;00m \u001b[38;5;167;01mRuntimeError\u001b[39;00m(msg)\n\u001b[1;32m   1191\u001b[0m \u001b[38;5;28;01mif\u001b[39;00m errors:\n\u001b[1;32m   1192\u001b[0m     msg \u001b[38;5;241m=\u001b[39m (\n\u001b[1;32m   1193\u001b[0m         \u001b[38;5;124mf\u001b[39m\u001b[38;5;124m'\u001b[39m\u001b[38;5;124mNon-fatal error during sampling:\u001b[39m\u001b[38;5;130;01m\\n\u001b[39;00m\u001b[38;5;132;01m{\u001b[39;00merrors\u001b[38;5;132;01m}\u001b[39;00m\u001b[38;5;130;01m\\n\u001b[39;00m\u001b[38;5;124m'\u001b[39m\n\u001b[1;32m   1194\u001b[0m         \u001b[38;5;241m+\u001b[39m \u001b[38;5;124m'\u001b[39m\u001b[38;5;124mConsider re-running with show_console=True if the above\u001b[39m\u001b[38;5;124m'\u001b[39m\n\u001b[1;32m   1195\u001b[0m         \u001b[38;5;241m+\u001b[39m \u001b[38;5;124m'\u001b[39m\u001b[38;5;124m output is unclear!\u001b[39m\u001b[38;5;124m'\u001b[39m\n\u001b[1;32m   1196\u001b[0m     )\n",
      "\u001b[0;31mRuntimeError\u001b[0m: Error during sampling:\n\nCommand and output files:\nRunSet: chains=4, chain_ids=[1, 2, 3, 4], num_processes=1\n cmd (chain 1):\n\t['/home/lucasmoschen/Documents/github/bivariate-beta/scripts/stan/bivariate-beta-model-v3', 'id=1', 'random', 'seed=35241', 'data', 'file=/tmp/tmp6rnm1eix/9jz_740w.json', 'output', 'file=/tmp/tmp6rnm1eix/bivariate-beta-model-v3zpqzrf5_/bivariate-beta-model-v3-20220930215827.csv', 'method=sample', 'num_samples=2000', 'num_warmup=2000', 'algorithm=hmc', 'adapt', 'engaged=1', 'delta=0.9', 'num_chains=4']\n retcodes=[1]\n per-chain output files (showing chain 1 only):\n csv_file:\n\t/tmp/tmp6rnm1eix/bivariate-beta-model-v3zpqzrf5_/bivariate-beta-model-v3-20220930215827_1.csv\n console_msgs (if any):\n\t/tmp/tmp6rnm1eix/bivariate-beta-model-v3zpqzrf5_/bivariate-beta-model-v3-20220930215827-stdout.txt\nConsider re-running with show_console=True if the above output is unclear!"
     ]
    }
   ],
   "source": [
    "a = 1*np.ones(4)\n",
    "b = 1*np.ones(4)\n",
    "\n",
    "data = {'n': len(x), 'a': a, 'b': b, 'xy': np.column_stack([x,y])}\n",
    "\n",
    "model_fit = model3.sample(data=data, iter_warmup=2000, iter_sampling=2000, chains=4, adapt_delta=0.9)"
   ]
  },
  {
   "cell_type": "code",
   "execution_count": 46,
   "id": "717b6378-3317-4fd5-93a5-f064f1c44c2e",
   "metadata": {},
   "outputs": [
    {
     "data": {
      "text/plain": [
       "-0.006696133857051478"
      ]
     },
     "execution_count": 46,
     "metadata": {},
     "output_type": "execute_result"
    }
   ],
   "source": [
    "distribution.positive_diagnostic_diagnostic(x,y)"
   ]
  },
  {
   "cell_type": "code",
   "execution_count": null,
   "id": "d1693e86",
   "metadata": {},
   "outputs": [],
   "source": []
  }
 ],
 "metadata": {
  "kernelspec": {
   "display_name": "project-beta",
   "language": "python",
   "name": "project-beta"
  },
  "language_info": {
   "codemirror_mode": {
    "name": "ipython",
    "version": 3
   },
   "file_extension": ".py",
   "mimetype": "text/x-python",
   "name": "python",
   "nbconvert_exporter": "python",
   "pygments_lexer": "ipython3",
   "version": "3.9.12"
  }
 },
 "nbformat": 4,
 "nbformat_minor": 5
}
