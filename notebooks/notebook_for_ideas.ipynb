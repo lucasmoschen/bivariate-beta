{
 "cells": [
  {
   "cell_type": "code",
   "execution_count": 1,
   "id": "9d5dc404",
   "metadata": {},
   "outputs": [],
   "source": [
    "%load_ext autoreload"
   ]
  },
  {
   "cell_type": "code",
   "execution_count": 2,
   "id": "6c38345a",
   "metadata": {},
   "outputs": [],
   "source": [
    "%autoreload 2"
   ]
  },
  {
   "cell_type": "code",
   "execution_count": 3,
   "id": "30d841c8",
   "metadata": {},
   "outputs": [],
   "source": [
    "import os\n",
    "import json\n",
    "import sys\n",
    "import numpy as np\n",
    "from scipy.stats import kurtosis, norm\n",
    "from scipy.special import logsumexp\n",
    "from scipy.optimize import linear_sum_assignment\n",
    "from tqdm import tqdm, trange\n",
    "import matplotlib.patches as mpatches\n",
    "import matplotlib.pyplot as plt\n",
    "import seaborn as sns\n",
    "import sympy as sp\n",
    "\n",
    "sys.path.append('../scripts/python')\n",
    "from parameter_estimation import BivariateBeta\n",
    "from experiments import starting_experiment, starting_experiment_2\n",
    "\n",
    "plt.style.use('science')\n",
    "\n",
    "from autograd import grad\n",
    "import autograd.numpy as np"
   ]
  },
  {
   "cell_type": "markdown",
   "id": "35bcfe36",
   "metadata": {},
   "source": [
    "## Second diagnostic\n",
    "\n",
    "Presenting the use of method delta:"
   ]
  },
  {
   "cell_type": "code",
   "execution_count": 4,
   "id": "a9220a02",
   "metadata": {},
   "outputs": [],
   "source": [
    "def h(x):   \n",
    "    aux = x[2] * np.exp(0.5*(np.log(x[0]) + np.log1p(-x[0]) + np.log(x[1]) + np.log1p(-x[1])))\n",
    "    v = np.array([aux + x[0]*x[1], aux + x[0]*(1-x[1]), aux + x[1]*(1-x[0]), aux + (1-x[0])*(1-x[1])])\n",
    "    return np.prod(v)\n",
    "\n",
    "grad_h = grad(h)\n",
    "\n",
    "def matrix(x,y,D):\n",
    "    Lambda = np.zeros((3,3))\n",
    "    Lambda[:-1,:-1] = D*np.cov(x,y)\n",
    "    Lambda[0,2] = Lambda[2,0] = np.sqrt(D)*np.cov(x, (x-x.mean())*(y-y.mean()))[0,1]\n",
    "    Lambda[1,2] = Lambda[2,1] = np.sqrt(D)*np.cov(y, (x-x.mean())*(y-y.mean()))[0,1]\n",
    "    Lambda[2,2] = np.var((x-x.mean())*(y-y.mean()))\n",
    "    return Lambda"
   ]
  },
  {
   "cell_type": "markdown",
   "id": "e576a73e",
   "metadata": {},
   "source": [
    "When $n=50$, it does not converge. "
   ]
  },
  {
   "cell_type": "code",
   "execution_count": 7,
   "id": "610685db",
   "metadata": {},
   "outputs": [],
   "source": [
    "true_alpha = np.array([2,1,1,1])\n",
    "n = 50\n",
    "\n",
    "m1, m2, v1, v2, rho = BivariateBeta(true_alpha).moments()\n",
    "moments_true = np.array([m1,m2,rho])\n",
    "derivative = grad_h(moments_true)\n",
    "mean = h(moments_true)\n",
    "v = []\n",
    "for i in range(10000):\n",
    "    U = np.random.dirichlet(true_alpha, size=n)\n",
    "    X = U[:,0] + U[:,1]\n",
    "    Y = U[:,0] + U[:,2]\n",
    "    moments_hat = np.array([X.mean(), Y.mean(), np.corrcoef(X,Y)[0,1]])\n",
    "    #D = v1*v2\n",
    "    #Lambda = matrix(X,Y,D)\n",
    "    v.append(np.sqrt(n) * (h(moments_hat) - mean))#/np.sqrt(derivative @ Lambda @ derivative))"
   ]
  },
  {
   "cell_type": "code",
   "execution_count": 8,
   "id": "94166828",
   "metadata": {},
   "outputs": [
    {
     "data": {
      "image/png": "[encoded data removed]",
      "text/plain": [
       "<Figure size 432x288 with 1 Axes>"
      ]
     },
     "metadata": {
      "needs_background": "light"
     },
     "output_type": "display_data"
    }
   ],
   "source": [
    "plt.hist(v, bins=50, density=True)\n",
    "#t = np.linspace(-4,4,2000)\n",
    "#plt.plot(t, norm(0, 1).pdf(t), color='black')\n",
    "plt.show()"
   ]
  },
  {
   "cell_type": "markdown",
   "id": "a720063d",
   "metadata": {},
   "source": [
    "With $n=1000$"
   ]
  },
  {
   "cell_type": "code",
   "execution_count": 18,
   "id": "7ab41022",
   "metadata": {},
   "outputs": [],
   "source": [
    "true_alpha = np.array([2,1,1,1])\n",
    "n = 500\n",
    "\n",
    "m1, m2, v1, v2, rho = BivariateBeta(true_alpha).moments()\n",
    "moments_true = np.array([m1,m2,rho])\n",
    "derivative = grad_h(moments_true)\n",
    "mean = h(moments_true)\n",
    "v = []\n",
    "for i in range(10000):\n",
    "    U = np.random.dirichlet(true_alpha, size=n)\n",
    "    X = U[:,0] + U[:,1]\n",
    "    Y = U[:,0] + U[:,2]\n",
    "    moments_hat = np.array([X.mean(), Y.mean(), np.corrcoef(X,Y)[0,1]])\n",
    "    #D = v1*v2\n",
    "    #Lambda = matrix(X,Y,D)\n",
    "    v.append(np.sqrt(n) * (h(moments_hat) - mean))#/np.sqrt(derivative @ Lambda @ derivative))"
   ]
  },
  {
   "cell_type": "code",
   "execution_count": 19,
   "id": "c8021a15",
   "metadata": {},
   "outputs": [
    {
     "data": {
      "image/png": "[encoded data removed]",
      "text/plain": [
       "<Figure size 432x288 with 1 Axes>"
      ]
     },
     "metadata": {
      "needs_background": "light"
     },
     "output_type": "display_data"
    }
   ],
   "source": [
    "plt.hist(v, bins=50, density=True)\n",
    "t = np.linspace(-0.1,0.1,2000)\n",
    "plt.plot(t, norm(0, 0.023).pdf(t), color='black')\n",
    "plt.show()"
   ]
  },
  {
   "cell_type": "markdown",
   "id": "fdfeb320",
   "metadata": {},
   "source": [
    "## That's not good because..."
   ]
  },
  {
   "cell_type": "code",
   "execution_count": 31,
   "id": "a038a210",
   "metadata": {},
   "outputs": [],
   "source": [
    "rng = np.random.default_rng(671289)\n",
    "n = 50\n",
    "\n",
    "Z = rng.multivariate_normal(mean=[1,1], cov=[[1,-0.6],[-0.6,1]], size=n)\n",
    "X = 1/(1+np.exp(-Z[:,0]))\n",
    "Y = 1/(1+np.exp(-Z[:,1]))\n",
    "\n",
    "P_values = []\n",
    "\n",
    "for i in range(500):\n",
    "    indeces = np.random.choice(range(n), size=n)\n",
    "    Xb = X[indeces]\n",
    "    Yb = Y[indeces]\n",
    "    m1 = np.mean(Xb)\n",
    "    m2 = np.mean(Yb)\n",
    "    rho = np.corrcoef(Xb, Yb)[0,1]\n",
    "    D = rho * np.exp(0.5*(np.log(m1) + np.log1p(-m1) + np.log(m2) + np.log1p(-m2)))\n",
    "    P = min(D + m1*m2, -D + m1*(1-m2), -D + m2*(1-m1), D + (1-m1)*(1-m2))\n",
    "    P_values.append(P)"
   ]
  },
  {
   "cell_type": "code",
   "execution_count": 32,
   "id": "acf133e0",
   "metadata": {},
   "outputs": [
    {
     "data": {
      "image/png": "[encoded data removed]",
      "text/plain": [
       "<Figure size 432x288 with 1 Axes>"
      ]
     },
     "metadata": {
      "needs_background": "light"
     },
     "output_type": "display_data"
    }
   ],
   "source": [
    "plt.hist(P_values, bins=50)\n",
    "plt.show()"
   ]
  },
  {
   "cell_type": "code",
   "execution_count": null,
   "id": "4ffd7382",
   "metadata": {},
   "outputs": [],
   "source": []
  }
 ],
 "metadata": {
  "kernelspec": {
   "display_name": "project-beta",
   "language": "python",
   "name": "project-beta"
  },
  "language_info": {
   "codemirror_mode": {
    "name": "ipython",
    "version": 3
   },
   "file_extension": ".py",
   "mimetype": "text/x-python",
   "name": "python",
   "nbconvert_exporter": "python",
   "pygments_lexer": "ipython3",
   "version": "3.9.12"
  },
  "vscode": {
   "interpreter": {
    "hash": "d34ceeaf055eb6cd153bb21e6bbcc9e7d806da5e2599e7c6ed53def7cc2994a6"
   }
  }
 },
 "nbformat": 4,
 "nbformat_minor": 5
}
