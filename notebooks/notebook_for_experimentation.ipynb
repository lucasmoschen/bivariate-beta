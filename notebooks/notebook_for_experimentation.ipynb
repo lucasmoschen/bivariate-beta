{
 "cells": [
  {
   "cell_type": "code",
   "execution_count": 1,
   "id": "9d5dc404",
   "metadata": {},
   "outputs": [],
   "source": [
    "%load_ext autoreload"
   ]
  },
  {
   "cell_type": "code",
   "execution_count": 2,
   "id": "6c38345a",
   "metadata": {},
   "outputs": [],
   "source": [
    "%autoreload 2"
   ]
  },
  {
   "cell_type": "code",
   "execution_count": 3,
   "id": "30d841c8",
   "metadata": {},
   "outputs": [],
   "source": [
    "import os\n",
    "import json\n",
    "import sys\n",
    "import numpy as np\n",
    "from scipy.stats import kurtosis, norm\n",
    "from scipy.special import logsumexp\n",
    "from scipy.optimize import linear_sum_assignment\n",
    "from tqdm import tqdm, trange\n",
    "import matplotlib.patches as mpatches\n",
    "import matplotlib.pyplot as plt\n",
    "import seaborn as sns\n",
    "import sympy as sp\n",
    "\n",
    "sys.path.append('../scripts/python')\n",
    "from parameter_estimation import BivariateBeta\n",
    "from experiments import starting_experiment, starting_experiment_2\n",
    "\n",
    "plt.style.use('science')\n",
    "\n",
    "from autograd import grad\n",
    "import autograd.numpy as np"
   ]
  },
  {
   "cell_type": "markdown",
   "id": "35bcfe36",
   "metadata": {},
   "source": [
    "## Second diagnostic\n",
    "\n",
    "Presenting the use of method delta:"
   ]
  },
  {
   "cell_type": "code",
   "execution_count": 4,
   "id": "a9220a02",
   "metadata": {},
   "outputs": [],
   "source": [
    "def h(x):   \n",
    "    aux = x[2] * np.exp(0.5*(np.log(x[0]) + np.log1p(-x[0]) + np.log(x[1]) + np.log1p(-x[1])))\n",
    "    v = np.array([aux + x[0]*x[1], aux + x[0]*(1-x[1]), aux + x[1]*(1-x[0]), aux + (1-x[0])*(1-x[1])])\n",
    "    return np.prod(v)\n",
    "\n",
    "grad_h = grad(h)\n",
    "\n",
    "def matrix(x,y,D):\n",
    "    Lambda = np.zeros((3,3))\n",
    "    Lambda[:-1,:-1] = D*np.cov(x,y)\n",
    "    Lambda[0,2] = Lambda[2,0] = np.sqrt(D)*np.cov(x, (x-x.mean())*(y-y.mean()))[0,1]\n",
    "    Lambda[1,2] = Lambda[2,1] = np.sqrt(D)*np.cov(y, (x-x.mean())*(y-y.mean()))[0,1]\n",
    "    Lambda[2,2] = np.var((x-x.mean())*(y-y.mean()))\n",
    "    return Lambda"
   ]
  },
  {
   "cell_type": "markdown",
   "id": "e576a73e",
   "metadata": {},
   "source": [
    "When $n=50$, it does not converge. "
   ]
  },
  {
   "cell_type": "code",
   "execution_count": 7,
   "id": "610685db",
   "metadata": {},
   "outputs": [],
   "source": [
    "true_alpha = np.array([2,1,1,1])\n",
    "n = 50\n",
    "\n",
    "m1, m2, v1, v2, rho = BivariateBeta(true_alpha).moments()\n",
    "moments_true = np.array([m1,m2,rho])\n",
    "derivative = grad_h(moments_true)\n",
    "mean = h(moments_true)\n",
    "v = []\n",
    "for i in range(10000):\n",
    "    U = np.random.dirichlet(true_alpha, size=n)\n",
    "    X = U[:,0] + U[:,1]\n",
    "    Y = U[:,0] + U[:,2]\n",
    "    moments_hat = np.array([X.mean(), Y.mean(), np.corrcoef(X,Y)[0,1]])\n",
    "    #D = v1*v2\n",
    "    #Lambda = matrix(X,Y,D)\n",
    "    v.append(np.sqrt(n) * (h(moments_hat) - mean))#/np.sqrt(derivative @ Lambda @ derivative))"
   ]
  },
  {
   "cell_type": "code",
   "execution_count": 8,
   "id": "94166828",
   "metadata": {},
   "outputs": [
    {
     "data": {
      "image/png": "[encoded data removed]",
      "text/plain": [
       "<Figure size 432x288 with 1 Axes>"
      ]
     },
     "metadata": {
      "needs_background": "light"
     },
     "output_type": "display_data"
    }
   ],
   "source": [
    "plt.hist(v, bins=50, density=True)\n",
    "#t = np.linspace(-4,4,2000)\n",
    "#plt.plot(t, norm(0, 1).pdf(t), color='black')\n",
    "plt.show()"
   ]
  },
  {
   "cell_type": "markdown",
   "id": "a720063d",
   "metadata": {},
   "source": [
    "With $n=1000$"
   ]
  },
  {
   "cell_type": "code",
   "execution_count": 18,
   "id": "7ab41022",
   "metadata": {},
   "outputs": [],
   "source": [
    "true_alpha = np.array([2,1,1,1])\n",
    "n = 500\n",
    "\n",
    "m1, m2, v1, v2, rho = BivariateBeta(true_alpha).moments()\n",
    "moments_true = np.array([m1,m2,rho])\n",
    "derivative = grad_h(moments_true)\n",
    "mean = h(moments_true)\n",
    "v = []\n",
    "for i in range(10000):\n",
    "    U = np.random.dirichlet(true_alpha, size=n)\n",
    "    X = U[:,0] + U[:,1]\n",
    "    Y = U[:,0] + U[:,2]\n",
    "    moments_hat = np.array([X.mean(), Y.mean(), np.corrcoef(X,Y)[0,1]])\n",
    "    #D = v1*v2\n",
    "    #Lambda = matrix(X,Y,D)\n",
    "    v.append(np.sqrt(n) * (h(moments_hat) - mean))#/np.sqrt(derivative @ Lambda @ derivative))"
   ]
  },
  {
   "cell_type": "code",
   "execution_count": 19,
   "id": "c8021a15",
   "metadata": {},
   "outputs": [
    {
     "data": {
      "image/png": "[encoded data removed]",
      "text/plain": [
       "<Figure size 432x288 with 1 Axes>"
      ]
     },
     "metadata": {
      "needs_background": "light"
     },
     "output_type": "display_data"
    }
   ],
   "source": [
    "plt.hist(v, bins=50, density=True)\n",
    "t = np.linspace(-0.1,0.1,2000)\n",
    "plt.plot(t, norm(0, 0.023).pdf(t), color='black')\n",
    "plt.show()"
   ]
  },
  {
   "cell_type": "markdown",
   "id": "b0f809c7",
   "metadata": {},
   "source": [
    "## Looking at the minimum statistic\n",
    "\n",
    "Here we look for the minimum statistic for small values of $\\alpha$. \n",
    "We can observe that it can get very small. "
   ]
  },
  {
   "cell_type": "code",
   "execution_count": 36,
   "id": "a4cbcf03",
   "metadata": {},
   "outputs": [
    {
     "name": "stderr",
     "output_type": "stream",
     "text": [
      "100%|█████████████████████████████████████| 10000/10000 [15:09<00:00, 11.00it/s]\n"
     ]
    }
   ],
   "source": [
    "rng = np.random.default_rng(671289)\n",
    "true_alpha = np.array([1e-3,1e-1,2.5,1000.0])\n",
    "n = 50\n",
    "\n",
    "P_quantile = []\n",
    "\n",
    "for i in trange(10000):\n",
    "    true_alpha = np.random.uniform(0, 0.5, size=4)\n",
    "    U = rng.dirichlet(true_alpha, size=n)\n",
    "    X = U[:,0] + U[:,1]\n",
    "    Y = U[:,0] + U[:,2]\n",
    "    P_values = []\n",
    "    for i in range(500):\n",
    "        indeces = np.random.choice(range(n), size=n)\n",
    "        Xb = X[indeces]\n",
    "        Yb = Y[indeces]\n",
    "        m1 = np.mean(Xb)\n",
    "        m2 = np.mean(Yb)\n",
    "        rho = np.corrcoef(Xb, Yb)[0,1]\n",
    "        D = rho * np.exp(0.5*(np.log(m1) + np.log1p(-m1) + np.log(m2) + np.log1p(-m2)))\n",
    "        P = min(D + m1*m2, -D + m1*(1-m2), -D + m2*(1-m1), D + (1-m1)*(1-m2))\n",
    "        P_values.append(P)\n",
    "    P_quantile.append(np.quantile(P,0.05))"
   ]
  },
  {
   "cell_type": "code",
   "execution_count": 37,
   "id": "eeb12c9e",
   "metadata": {},
   "outputs": [
    {
     "data": {
      "image/png": "[encoded data removed]",
      "text/plain": [
       "<Figure size 432x288 with 1 Axes>"
      ]
     },
     "metadata": {
      "needs_background": "light"
     },
     "output_type": "display_data"
    }
   ],
   "source": [
    "plt.hist(P_quantile, bins=50)\n",
    "plt.show()"
   ]
  },
  {
   "cell_type": "markdown",
   "id": "fdfeb320",
   "metadata": {},
   "source": [
    "## That's not good because..."
   ]
  },
  {
   "cell_type": "code",
   "execution_count": 31,
   "id": "a038a210",
   "metadata": {},
   "outputs": [],
   "source": [
    "rng = np.random.default_rng(671289)\n",
    "n = 50\n",
    "\n",
    "Z = rng.multivariate_normal(mean=[1,1], cov=[[1,-0.6],[-0.6,1]], size=n)\n",
    "X = 1/(1+np.exp(-Z[:,0]))\n",
    "Y = 1/(1+np.exp(-Z[:,1]))\n",
    "\n",
    "P_values = []\n",
    "\n",
    "for i in range(500):\n",
    "    indeces = np.random.choice(range(n), size=n)\n",
    "    Xb = X[indeces]\n",
    "    Yb = Y[indeces]\n",
    "    m1 = np.mean(Xb)\n",
    "    m2 = np.mean(Yb)\n",
    "    rho = np.corrcoef(Xb, Yb)[0,1]\n",
    "    D = rho * np.exp(0.5*(np.log(m1) + np.log1p(-m1) + np.log(m2) + np.log1p(-m2)))\n",
    "    P = min(D + m1*m2, -D + m1*(1-m2), -D + m2*(1-m1), D + (1-m1)*(1-m2))\n",
    "    P_values.append(P)"
   ]
  },
  {
   "cell_type": "code",
   "execution_count": 32,
   "id": "acf133e0",
   "metadata": {},
   "outputs": [
    {
     "data": {
      "image/png": "[encoded data removed]",
      "text/plain": [
       "<Figure size 432x288 with 1 Axes>"
      ]
     },
     "metadata": {
      "needs_background": "light"
     },
     "output_type": "display_data"
    }
   ],
   "source": [
    "plt.hist(P_values, bins=50)\n",
    "plt.show()"
   ]
  },
  {
   "cell_type": "markdown",
   "id": "95c23ee8",
   "metadata": {},
   "source": [
    "## What happens if $\\alpha > 1$?"
   ]
  },
  {
   "cell_type": "code",
   "execution_count": 23,
   "id": "c8c12141",
   "metadata": {},
   "outputs": [],
   "source": [
    "n = 50\n",
    "\n",
    "P_values = []\n",
    "\n",
    "for i in range(10000):\n",
    "    alpha = np.random.uniform(1, 10, size=4)\n",
    "    U = np.random.dirichlet(alpha, size=n)\n",
    "    X = U[:,0] + U[:,1]\n",
    "    Y = U[:,0] + U[:,2]\n",
    "    m1 = X.mean()\n",
    "    m2 = Y.mean()\n",
    "    rho = np.corrcoef(X,Y)[0,1]\n",
    "    D = rho * np.sqrt(m1*(1-m1)*m2*(1-m2))\n",
    "    P = min([D + m1*m2, -D + m1*(1-m2), -D + m2*(1-m1), D + (1-m1)*(1-m2)])\n",
    "    P_values.append(P)"
   ]
  },
  {
   "cell_type": "code",
   "execution_count": 26,
   "id": "1d951828",
   "metadata": {},
   "outputs": [
    {
     "data": {
      "image/png": "[encoded data removed]",
      "text/plain": [
       "<Figure size 432x288 with 1 Axes>"
      ]
     },
     "metadata": {
      "needs_background": "light"
     },
     "output_type": "display_data"
    }
   ],
   "source": [
    "plt.hist(P_values, bins=50)\n",
    "plt.show()"
   ]
  },
  {
   "cell_type": "markdown",
   "id": "92917a19",
   "metadata": {},
   "source": [
    "## Sensibility of the first diagnostic method"
   ]
  },
  {
   "cell_type": "code",
   "execution_count": 10,
   "id": "6b1cb195",
   "metadata": {},
   "outputs": [],
   "source": [
    "seed = np.random.randint(3219121)\n",
    "rng = np.random.default_rng(seed)\n",
    "\n",
    "S1_values = []\n",
    "S2_values = []\n",
    "\n",
    "for i in range(2000):\n",
    "\n",
    "    X = rng.beta(2, 3, size=50)\n",
    "    Y = rng.beta(1, 3, size=50)\n",
    "\n",
    "    S1, _ = BivariateBeta().marginal_diagnostic(X,Y, which_g='divisor')\n",
    "    S2, _ = BivariateBeta().marginal_diagnostic(X,Y, which_g='quadratic')\n",
    "\n",
    "    S1_values.append(S1)\n",
    "    S2_values.append(S2)"
   ]
  },
  {
   "cell_type": "code",
   "execution_count": 11,
   "id": "6db1108e",
   "metadata": {},
   "outputs": [],
   "source": [
    "t = np.linspace(-4,4,1000)"
   ]
  },
  {
   "cell_type": "code",
   "execution_count": 12,
   "id": "8e394fea",
   "metadata": {},
   "outputs": [
    {
     "data": {
      "image/png": "[encoded data removed]",
      "text/plain": [
       "<Figure size 432x288 with 1 Axes>"
      ]
     },
     "metadata": {
      "needs_background": "light"
     },
     "output_type": "display_data"
    }
   ],
   "source": [
    "plt.hist(S1_values, bins=50, density=True, alpha=0.8)\n",
    "plt.hist(S2_values, bins=50, density=True, alpha=0.5)\n",
    "plt.plot(t, norm.pdf(t))\n",
    "plt.show()"
   ]
  },
  {
   "cell_type": "markdown",
   "id": "b127f585",
   "metadata": {},
   "source": [
    "## Q-Q plot\n",
    "\n",
    "I first will verify if Assingment problem is equivalent to sorting in the unidimensional setting."
   ]
  },
  {
   "cell_type": "code",
   "execution_count": 13,
   "id": "a4a57b05",
   "metadata": {},
   "outputs": [],
   "source": [
    "n = 100\n",
    "x = np.random.multivariate_normal(mean=np.zeros(1), cov=np.eye(1), size=n)\n",
    "y = np.random.multivariate_normal(mean=np.zeros(1), cov=np.eye(1), size=n)"
   ]
  },
  {
   "cell_type": "code",
   "execution_count": 14,
   "id": "df09b7d9",
   "metadata": {},
   "outputs": [],
   "source": [
    "C = np.zeros((n,n))\n",
    "for i in range(n):\n",
    "    for j in range(n):\n",
    "        C[i,j] = (x[i] - y[j])**2\n",
    "        \n",
    "index1_assign, index2_assign = linear_sum_assignment(cost_matrix=C)\n",
    "index1_sort, index2_sort = np.argsort(x, axis=0), np.argsort(y, axis=0)"
   ]
  },
  {
   "cell_type": "code",
   "execution_count": 15,
   "id": "4143b1f6",
   "metadata": {},
   "outputs": [
    {
     "data": {
      "image/png": "[encoded data removed]",
      "text/plain": [
       "<Figure size 720x288 with 2 Axes>"
      ]
     },
     "metadata": {
      "needs_background": "light"
     },
     "output_type": "display_data"
    }
   ],
   "source": [
    "fig, ax = plt.subplots(1,2,figsize=(10,4))\n",
    "ax[0].scatter(x[index1_sort], y[index2_sort])\n",
    "ax[1].scatter(x[index1_assign], y[index2_assign])\n",
    "plt.show()"
   ]
  },
  {
   "cell_type": "code",
   "execution_count": 16,
   "id": "2ff6c664",
   "metadata": {},
   "outputs": [],
   "source": [
    "n = 100\n",
    "x = np.random.multivariate_normal(mean=np.zeros(2), cov=np.eye(2), size=n)\n",
    "y = np.random.multivariate_normal(mean=np.zeros(2), cov=np.eye(2), size=n)"
   ]
  },
  {
   "cell_type": "code",
   "execution_count": 17,
   "id": "821766a4",
   "metadata": {},
   "outputs": [],
   "source": [
    "C = np.zeros((n,n))\n",
    "for i in range(n):\n",
    "    for j in range(n):\n",
    "        C[i,j] = np.linalg.norm(x[i] - y[j], ord=2)\n",
    "        \n",
    "index1, index2 = linear_sum_assignment(cost_matrix=C)"
   ]
  },
  {
   "cell_type": "code",
   "execution_count": 18,
   "id": "01effc93",
   "metadata": {},
   "outputs": [
    {
     "data": {
      "image/png": "[encoded data removed]",
      "text/plain": [
       "<Figure size 720x288 with 2 Axes>"
      ]
     },
     "metadata": {
      "needs_background": "light"
     },
     "output_type": "display_data"
    }
   ],
   "source": [
    "fig, ax = plt.subplots(1,2,figsize=(10,4))\n",
    "ax[0].scatter(x[index1, 0], y[index2, 0])\n",
    "ax[1].scatter(x[index1, 1], y[index2, 1])\n",
    "plt.show()"
   ]
  },
  {
   "cell_type": "markdown",
   "id": "a0797186",
   "metadata": {},
   "source": [
    "The above graphic is called **fuzzy Q-Q plot**\n",
    "\n",
    "## Well-specified case"
   ]
  },
  {
   "cell_type": "code",
   "execution_count": 30,
   "id": "4ec38e66",
   "metadata": {},
   "outputs": [],
   "source": [
    "rng = np.random.default_rng(61289)\n",
    "\n",
    "true_alpha = np.array([2,7,3,1])\n",
    "n = 100\n",
    "\n",
    "U = rng.dirichlet(true_alpha, size=n)\n",
    "X = U[:,0] + U[:,1]\n",
    "Y = U[:,0] + U[:,2]\n",
    "XY = np.column_stack([X,Y])\n",
    "\n",
    "alpha_hat = BivariateBeta().method_moments_estimator_4(X,Y,alpha0=(1,1,1,1))\n",
    "U = rng.dirichlet(alpha_hat, size=n)\n",
    "X_hat = U[:,0] + U[:,1]\n",
    "Y_hat = U[:,0] + U[:,2]\n",
    "XY_hat = np.column_stack([X_hat, Y_hat])\n",
    "\n",
    "C = np.zeros((n,n))\n",
    "for i in range(n):\n",
    "    for j in range(n):\n",
    "        C[i,j] = np.linalg.norm(XY[i] - XY_hat[j], ord=2)\n",
    "        \n",
    "index1, index2 = linear_sum_assignment(cost_matrix=C)"
   ]
  },
  {
   "cell_type": "code",
   "execution_count": 31,
   "id": "fbdfb63b",
   "metadata": {},
   "outputs": [
    {
     "data": {
      "image/png": "[encoded data removed]",
      "text/plain": [
       "<Figure size 720x288 with 2 Axes>"
      ]
     },
     "metadata": {
      "needs_background": "light"
     },
     "output_type": "display_data"
    }
   ],
   "source": [
    "fig, ax = plt.subplots(1,2,figsize=(10,4))\n",
    "ax[0].scatter(XY[index1, 0], XY_hat[index2, 0])\n",
    "ax[1].scatter(XY[index1, 1], XY_hat[index2, 1])\n",
    "ax[0].plot([0, 1], [0, 1], color='black', linestyle='--')\n",
    "ax[1].plot([0, 1], [0, 1], color='black', linestyle='--')\n",
    "plt.show()"
   ]
  },
  {
   "cell_type": "markdown",
   "id": "525dac1c",
   "metadata": {},
   "source": [
    "## Wrongly specified case"
   ]
  },
  {
   "cell_type": "code",
   "execution_count": 21,
   "id": "3465d056",
   "metadata": {},
   "outputs": [],
   "source": [
    "rng = np.random.default_rng(671289)\n",
    "n = 100\n",
    "\n",
    "X = rng.beta(1,3, size=n)\n",
    "Y = rng.beta(4,5, size=n)\n",
    "XY = np.column_stack([X,Y])\n",
    "\n",
    "alpha_hat = BivariateBeta().method_moments_estimator_4(X,Y,alpha0=(1,1,1,1))\n",
    "U = rng.dirichlet(alpha_hat, size=n)\n",
    "X_hat = U[:,0] + U[:,1]\n",
    "Y_hat = U[:,0] + U[:,2]\n",
    "XY_hat = np.column_stack([X_hat, Y_hat])\n",
    "\n",
    "C = np.zeros((n,n))\n",
    "for i in range(n):\n",
    "    for j in range(n):\n",
    "        C[i,j] = np.linalg.norm(XY[i] - XY_hat[j], ord=2)\n",
    "        \n",
    "index1, index2 = linear_sum_assignment(cost_matrix=C)"
   ]
  },
  {
   "cell_type": "code",
   "execution_count": 22,
   "id": "5bff2c6c",
   "metadata": {},
   "outputs": [
    {
     "data": {
      "image/png": "[encoded data removed]",
      "text/plain": [
       "<Figure size 720x288 with 2 Axes>"
      ]
     },
     "metadata": {
      "needs_background": "light"
     },
     "output_type": "display_data"
    }
   ],
   "source": [
    "fig, ax = plt.subplots(1,2,figsize=(10,4))\n",
    "ax[0].scatter(XY[index1, 0], XY_hat[index2, 0])\n",
    "ax[1].scatter(XY[index1, 1], XY_hat[index2, 1])\n",
    "ax[0].plot([0, 1], [0, 1], color='black', linestyle='--')\n",
    "ax[1].plot([0, 1], [0, 1], color='black', linestyle='--')\n",
    "plt.show()"
   ]
  },
  {
   "cell_type": "code",
   "execution_count": 23,
   "id": "afeaf389",
   "metadata": {},
   "outputs": [
    {
     "name": "stdout",
     "output_type": "stream",
     "text": [
      "1.482793514762536 5.605288405676561\n",
      "3.063375140237352 4.024706780201744\n"
     ]
    }
   ],
   "source": [
    "print(alpha_hat[0]+alpha_hat[1], alpha_hat[2]+alpha_hat[3])\n",
    "print(alpha_hat[0]+alpha_hat[2], alpha_hat[1]+alpha_hat[3])"
   ]
  },
  {
   "cell_type": "markdown",
   "id": "62bb8a01",
   "metadata": {},
   "source": [
    "## Distance Q-Q Plot"
   ]
  },
  {
   "cell_type": "code",
   "execution_count": 24,
   "id": "5b7de82f",
   "metadata": {},
   "outputs": [],
   "source": [
    "n = 100\n",
    "x = np.random.multivariate_normal(mean=np.zeros(2), cov=np.eye(2), size=n)\n",
    "y = np.random.multivariate_normal(mean=np.zeros(2), cov=np.eye(2), size=n)"
   ]
  },
  {
   "cell_type": "code",
   "execution_count": 25,
   "id": "a7daaac7",
   "metadata": {},
   "outputs": [],
   "source": [
    "C = np.zeros((n,n))\n",
    "for i in range(n):\n",
    "    for j in range(n):\n",
    "        C[i,j] = np.linalg.norm(x[i] - y[j], ord=2)\n",
    "index1, index2 = linear_sum_assignment(cost_matrix=C)\n",
    "\n",
    "distances1 = np.sort(C[index1, index2])\n",
    "\n",
    "distances2 = np.zeros(100)\n",
    "\n",
    "for k in range(50):\n",
    "    z = np.random.multivariate_normal(mean=np.zeros(2), cov=np.eye(2), size=n)\n",
    "    C = np.zeros((n,n))\n",
    "    for i in range(n):\n",
    "        for j in range(n):\n",
    "            C[i,j] = np.linalg.norm(x[i] - z[j], ord=2)\n",
    "    index1, index2 = linear_sum_assignment(cost_matrix=C)\n",
    "\n",
    "    distances2 = (k * distances2 + np.sort(C[index1, index2]))/(k+1)"
   ]
  },
  {
   "cell_type": "code",
   "execution_count": 26,
   "id": "92bba384",
   "metadata": {},
   "outputs": [
    {
     "data": {
      "image/png": "[encoded data removed]",
      "text/plain": [
       "<Figure size 432x288 with 1 Axes>"
      ]
     },
     "metadata": {
      "needs_background": "light"
     },
     "output_type": "display_data"
    }
   ],
   "source": [
    "plt.scatter(distances1, distances2)\n",
    "plt.plot([0,2], [0,2])\n",
    "plt.show()"
   ]
  },
  {
   "cell_type": "code",
   "execution_count": null,
   "id": "e68c55ac",
   "metadata": {},
   "outputs": [],
   "source": []
  }
 ],
 "metadata": {
  "kernelspec": {
   "display_name": "ProjectBeta",
   "language": "python",
   "name": "projectbeta"
  },
  "language_info": {
   "codemirror_mode": {
    "name": "ipython",
    "version": 3
   },
   "file_extension": ".py",
   "mimetype": "text/x-python",
   "name": "python",
   "nbconvert_exporter": "python",
   "pygments_lexer": "ipython3",
   "version": "3.10.4"
  },
  "vscode": {
   "interpreter": {
    "hash": "d34ceeaf055eb6cd153bb21e6bbcc9e7d806da5e2599e7c6ed53def7cc2994a6"
   }
  }
 },
 "nbformat": 4,
 "nbformat_minor": 5
}
