{
 "cells": [
  {
   "cell_type": "code",
   "execution_count": 1,
   "id": "9d5dc404",
   "metadata": {},
   "outputs": [],
   "source": [
    "%load_ext autoreload"
   ]
  },
  {
   "cell_type": "code",
   "execution_count": 2,
   "id": "6c38345a",
   "metadata": {},
   "outputs": [],
   "source": [
    "%autoreload 2"
   ]
  },
  {
   "cell_type": "code",
   "execution_count": 3,
   "id": "30d841c8",
   "metadata": {},
   "outputs": [],
   "source": [
    "import os\n",
    "import json\n",
    "import sys\n",
    "import numpy as np\n",
    "from scipy.stats import kurtosis, norm\n",
    "from scipy.special import logsumexp\n",
    "from scipy.optimize import linear_sum_assignment\n",
    "from tqdm import tqdm, trange\n",
    "import matplotlib.patches as mpatches\n",
    "import matplotlib.pyplot as plt\n",
    "import seaborn as sns\n",
    "import sympy as sp\n",
    "\n",
    "sys.path.append('../scripts/python')\n",
    "from parameter_estimation import BivariateBeta\n",
    "from experiments import starting_experiment, starting_experiment_2\n",
    "\n",
    "plt.style.use('science')"
   ]
  },
  {
   "cell_type": "markdown",
   "id": "35bcfe36",
   "metadata": {},
   "source": [
    "## Second diagnostic"
   ]
  },
  {
   "cell_type": "code",
   "execution_count": 86,
   "id": "a9220a02",
   "metadata": {},
   "outputs": [],
   "source": [
    "from autograd import grad\n",
    "import autograd.numpy as np\n",
    "\n",
    "def c(x):\n",
    "    return (x[3] - x[0]*x[1])*x[0]*(1-x[0])/x[2] + (1-x[0])*(1-x[1])\n",
    "\n",
    "def h(x):\n",
    "    r = (x[0] + x[1] - 1 + c(x))\n",
    "    r *= (1 - x[0] - c(x))\n",
    "    r *= (1 - x[1] - c(x))\n",
    "    r *= c(x)\n",
    "    return r\n",
    "\n",
    "grad_h = grad(h)\n",
    "\n",
    "def matrix(x,y):\n",
    "    Lambda = np.zeros((4,4))\n",
    "    Lambda[:-2,:-2] = np.cov(x,y)\n",
    "    Lambda[0,2] = Lambda[2,0] = np.cov(x, (x-x.mean())**2)[0,1]\n",
    "    Lambda[1,2] = Lambda[2,1] = np.cov(y, (x-x.mean())**2)[0,1]\n",
    "    Lambda[2,2] = np.var((x-x.mean())**2)\n",
    "    Lambda[0,3] = Lambda[3,0] = np.cov(x, x*y)[0,1]\n",
    "    Lambda[1,3] = Lambda[3,1] = np.cov(y, x*y)[0,1]\n",
    "    Lambda[2,3] = Lambda[3,2] = np.cov((x-x.mean())**2, x*y)[0,1]\n",
    "    Lambda[3,3] = np.var(x*y)\n",
    "    return Lambda"
   ]
  },
  {
   "cell_type": "code",
   "execution_count": 99,
   "id": "610685db",
   "metadata": {},
   "outputs": [],
   "source": [
    "true_alpha = np.array([2,1,1,1])\n",
    "n = 100\n",
    "m1, m2, v1, v2, rho = BivariateBeta(true_alpha).moments()\n",
    "moments_true = np.array([m1,m2,v1,rho*np.sqrt(v1*v2) + m1*m2])\n",
    "derivative = grad_h(moments_true)\n",
    "mean = h(moments_true)\n",
    "v = []\n",
    "for i in range(1000):\n",
    "    U = np.random.dirichlet(true_alpha, size=n)\n",
    "    X = U[:,0] + U[:,1]\n",
    "    Y = U[:,0] + U[:,2]\n",
    "    moments_hat = np.array([X.mean(), Y.mean(), X.var(), (X*Y).mean()])\n",
    "    Lambda = matrix(X,Y)\n",
    "    v.append(moments_hat)\n",
    "    #v.append(np.sqrt(n) * (h(moments_hat) - mean) / np.sqrt(derivative @ Lambda @ derivative))"
   ]
  },
  {
   "cell_type": "code",
   "execution_count": 100,
   "id": "94166828",
   "metadata": {},
   "outputs": [
    {
     "data": {
      "image/png": "[encoded data removed]",
      "text/plain": [
       "<Figure size 432x288 with 1 Axes>"
      ]
     },
     "metadata": {
      "needs_background": "light"
     },
     "output_type": "display_data"
    }
   ],
   "source": [
    "plt.hist(np.sqrt(n)*(np.array(v)[:,3] - rho), bins=25)\n",
    "plt.show()"
   ]
  },
  {
   "cell_type": "code",
   "execution_count": 97,
   "id": "71d32f92",
   "metadata": {},
   "outputs": [
    {
     "data": {
      "text/plain": [
       "0.3666094541150798"
      ]
     },
     "execution_count": 97,
     "metadata": {},
     "output_type": "execute_result"
    }
   ],
   "source": [
    "np.array(v)[:,3].mean()"
   ]
  },
  {
   "cell_type": "code",
   "execution_count": 98,
   "id": "66a992f8",
   "metadata": {},
   "outputs": [
    {
     "data": {
      "text/plain": [
       "0.16666666666666669"
      ]
     },
     "execution_count": 98,
     "metadata": {},
     "output_type": "execute_result"
    }
   ],
   "source": [
    "rho"
   ]
  },
  {
   "cell_type": "code",
   "execution_count": 19,
   "id": "a4cbcf03",
   "metadata": {},
   "outputs": [
    {
     "name": "stderr",
     "output_type": "stream",
     "text": [
      "C:\\Users\\lucas\\anaconda3\\envs\\project-beta\\lib\\site-packages\\numpy\\lib\\function_base.py:2853: RuntimeWarning: invalid value encountered in divide\n",
      "  c /= stddev[:, None]\n",
      "C:\\Users\\lucas\\anaconda3\\envs\\project-beta\\lib\\site-packages\\numpy\\lib\\function_base.py:2854: RuntimeWarning: invalid value encountered in divide\n",
      "  c /= stddev[None, :]\n",
      "C:\\Users\\lucas\\Documents\\Github\\bivariate-beta\\notebooks\\../scripts/python\\parameter_estimation.py:202: RuntimeWarning: invalid value encountered in double_scalars\n",
      "  alpha_sum = (m1 - m1*m1)/v1 - 1\n"
     ]
    }
   ],
   "source": [
    "rng = np.random.default_rng(671289)\n",
    "true_alpha = np.array([1e-10,1e-10,2.5,1000.0])\n",
    "n = 50\n",
    "\n",
    "k = []\n",
    "l = []\n",
    "\n",
    "for i in range(10000):\n",
    "\n",
    "    U = rng.dirichlet(true_alpha, size=n)\n",
    "    X = U[:,0] + U[:,1]\n",
    "    Y = U[:,0] + U[:,2]\n",
    "    \n",
    "    m1 = np.mean(X)\n",
    "    m2 = np.mean(Y)\n",
    "    v1 = np.var(X, ddof=1)\n",
    "    rho = np.corrcoef(X, Y)[0,1]\n",
    "    alpha_hat = BivariateBeta()._system_solution(m1, m2, v1, rho)\n",
    "    \n",
    "    l.append(alpha_hat[0])"
   ]
  },
  {
   "cell_type": "code",
   "execution_count": 23,
   "id": "fb79102a",
   "metadata": {},
   "outputs": [
    {
     "data": {
      "text/plain": [
       "array([0., 0., 0., 0., 0., 0., 0., 0., 0., 0., 0., 0., 0., 0., 0., 0., 0.,\n",
       "       0., 0., 0., 0., 0., 0., 0., 0., 0., 0., 0., 0., 0., 0., 0., 0., 0.,\n",
       "       0., 0., 0., 0., 0., 0., 0., 0., 0., 0., 0., 0., 0., 0., 0., 0.])"
      ]
     },
     "execution_count": 23,
     "metadata": {},
     "output_type": "execute_result"
    }
   ],
   "source": [
    "X"
   ]
  },
  {
   "cell_type": "code",
   "execution_count": 20,
   "id": "0db04bdf",
   "metadata": {},
   "outputs": [
    {
     "name": "stderr",
     "output_type": "stream",
     "text": [
      "C:\\Users\\lucas\\anaconda3\\envs\\project-beta\\lib\\site-packages\\matplotlib\\axes\\_axes.py:6613: RuntimeWarning: All-NaN slice encountered\n",
      "  xmin = min(xmin, np.nanmin(xi))\n",
      "C:\\Users\\lucas\\anaconda3\\envs\\project-beta\\lib\\site-packages\\matplotlib\\axes\\_axes.py:6614: RuntimeWarning: All-NaN slice encountered\n",
      "  xmax = max(xmax, np.nanmax(xi))\n"
     ]
    },
    {
     "ename": "ValueError",
     "evalue": "autodetected range of [nan, nan] is not finite",
     "output_type": "error",
     "traceback": [
      "\u001b[1;31m---------------------------------------------------------------------------\u001b[0m",
      "\u001b[1;31mValueError\u001b[0m                                Traceback (most recent call last)",
      "Input \u001b[1;32mIn [20]\u001b[0m, in \u001b[0;36m<cell line: 1>\u001b[1;34m()\u001b[0m\n\u001b[1;32m----> 1\u001b[0m \u001b[43mplt\u001b[49m\u001b[38;5;241;43m.\u001b[39;49m\u001b[43mhist\u001b[49m\u001b[43m(\u001b[49m\u001b[43ml\u001b[49m\u001b[43m,\u001b[49m\u001b[43m \u001b[49m\u001b[43mbins\u001b[49m\u001b[38;5;241;43m=\u001b[39;49m\u001b[38;5;241;43m50\u001b[39;49m\u001b[43m)\u001b[49m\n\u001b[0;32m      2\u001b[0m plt\u001b[38;5;241m.\u001b[39maxvline(\u001b[38;5;241m0\u001b[39m, color\u001b[38;5;241m=\u001b[39m\u001b[38;5;124m\"\u001b[39m\u001b[38;5;124mred\u001b[39m\u001b[38;5;124m\"\u001b[39m, linestyle\u001b[38;5;241m=\u001b[39m\u001b[38;5;124m'\u001b[39m\u001b[38;5;124m--\u001b[39m\u001b[38;5;124m'\u001b[39m)\n\u001b[0;32m      3\u001b[0m plt\u001b[38;5;241m.\u001b[39mshow()\n",
      "File \u001b[1;32m~\\anaconda3\\envs\\project-beta\\lib\\site-packages\\matplotlib\\pyplot.py:2600\u001b[0m, in \u001b[0;36mhist\u001b[1;34m(x, bins, range, density, weights, cumulative, bottom, histtype, align, orientation, rwidth, log, color, label, stacked, data, **kwargs)\u001b[0m\n\u001b[0;32m   2594\u001b[0m \u001b[38;5;129m@_copy_docstring_and_deprecators\u001b[39m(Axes\u001b[38;5;241m.\u001b[39mhist)\n\u001b[0;32m   2595\u001b[0m \u001b[38;5;28;01mdef\u001b[39;00m \u001b[38;5;21mhist\u001b[39m(\n\u001b[0;32m   2596\u001b[0m         x, bins\u001b[38;5;241m=\u001b[39m\u001b[38;5;28;01mNone\u001b[39;00m, \u001b[38;5;28mrange\u001b[39m\u001b[38;5;241m=\u001b[39m\u001b[38;5;28;01mNone\u001b[39;00m, density\u001b[38;5;241m=\u001b[39m\u001b[38;5;28;01mFalse\u001b[39;00m, weights\u001b[38;5;241m=\u001b[39m\u001b[38;5;28;01mNone\u001b[39;00m,\n\u001b[0;32m   2597\u001b[0m         cumulative\u001b[38;5;241m=\u001b[39m\u001b[38;5;28;01mFalse\u001b[39;00m, bottom\u001b[38;5;241m=\u001b[39m\u001b[38;5;28;01mNone\u001b[39;00m, histtype\u001b[38;5;241m=\u001b[39m\u001b[38;5;124m'\u001b[39m\u001b[38;5;124mbar\u001b[39m\u001b[38;5;124m'\u001b[39m, align\u001b[38;5;241m=\u001b[39m\u001b[38;5;124m'\u001b[39m\u001b[38;5;124mmid\u001b[39m\u001b[38;5;124m'\u001b[39m,\n\u001b[0;32m   2598\u001b[0m         orientation\u001b[38;5;241m=\u001b[39m\u001b[38;5;124m'\u001b[39m\u001b[38;5;124mvertical\u001b[39m\u001b[38;5;124m'\u001b[39m, rwidth\u001b[38;5;241m=\u001b[39m\u001b[38;5;28;01mNone\u001b[39;00m, log\u001b[38;5;241m=\u001b[39m\u001b[38;5;28;01mFalse\u001b[39;00m, color\u001b[38;5;241m=\u001b[39m\u001b[38;5;28;01mNone\u001b[39;00m,\n\u001b[0;32m   2599\u001b[0m         label\u001b[38;5;241m=\u001b[39m\u001b[38;5;28;01mNone\u001b[39;00m, stacked\u001b[38;5;241m=\u001b[39m\u001b[38;5;28;01mFalse\u001b[39;00m, \u001b[38;5;241m*\u001b[39m, data\u001b[38;5;241m=\u001b[39m\u001b[38;5;28;01mNone\u001b[39;00m, \u001b[38;5;241m*\u001b[39m\u001b[38;5;241m*\u001b[39mkwargs):\n\u001b[1;32m-> 2600\u001b[0m     \u001b[38;5;28;01mreturn\u001b[39;00m gca()\u001b[38;5;241m.\u001b[39mhist(\n\u001b[0;32m   2601\u001b[0m         x, bins\u001b[38;5;241m=\u001b[39mbins, \u001b[38;5;28mrange\u001b[39m\u001b[38;5;241m=\u001b[39m\u001b[38;5;28mrange\u001b[39m, density\u001b[38;5;241m=\u001b[39mdensity, weights\u001b[38;5;241m=\u001b[39mweights,\n\u001b[0;32m   2602\u001b[0m         cumulative\u001b[38;5;241m=\u001b[39mcumulative, bottom\u001b[38;5;241m=\u001b[39mbottom, histtype\u001b[38;5;241m=\u001b[39mhisttype,\n\u001b[0;32m   2603\u001b[0m         align\u001b[38;5;241m=\u001b[39malign, orientation\u001b[38;5;241m=\u001b[39morientation, rwidth\u001b[38;5;241m=\u001b[39mrwidth, log\u001b[38;5;241m=\u001b[39mlog,\n\u001b[0;32m   2604\u001b[0m         color\u001b[38;5;241m=\u001b[39mcolor, label\u001b[38;5;241m=\u001b[39mlabel, stacked\u001b[38;5;241m=\u001b[39mstacked,\n\u001b[0;32m   2605\u001b[0m         \u001b[38;5;241m*\u001b[39m\u001b[38;5;241m*\u001b[39m({\u001b[38;5;124m\"\u001b[39m\u001b[38;5;124mdata\u001b[39m\u001b[38;5;124m\"\u001b[39m: data} \u001b[38;5;28;01mif\u001b[39;00m data \u001b[38;5;129;01mis\u001b[39;00m \u001b[38;5;129;01mnot\u001b[39;00m \u001b[38;5;28;01mNone\u001b[39;00m \u001b[38;5;28;01melse\u001b[39;00m {}), \u001b[38;5;241m*\u001b[39m\u001b[38;5;241m*\u001b[39mkwargs)\n",
      "File \u001b[1;32m~\\anaconda3\\envs\\project-beta\\lib\\site-packages\\matplotlib\\__init__.py:1414\u001b[0m, in \u001b[0;36m_preprocess_data.<locals>.inner\u001b[1;34m(ax, data, *args, **kwargs)\u001b[0m\n\u001b[0;32m   1411\u001b[0m \u001b[38;5;129m@functools\u001b[39m\u001b[38;5;241m.\u001b[39mwraps(func)\n\u001b[0;32m   1412\u001b[0m \u001b[38;5;28;01mdef\u001b[39;00m \u001b[38;5;21minner\u001b[39m(ax, \u001b[38;5;241m*\u001b[39margs, data\u001b[38;5;241m=\u001b[39m\u001b[38;5;28;01mNone\u001b[39;00m, \u001b[38;5;241m*\u001b[39m\u001b[38;5;241m*\u001b[39mkwargs):\n\u001b[0;32m   1413\u001b[0m     \u001b[38;5;28;01mif\u001b[39;00m data \u001b[38;5;129;01mis\u001b[39;00m \u001b[38;5;28;01mNone\u001b[39;00m:\n\u001b[1;32m-> 1414\u001b[0m         \u001b[38;5;28;01mreturn\u001b[39;00m func(ax, \u001b[38;5;241m*\u001b[39m\u001b[38;5;28mmap\u001b[39m(sanitize_sequence, args), \u001b[38;5;241m*\u001b[39m\u001b[38;5;241m*\u001b[39mkwargs)\n\u001b[0;32m   1416\u001b[0m     bound \u001b[38;5;241m=\u001b[39m new_sig\u001b[38;5;241m.\u001b[39mbind(ax, \u001b[38;5;241m*\u001b[39margs, \u001b[38;5;241m*\u001b[39m\u001b[38;5;241m*\u001b[39mkwargs)\n\u001b[0;32m   1417\u001b[0m     auto_label \u001b[38;5;241m=\u001b[39m (bound\u001b[38;5;241m.\u001b[39marguments\u001b[38;5;241m.\u001b[39mget(label_namer)\n\u001b[0;32m   1418\u001b[0m                   \u001b[38;5;129;01mor\u001b[39;00m bound\u001b[38;5;241m.\u001b[39mkwargs\u001b[38;5;241m.\u001b[39mget(label_namer))\n",
      "File \u001b[1;32m~\\anaconda3\\envs\\project-beta\\lib\\site-packages\\matplotlib\\axes\\_axes.py:6641\u001b[0m, in \u001b[0;36mAxes.hist\u001b[1;34m(self, x, bins, range, density, weights, cumulative, bottom, histtype, align, orientation, rwidth, log, color, label, stacked, **kwargs)\u001b[0m\n\u001b[0;32m   6637\u001b[0m \u001b[38;5;66;03m# Loop through datasets\u001b[39;00m\n\u001b[0;32m   6638\u001b[0m \u001b[38;5;28;01mfor\u001b[39;00m i \u001b[38;5;129;01min\u001b[39;00m \u001b[38;5;28mrange\u001b[39m(nx):\n\u001b[0;32m   6639\u001b[0m     \u001b[38;5;66;03m# this will automatically overwrite bins,\u001b[39;00m\n\u001b[0;32m   6640\u001b[0m     \u001b[38;5;66;03m# so that each histogram uses the same bins\u001b[39;00m\n\u001b[1;32m-> 6641\u001b[0m     m, bins \u001b[38;5;241m=\u001b[39m np\u001b[38;5;241m.\u001b[39mhistogram(x[i], bins, weights\u001b[38;5;241m=\u001b[39mw[i], \u001b[38;5;241m*\u001b[39m\u001b[38;5;241m*\u001b[39mhist_kwargs)\n\u001b[0;32m   6642\u001b[0m     tops\u001b[38;5;241m.\u001b[39mappend(m)\n\u001b[0;32m   6643\u001b[0m tops \u001b[38;5;241m=\u001b[39m np\u001b[38;5;241m.\u001b[39marray(tops, \u001b[38;5;28mfloat\u001b[39m)  \u001b[38;5;66;03m# causes problems later if it's an int\u001b[39;00m\n",
      "File \u001b[1;32m<__array_function__ internals>:180\u001b[0m, in \u001b[0;36mhistogram\u001b[1;34m(*args, **kwargs)\u001b[0m\n",
      "File \u001b[1;32m~\\anaconda3\\envs\\project-beta\\lib\\site-packages\\numpy\\lib\\histograms.py:793\u001b[0m, in \u001b[0;36mhistogram\u001b[1;34m(a, bins, range, normed, weights, density)\u001b[0m\n\u001b[0;32m    681\u001b[0m \u001b[38;5;124mr\u001b[39m\u001b[38;5;124;03m\"\"\"\u001b[39;00m\n\u001b[0;32m    682\u001b[0m \u001b[38;5;124;03mCompute the histogram of a dataset.\u001b[39;00m\n\u001b[0;32m    683\u001b[0m \n\u001b[1;32m   (...)\u001b[0m\n\u001b[0;32m    789\u001b[0m \n\u001b[0;32m    790\u001b[0m \u001b[38;5;124;03m\"\"\"\u001b[39;00m\n\u001b[0;32m    791\u001b[0m a, weights \u001b[38;5;241m=\u001b[39m _ravel_and_check_weights(a, weights)\n\u001b[1;32m--> 793\u001b[0m bin_edges, uniform_bins \u001b[38;5;241m=\u001b[39m \u001b[43m_get_bin_edges\u001b[49m\u001b[43m(\u001b[49m\u001b[43ma\u001b[49m\u001b[43m,\u001b[49m\u001b[43m \u001b[49m\u001b[43mbins\u001b[49m\u001b[43m,\u001b[49m\u001b[43m \u001b[49m\u001b[38;5;28;43mrange\u001b[39;49m\u001b[43m,\u001b[49m\u001b[43m \u001b[49m\u001b[43mweights\u001b[49m\u001b[43m)\u001b[49m\n\u001b[0;32m    795\u001b[0m \u001b[38;5;66;03m# Histogram is an integer or a float array depending on the weights.\u001b[39;00m\n\u001b[0;32m    796\u001b[0m \u001b[38;5;28;01mif\u001b[39;00m weights \u001b[38;5;129;01mis\u001b[39;00m \u001b[38;5;28;01mNone\u001b[39;00m:\n",
      "File \u001b[1;32m~\\anaconda3\\envs\\project-beta\\lib\\site-packages\\numpy\\lib\\histograms.py:426\u001b[0m, in \u001b[0;36m_get_bin_edges\u001b[1;34m(a, bins, range, weights)\u001b[0m\n\u001b[0;32m    423\u001b[0m     \u001b[38;5;28;01mif\u001b[39;00m n_equal_bins \u001b[38;5;241m<\u001b[39m \u001b[38;5;241m1\u001b[39m:\n\u001b[0;32m    424\u001b[0m         \u001b[38;5;28;01mraise\u001b[39;00m \u001b[38;5;167;01mValueError\u001b[39;00m(\u001b[38;5;124m'\u001b[39m\u001b[38;5;124m`bins` must be positive, when an integer\u001b[39m\u001b[38;5;124m'\u001b[39m)\n\u001b[1;32m--> 426\u001b[0m     first_edge, last_edge \u001b[38;5;241m=\u001b[39m \u001b[43m_get_outer_edges\u001b[49m\u001b[43m(\u001b[49m\u001b[43ma\u001b[49m\u001b[43m,\u001b[49m\u001b[43m \u001b[49m\u001b[38;5;28;43mrange\u001b[39;49m\u001b[43m)\u001b[49m\n\u001b[0;32m    428\u001b[0m \u001b[38;5;28;01melif\u001b[39;00m np\u001b[38;5;241m.\u001b[39mndim(bins) \u001b[38;5;241m==\u001b[39m \u001b[38;5;241m1\u001b[39m:\n\u001b[0;32m    429\u001b[0m     bin_edges \u001b[38;5;241m=\u001b[39m np\u001b[38;5;241m.\u001b[39masarray(bins)\n",
      "File \u001b[1;32m~\\anaconda3\\envs\\project-beta\\lib\\site-packages\\numpy\\lib\\histograms.py:323\u001b[0m, in \u001b[0;36m_get_outer_edges\u001b[1;34m(a, range)\u001b[0m\n\u001b[0;32m    321\u001b[0m     first_edge, last_edge \u001b[38;5;241m=\u001b[39m a\u001b[38;5;241m.\u001b[39mmin(), a\u001b[38;5;241m.\u001b[39mmax()\n\u001b[0;32m    322\u001b[0m     \u001b[38;5;28;01mif\u001b[39;00m \u001b[38;5;129;01mnot\u001b[39;00m (np\u001b[38;5;241m.\u001b[39misfinite(first_edge) \u001b[38;5;129;01mand\u001b[39;00m np\u001b[38;5;241m.\u001b[39misfinite(last_edge)):\n\u001b[1;32m--> 323\u001b[0m         \u001b[38;5;28;01mraise\u001b[39;00m \u001b[38;5;167;01mValueError\u001b[39;00m(\n\u001b[0;32m    324\u001b[0m             \u001b[38;5;124m\"\u001b[39m\u001b[38;5;124mautodetected range of [\u001b[39m\u001b[38;5;132;01m{}\u001b[39;00m\u001b[38;5;124m, \u001b[39m\u001b[38;5;132;01m{}\u001b[39;00m\u001b[38;5;124m] is not finite\u001b[39m\u001b[38;5;124m\"\u001b[39m\u001b[38;5;241m.\u001b[39mformat(first_edge, last_edge))\n\u001b[0;32m    326\u001b[0m \u001b[38;5;66;03m# expand empty range to avoid divide by zero\u001b[39;00m\n\u001b[0;32m    327\u001b[0m \u001b[38;5;28;01mif\u001b[39;00m first_edge \u001b[38;5;241m==\u001b[39m last_edge:\n",
      "\u001b[1;31mValueError\u001b[0m: autodetected range of [nan, nan] is not finite"
     ]
    },
    {
     "data": {
      "image/png": "[encoded data removed]",
      "text/plain": [
       "<Figure size 432x288 with 1 Axes>"
      ]
     },
     "metadata": {
      "needs_background": "light"
     },
     "output_type": "display_data"
    }
   ],
   "source": [
    "plt.hist(l, bins=50)\n",
    "plt.axvline(0, color=\"red\", linestyle='--')\n",
    "plt.show()\n",
    "print(np.mean(np.array(l)<-0.25))"
   ]
  },
  {
   "cell_type": "code",
   "execution_count": 6,
   "id": "ebd28428",
   "metadata": {},
   "outputs": [],
   "source": [
    "rng = np.random.default_rng(671289)\n",
    "\n",
    "true_alpha = np.array([0.2,0.7,2.5,0.9])\n",
    "n = 50\n",
    "B = 500\n",
    "\n",
    "U = rng.dirichlet(true_alpha, size=n)\n",
    "X = rng.beta(1,3, size=50)\n",
    "Y = rng.beta(2,5, size=50)\n",
    "\n",
    "index = rng.choice(range(n), size=(n, B))\n",
    "Xb = X[index]\n",
    "Yb = Y[index]\n",
    "\n",
    "Xb_mean = Xb.mean(axis=0)\n",
    "Yb_mean = Yb.mean(axis=0)\n",
    "Xb_var = Xb.var(axis=0, ddof=1)\n",
    "XbYb_corr = np.corrcoef(Xb.T, Yb.T).diagonal(Xb.shape[1])\n",
    "\n",
    "alpha_hat = BivariateBeta()._system_solution(Xb_mean, Yb_mean, Xb_var, XbYb_corr)"
   ]
  },
  {
   "cell_type": "code",
   "execution_count": 7,
   "id": "916440e8",
   "metadata": {},
   "outputs": [
    {
     "data": {
      "image/png": "[encoded data removed]",
      "text/plain": [
       "<Figure size 1080x216 with 4 Axes>"
      ]
     },
     "metadata": {
      "needs_background": "light"
     },
     "output_type": "display_data"
    }
   ],
   "source": [
    "fig, ax = plt.subplots(1,4, figsize=(15, 3))\n",
    "for i in range(4):\n",
    "    ax[i].hist(alpha_hat[i], bins=25, density=True)\n",
    "    ax[i].axvline(0, linestyle='--', color='red')\n",
    "plt.show() "
   ]
  },
  {
   "cell_type": "code",
   "execution_count": 8,
   "id": "dbe201b5",
   "metadata": {},
   "outputs": [],
   "source": [
    "rng = np.random.default_rng(312)\n",
    "\n",
    "true_alpha = np.array([0.2,0.7,2.5,0.9])\n",
    "n = 50\n",
    "\n",
    "S = []\n",
    "for i in range(1000):\n",
    "\n",
    "    U = rng.dirichlet(true_alpha, size=n)\n",
    "    X = U[:,0] + U[:,1]\n",
    "    Y = U[:,0] + U[:,2]\n",
    "\n",
    "    S.append(BivariateBeta().positive_diagnostic_diagnostic(X,Y))"
   ]
  },
  {
   "cell_type": "code",
   "execution_count": 9,
   "id": "a4bfe2be",
   "metadata": {},
   "outputs": [
    {
     "data": {
      "image/png": "[encoded data removed]",
      "text/plain": [
       "<Figure size 432x288 with 1 Axes>"
      ]
     },
     "metadata": {
      "needs_background": "light"
     },
     "output_type": "display_data"
    }
   ],
   "source": [
    "plt.hist(S, bins=25)\n",
    "plt.show()"
   ]
  },
  {
   "cell_type": "markdown",
   "id": "92917a19",
   "metadata": {},
   "source": [
    "## Sensibility of the first diagnostic method"
   ]
  },
  {
   "cell_type": "code",
   "execution_count": 10,
   "id": "6b1cb195",
   "metadata": {},
   "outputs": [],
   "source": [
    "seed = np.random.randint(3219121)\n",
    "rng = np.random.default_rng(seed)\n",
    "\n",
    "S1_values = []\n",
    "S2_values = []\n",
    "\n",
    "for i in range(2000):\n",
    "\n",
    "    X = rng.beta(2, 3, size=50)\n",
    "    Y = rng.beta(1, 3, size=50)\n",
    "\n",
    "    S1, _ = BivariateBeta().marginal_diagnostic(X,Y, which_g='divisor')\n",
    "    S2, _ = BivariateBeta().marginal_diagnostic(X,Y, which_g='quadratic')\n",
    "\n",
    "    S1_values.append(S1)\n",
    "    S2_values.append(S2)"
   ]
  },
  {
   "cell_type": "code",
   "execution_count": 11,
   "id": "6db1108e",
   "metadata": {},
   "outputs": [],
   "source": [
    "t = np.linspace(-4,4,1000)"
   ]
  },
  {
   "cell_type": "code",
   "execution_count": 12,
   "id": "8e394fea",
   "metadata": {},
   "outputs": [
    {
     "data": {
      "image/png": "[encoded data removed]",
      "text/plain": [
       "<Figure size 432x288 with 1 Axes>"
      ]
     },
     "metadata": {
      "needs_background": "light"
     },
     "output_type": "display_data"
    }
   ],
   "source": [
    "plt.hist(S1_values, bins=50, density=True, alpha=0.8)\n",
    "plt.hist(S2_values, bins=50, density=True, alpha=0.5)\n",
    "plt.plot(t, norm.pdf(t))\n",
    "plt.show()"
   ]
  },
  {
   "cell_type": "markdown",
   "id": "b127f585",
   "metadata": {},
   "source": [
    "## Q-Q plot\n",
    "\n",
    "I first will verify if Assingment problem is equivalent to sorting in the unidimensional setting."
   ]
  },
  {
   "cell_type": "code",
   "execution_count": 52,
   "id": "a4a57b05",
   "metadata": {},
   "outputs": [],
   "source": [
    "n = 100\n",
    "x = np.random.multivariate_normal(mean=np.zeros(1), cov=np.eye(1), size=n)\n",
    "y = np.random.multivariate_normal(mean=np.zeros(1), cov=np.eye(1), size=n)"
   ]
  },
  {
   "cell_type": "code",
   "execution_count": 53,
   "id": "df09b7d9",
   "metadata": {},
   "outputs": [],
   "source": [
    "C = np.zeros((n,n))\n",
    "for i in range(n):\n",
    "    for j in range(n):\n",
    "        C[i,j] = (x[i] - y[j])**2\n",
    "        \n",
    "index1_assign, index2_assign = linear_sum_assignment(cost_matrix=C)\n",
    "index1_sort, index2_sort = np.argsort(x, axis=0), np.argsort(y, axis=0)"
   ]
  },
  {
   "cell_type": "code",
   "execution_count": 60,
   "id": "4143b1f6",
   "metadata": {},
   "outputs": [
    {
     "data": {
      "image/png": "[encoded data removed]",
      "text/plain": [
       "<Figure size 720x288 with 2 Axes>"
      ]
     },
     "metadata": {
      "needs_background": "light"
     },
     "output_type": "display_data"
    }
   ],
   "source": [
    "fig, ax = plt.subplots(1,2,figsize=(10,4))\n",
    "ax[0].scatter(x[index1_sort], y[index2_sort])\n",
    "ax[1].scatter(x[index1_assign], y[index2_assign])\n",
    "plt.show()"
   ]
  },
  {
   "cell_type": "code",
   "execution_count": 90,
   "id": "2ff6c664",
   "metadata": {},
   "outputs": [],
   "source": [
    "n = 100\n",
    "x = np.random.multivariate_normal(mean=np.zeros(2), cov=np.eye(2), size=n)\n",
    "y = np.random.multivariate_normal(mean=np.zeros(2), cov=np.eye(2), size=n)"
   ]
  },
  {
   "cell_type": "code",
   "execution_count": 91,
   "id": "821766a4",
   "metadata": {},
   "outputs": [],
   "source": [
    "C = np.zeros((n,n))\n",
    "for i in range(n):\n",
    "    for j in range(n):\n",
    "        C[i,j] = np.linalg.norm(x[i] - y[j], ord=2)\n",
    "        \n",
    "index1, index2 = linear_sum_assignment(cost_matrix=C)"
   ]
  },
  {
   "cell_type": "code",
   "execution_count": 92,
   "id": "01effc93",
   "metadata": {},
   "outputs": [
    {
     "data": {
      "image/png": "[encoded data removed]",
      "text/plain": [
       "<Figure size 720x288 with 2 Axes>"
      ]
     },
     "metadata": {
      "needs_background": "light"
     },
     "output_type": "display_data"
    }
   ],
   "source": [
    "fig, ax = plt.subplots(1,2,figsize=(10,4))\n",
    "ax[0].scatter(x[index1, 0], y[index2, 0])\n",
    "ax[1].scatter(x[index1, 1], y[index2, 1])\n",
    "plt.show()"
   ]
  },
  {
   "cell_type": "markdown",
   "id": "a0797186",
   "metadata": {},
   "source": [
    "The above graphic is called **fuzzy Q-Q plot**\n",
    "\n",
    "## Well-specified case"
   ]
  },
  {
   "cell_type": "code",
   "execution_count": 147,
   "id": "4ec38e66",
   "metadata": {},
   "outputs": [],
   "source": [
    "rng = np.random.default_rng(61289)\n",
    "\n",
    "true_alpha = np.array([2,7,3,1])\n",
    "n = 100\n",
    "\n",
    "U = rng.dirichlet(true_alpha, size=n)\n",
    "X = U[:,0] + U[:,1]\n",
    "Y = U[:,0] + U[:,2]\n",
    "XY = np.column_stack([X,Y])\n",
    "\n",
    "alpha_hat = BivariateBeta().method_moments_estimator_4(X,Y,alpha0=(1,1,1,1))\n",
    "U = rng.dirichlet(true_alpha, size=n)\n",
    "X_hat = U[:,0] + U[:,1]\n",
    "Y_hat = U[:,0] + U[:,2]\n",
    "XY_hat = np.column_stack([X_hat, Y_hat])\n",
    "\n",
    "C = np.zeros((n,n))\n",
    "for i in range(n):\n",
    "    for j in range(n):\n",
    "        C[i,j] = np.linalg.norm(XY[i] - XY_hat[j], ord=2)\n",
    "        \n",
    "index1, index2 = linear_sum_assignment(cost_matrix=C)"
   ]
  },
  {
   "cell_type": "code",
   "execution_count": 148,
   "id": "fbdfb63b",
   "metadata": {},
   "outputs": [
    {
     "data": {
      "image/png": "[encoded data removed]",
      "text/plain": [
       "<Figure size 720x288 with 2 Axes>"
      ]
     },
     "metadata": {
      "needs_background": "light"
     },
     "output_type": "display_data"
    }
   ],
   "source": [
    "fig, ax = plt.subplots(1,2,figsize=(10,4))\n",
    "ax[0].scatter(XY[index1, 0], XY_hat[index2, 0])\n",
    "ax[1].scatter(XY[index1, 1], XY_hat[index2, 1])\n",
    "ax[0].plot([0, 1], [0, 1], color='black', linestyle='--')\n",
    "ax[1].plot([0, 1], [0, 1], color='black', linestyle='--')\n",
    "plt.show()"
   ]
  },
  {
   "cell_type": "markdown",
   "id": "525dac1c",
   "metadata": {},
   "source": [
    "## Wrongly specified case"
   ]
  },
  {
   "cell_type": "code",
   "execution_count": 145,
   "id": "3465d056",
   "metadata": {},
   "outputs": [],
   "source": [
    "rng = np.random.default_rng(671289)\n",
    "n = 100\n",
    "\n",
    "X = rng.beta(1,3, size=n)\n",
    "Y = rng.beta(4,5, size=n)\n",
    "XY = np.column_stack([X,Y])\n",
    "\n",
    "alpha_hat = BivariateBeta().method_moments_estimator_4(X,Y,alpha0=(1,1,1,1))\n",
    "U = rng.dirichlet(alpha_hat, size=n)\n",
    "X_hat = U[:,0] + U[:,1]\n",
    "Y_hat = U[:,0] + U[:,2]\n",
    "XY_hat = np.column_stack([X_hat, Y_hat])\n",
    "\n",
    "C = np.zeros((n,n))\n",
    "for i in range(n):\n",
    "    for j in range(n):\n",
    "        C[i,j] = np.linalg.norm(XY[i] - XY_hat[j], ord=2)\n",
    "        \n",
    "index1, index2 = linear_sum_assignment(cost_matrix=C)"
   ]
  },
  {
   "cell_type": "code",
   "execution_count": 146,
   "id": "5bff2c6c",
   "metadata": {},
   "outputs": [
    {
     "data": {
      "image/png": "[encoded data removed]",
      "text/plain": [
       "<Figure size 720x288 with 2 Axes>"
      ]
     },
     "metadata": {
      "needs_background": "light"
     },
     "output_type": "display_data"
    }
   ],
   "source": [
    "fig, ax = plt.subplots(1,2,figsize=(10,4))\n",
    "ax[0].scatter(XY[index1, 0], XY_hat[index2, 0])\n",
    "ax[1].scatter(XY[index1, 1], XY_hat[index2, 1])\n",
    "ax[0].plot([0, 1], [0, 1], color='black', linestyle='--')\n",
    "ax[1].plot([0, 1], [0, 1], color='black', linestyle='--')\n",
    "plt.show()"
   ]
  },
  {
   "cell_type": "code",
   "execution_count": 144,
   "id": "afeaf389",
   "metadata": {},
   "outputs": [
    {
     "name": "stdout",
     "output_type": "stream",
     "text": [
      "1.298768545820208 4.913490724613205\n",
      "1.5077445344173208 4.704514736016093\n"
     ]
    }
   ],
   "source": [
    "print(alpha_hat[0]+alpha_hat[1], alpha_hat[2]+alpha_hat[3])\n",
    "print(alpha_hat[0]+alpha_hat[2], alpha_hat[1]+alpha_hat[3])"
   ]
  },
  {
   "cell_type": "markdown",
   "id": "62bb8a01",
   "metadata": {},
   "source": [
    "## Distance Q-Q Plot"
   ]
  },
  {
   "cell_type": "code",
   "execution_count": 182,
   "id": "5b7de82f",
   "metadata": {},
   "outputs": [],
   "source": [
    "n = 100\n",
    "x = np.random.multivariate_normal(mean=np.zeros(2), cov=np.eye(2), size=n)\n",
    "y = np.random.multivariate_normal(mean=np.zeros(2), cov=np.eye(2), size=n)"
   ]
  },
  {
   "cell_type": "code",
   "execution_count": 187,
   "id": "a7daaac7",
   "metadata": {},
   "outputs": [],
   "source": [
    "C = np.zeros((n,n))\n",
    "for i in range(n):\n",
    "    for j in range(n):\n",
    "        C[i,j] = np.linalg.norm(x[i] - y[j], ord=2)\n",
    "index1, index2 = linear_sum_assignment(cost_matrix=C)\n",
    "\n",
    "distances1 = np.sort(C[index1, index2])\n",
    "\n",
    "distances2 = np.zeros(100)\n",
    "\n",
    "for k in range(50):\n",
    "    z = np.random.multivariate_normal(mean=np.zeros(2), cov=np.eye(2), size=n)\n",
    "    C = np.zeros((n,n))\n",
    "    for i in range(n):\n",
    "        for j in range(n):\n",
    "            C[i,j] = np.linalg.norm(x[i] - z[j], ord=2)\n",
    "    index1, index2 = linear_sum_assignment(cost_matrix=C)\n",
    "\n",
    "    distances2 = (k * distances2 + np.sort(C[index1, index2]))/(k+1)"
   ]
  },
  {
   "cell_type": "code",
   "execution_count": 188,
   "id": "92bba384",
   "metadata": {},
   "outputs": [
    {
     "data": {
      "image/png": "[encoded data removed]",
      "text/plain": [
       "<Figure size 252x189 with 1 Axes>"
      ]
     },
     "metadata": {
      "needs_background": "light"
     },
     "output_type": "display_data"
    }
   ],
   "source": [
    "plt.scatter(distances1, distances2)\n",
    "plt.plot([0,2], [0,2])\n",
    "plt.show()"
   ]
  },
  {
   "cell_type": "code",
   "execution_count": null,
   "id": "f96e5d25",
   "metadata": {},
   "outputs": [],
   "source": []
  }
 ],
 "metadata": {
  "kernelspec": {
   "display_name": "project-beta",
   "language": "python",
   "name": "project-beta"
  },
  "language_info": {
   "codemirror_mode": {
    "name": "ipython",
    "version": 3
   },
   "file_extension": ".py",
   "mimetype": "text/x-python",
   "name": "python",
   "nbconvert_exporter": "python",
   "pygments_lexer": "ipython3",
   "version": "3.9.12"
  }
 },
 "nbformat": 4,
 "nbformat_minor": 5
}
