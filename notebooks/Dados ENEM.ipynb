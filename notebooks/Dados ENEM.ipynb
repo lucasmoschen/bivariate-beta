{
 "cells": [
  {
   "cell_type": "code",
   "execution_count": 1,
   "id": "9eefbc0c",
   "metadata": {},
   "outputs": [],
   "source": [
    "import pandas as pd\n",
    "import numpy as np\n",
    "\n",
    "import matplotlib.pyplot as plt\n",
    "import matplotlib\n",
    "import seaborn as sns\n",
    "import arviz as az\n",
    "plt.style.use('science')\n",
    "\n",
    "import sys\n",
    "import os\n",
    "sys.path.append('../scripts/python')\n",
    "\n",
    "from parameter_estimation import BivariateBeta"
   ]
  },
  {
   "cell_type": "code",
   "execution_count": 11,
   "id": "01824355",
   "metadata": {},
   "outputs": [],
   "source": [
    "data = pd.read_csv('../data/microdados_enem_2021/DADOS/MICRODADOS_ENEM_2021.csv', encoding='latin', sep=';')\n",
    "data = data[(data['TP_PRESENCA_CH']==1)&(data['TP_PRESENCA_LC']==1)&(data['TP_PRESENCA_MT']==1)&data['TP_PRESENCA_CN']==1]"
   ]
  },
  {
   "cell_type": "code",
   "execution_count": 20,
   "id": "fd2c0b75",
   "metadata": {},
   "outputs": [],
   "source": [
    "def fun(x, y):\n",
    "    s = 0\n",
    "    for i in range(len(x)):\n",
    "        if x[i] == y[i]:\n",
    "            s += 1\n",
    "    return s \n",
    "\n",
    "data['N_ACERTOS_CH'] = data.apply(lambda x: fun(x['TX_RESPOSTAS_CH'], x['TX_GABARITO_CH']), axis=1)/45\n",
    "data['N_ACERTOS_LC'] = data.apply(lambda x: fun(x['TX_RESPOSTAS_LC'], x['TX_GABARITO_LC']), axis=1)/45\n",
    "data['N_ACERTOS_CN'] = data.apply(lambda x: fun(x['TX_RESPOSTAS_CN'], x['TX_GABARITO_CN']), axis=1)/45\n",
    "data['N_ACERTOS_MT'] = data.apply(lambda x: fun(x['TX_RESPOSTAS_MT'], x['TX_GABARITO_MT']), axis=1)/45"
   ]
  },
  {
   "cell_type": "code",
   "execution_count": 22,
   "id": "bdf4dcef",
   "metadata": {},
   "outputs": [],
   "source": [
    "data = data[['N_ACERTOS_CH', 'N_ACERTOS_LC', 'N_ACERTOS_CN', 'N_ACERTOS_MT', 'CO_MUNICIPIO_PROVA']]"
   ]
  },
  {
   "cell_type": "code",
   "execution_count": 27,
   "id": "5fcd87f8",
   "metadata": {},
   "outputs": [],
   "source": [
    "data = data.groupby('CO_MUNICIPIO_PROVA').mean()"
   ]
  },
  {
   "cell_type": "code",
   "execution_count": null,
   "id": "70929ba9",
   "metadata": {},
   "outputs": [],
   "source": []
  },
  {
   "cell_type": "code",
   "execution_count": 42,
   "id": "dabe3065",
   "metadata": {},
   "outputs": [
    {
     "data": {
      "image/png": "[encoded data removed]",
      "text/plain": [
       "<Figure size 432x288 with 1 Axes>"
      ]
     },
     "metadata": {
      "needs_background": "light"
     },
     "output_type": "display_data"
    },
    {
     "data": {
      "text/plain": [
       "(35.35309265380576, 8.986825312649937e-274)"
      ]
     },
     "execution_count": 42,
     "metadata": {},
     "output_type": "execute_result"
    }
   ],
   "source": [
    "x = data['N_ACERTOS_CN']\n",
    "y = data['N_ACERTOS_CH']\n",
    "plt.scatter(x,y, s=1, alpha=0.1, color='red')\n",
    "plt.show()\n",
    "\n",
    "alpha_hat = BivariateBeta().method_moments_estimator_1(x,y)#, alpha0=(1,1,1,1))\n",
    "BivariateBeta().marginal_diagnostic(x,y)"
   ]
  },
  {
   "cell_type": "code",
   "execution_count": 43,
   "id": "4cb4c469",
   "metadata": {},
   "outputs": [
    {
     "data": {
      "text/plain": [
       "array([ 83.10970646,   0.        ,  11.72222176, 176.87722527])"
      ]
     },
     "execution_count": 43,
     "metadata": {},
     "output_type": "execute_result"
    }
   ],
   "source": [
    "alpha_hat"
   ]
  },
  {
   "cell_type": "code",
   "execution_count": 34,
   "id": "00054950",
   "metadata": {},
   "outputs": [
    {
     "name": "stdout",
     "output_type": "stream",
     "text": [
      "0.28853720137817135 0.2657112356501128 0.0007714904689724487 0.0015243312377728104\n"
     ]
    }
   ],
   "source": [
    "m1 = data['N_ACERTOS_CN'].mean()\n",
    "m2 = data['N_ACERTOS_MT'].mean()\n",
    "v1 = data['N_ACERTOS_CN'].var()\n",
    "v2 = data['N_ACERTOS_MT'].var()\n",
    "print(m1, m2, v1, v2)"
   ]
  },
  {
   "cell_type": "code",
   "execution_count": 35,
   "id": "3baf6066",
   "metadata": {},
   "outputs": [
    {
     "data": {
      "text/plain": [
       "0.00016239546823023176"
      ]
     },
     "execution_count": 35,
     "metadata": {},
     "output_type": "execute_result"
    }
   ],
   "source": [
    "m1*(1-m1)*v2 - m2*(1-m2)*v1"
   ]
  },
  {
   "cell_type": "code",
   "execution_count": 37,
   "id": "2a5ba6e8",
   "metadata": {},
   "outputs": [
    {
     "data": {
      "text/plain": [
       "array([4.86790891e+01, 2.67199766e+00, 4.67078722e-22, 1.29141790e+02])"
      ]
     },
     "execution_count": 37,
     "metadata": {},
     "output_type": "execute_result"
    }
   ],
   "source": [
    "alpha_hat"
   ]
  },
  {
   "cell_type": "code",
   "execution_count": 36,
   "id": "c02f3276",
   "metadata": {},
   "outputs": [
    {
     "name": "stderr",
     "output_type": "stream",
     "text": [
      "C:\\Users\\lucas\\Documents\\Github\\bivariate-beta\\notebooks\\../scripts/python\\parameter_estimation.py:85: RuntimeWarning: divide by zero encountered in double_scalars\n",
      "  return result/c\n"
     ]
    },
    {
     "data": {
      "text/plain": [
       "<matplotlib.collections.PathCollection at 0x218f189cf70>"
      ]
     },
     "execution_count": 36,
     "metadata": {},
     "output_type": "execute_result"
    },
    {
     "data": {
      "image/png": "[encoded data removed]",
      "text/plain": [
       "<Figure size 720x432 with 1 Axes>"
      ]
     },
     "metadata": {
      "needs_background": "light"
     },
     "output_type": "display_data"
    }
   ],
   "source": [
    "axis1 = np.linspace(0,1,20)\n",
    "axis2 = np.linspace(0,1,20)\n",
    "z = np.zeros((20,20))\n",
    "\n",
    "for i in range(20):\n",
    "    for j in range(20):\n",
    "        z[j,i] = BivariateBeta(alpha_hat).pdf(axis1[i], axis2[j])\n",
    "        \n",
    "X, Y = np.meshgrid(axis1, axis2)\n",
    "\n",
    "fig, ax = plt.subplots(figsize=(10,6))\n",
    "c = ax.contourf(X, Y, z, levels=50)\n",
    "\n",
    "ax.scatter(x,y, s=1, alpha=0.1, color='red')"
   ]
  },
  {
   "cell_type": "code",
   "execution_count": null,
   "id": "d286fd8b",
   "metadata": {},
   "outputs": [],
   "source": []
  }
 ],
 "metadata": {
  "kernelspec": {
   "display_name": "project-beta",
   "language": "python",
   "name": "project-beta"
  },
  "language_info": {
   "codemirror_mode": {
    "name": "ipython",
    "version": 3
   },
   "file_extension": ".py",
   "mimetype": "text/x-python",
   "name": "python",
   "nbconvert_exporter": "python",
   "pygments_lexer": "ipython3",
   "version": "3.9.12"
  }
 },
 "nbformat": 4,
 "nbformat_minor": 5
}
