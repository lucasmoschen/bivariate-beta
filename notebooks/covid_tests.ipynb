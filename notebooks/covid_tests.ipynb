{
 "cells": [
  {
   "cell_type": "markdown",
   "id": "e7938273",
   "metadata": {},
   "source": [
    "# Accuracy of diagnostic tests registered by ANVISA for COVID-19\n",
    "\n",
    "Research: \n",
    "\n",
    "Foi conduzida uma pesquisa documental utilizando os dados fornecidos pelos fabricantes no ato do registro na Anvisa. Foram analisados os testes di agnósticos registrados na Anvisa até o dia 23 de junho de 2020, período da coleta de dados, utilizando como ferramenta [esse link](https://consultas.anvisa.gov.br/#/saude/q/?nomeTecnico=coronav%C3%ADrus). \n",
    "\n",
    "Os dados informados no ato do registro na Anvisa foram extraídos da página da internet da Agência, da Gerência Geral de Tecnologia de Produtos para Saúde (GGTPS) de diagnóstico in vitro. Para apresentação dos dados, utilizou-se tabela padrão produzida pelos autores, sendo coletados os seguintes dados: i) empresa/importadora; ii) fabricante/país; iii) amostra; iv) se foi considerado como teste rápido v) número de registro na Anvisa; vi) dados\n",
    "de sensibilidade/especificidade apresentados pelo fabricante. Os dados informados pela indústria na ocasião do registro junto à Anvisa foram utilizados para elaborar gráficos de especificidade e sensibilidade dos testes diagnósticos. "
   ]
  },
  {
   "cell_type": "code",
   "execution_count": 18,
   "id": "bc916671",
   "metadata": {},
   "outputs": [],
   "source": [
    "import pandas as pd\n",
    "import numpy as np\n",
    "import matplotlib.pyplot as plt\n",
    "import re\n",
    "\n",
    "import sys\n",
    "sys.path.append('../scripts')\n",
    "\n",
    "from parameter_estimation import BivariateBeta"
   ]
  },
  {
   "cell_type": "markdown",
   "id": "f24f4074",
   "metadata": {},
   "source": [
    "Os dados fornecidos pelos fabricantes foram plotados nas figuras apresentadas para ilustrar sensibilidade e especificidade IgG e/ou IgM dos testes: \n",
    "\n",
    "a) imunocromatográfico com amostra de sangue (sangue total, sangue total venoso, sangue total via punção digital ou sangue seco), soro ou plasma humano; \n",
    "\n",
    "b) imunocromatográfico com secreção swab nasofaríngeo e swab orofaríngeo; \n",
    "\n",
    "c) imunoensaio com amostra de sangue (sangue total, sangue total venoso, sangue total via punção digital ou sangue seco), soro ou plasma humano; \n",
    "\n",
    "d) imunoinsaio com amostra secreção swab nasofaríngeo e swab orofaríngeo; \n",
    "\n",
    "e) detecção quali ou semiqualitativa com amostra de sangue"
   ]
  },
  {
   "cell_type": "code",
   "execution_count": 2,
   "id": "77a5bf20",
   "metadata": {},
   "outputs": [],
   "source": [
    "folder = '../data/covid_tests_data/'\n",
    "filter_func = lambda i: lambda x: float(re.findall('[0-9].[0-9][0-9]', x.replace(',', '.'))[i])"
   ]
  },
  {
   "cell_type": "markdown",
   "id": "e745d3ec",
   "metadata": {},
   "source": [
    "Getting the data"
   ]
  },
  {
   "cell_type": "code",
   "execution_count": 7,
   "id": "9b48348a",
   "metadata": {},
   "outputs": [],
   "source": [
    "tables = [pd.read_csv(folder+'raw/table_a.csv'),\n",
    "          pd.read_csv(folder+'raw/table_b.csv'),\n",
    "          pd.read_csv(folder+'raw/table_c.csv'),\n",
    "          pd.read_csv(folder+'raw/table_d.csv'),\n",
    "          pd.read_csv(folder+'raw/table_e.csv'),\n",
    "          pd.read_csv(folder+'raw/table_pcr_a.csv'),\n",
    "          pd.read_csv(folder+'raw/table_pcr_b.csv'),\n",
    "          pd.read_csv(folder+'raw/table_pcr_c.csv'),\n",
    "         ]\n",
    "\n",
    "letters = ['a', 'b', 'c', 'd', 'e', 'a_pcr', 'b_pcr', 'c_pcr']\n",
    "for i in range(8):\n",
    "\n",
    "    tables[i]['sensitivity']          = tables[i]['Sensitivity [95% CI]'].apply(filter_func(0))\n",
    "    tables[i]['sensitivity_ci_lower'] = tables[i]['Sensitivity [95% CI]'].apply(filter_func(1))\n",
    "    tables[i]['sensitivity_ci_upper'] = tables[i]['Sensitivity [95% CI]'].apply(filter_func(2))\n",
    "    tables[i]['specificity']          = tables[i]['Specificity [95% CI]'].apply(filter_func(0))\n",
    "    tables[i]['specificity_ci_lower'] = tables[i]['Specificity [95% CI]'].apply(filter_func(1))\n",
    "    tables[i]['specificity_ci_upper'] = tables[i]['Specificity [95% CI]'].apply(filter_func(2))\n",
    "    tables[i]['type']                 = letters[i]\n",
    "    \n",
    "    del tables[i]['Sensitivity [95% CI]']\n",
    "    del tables[i]['Specificity [95% CI]']\n",
    "    \n",
    "df = pd.concat(tables)"
   ]
  },
  {
   "cell_type": "code",
   "execution_count": 204,
   "id": "bba22a45",
   "metadata": {},
   "outputs": [
    {
     "data": {
      "image/png": "[encoded data removed]",
      "text/plain": [
       "<Figure size 432x288 with 1 Axes>"
      ]
     },
     "metadata": {
      "needs_background": "light"
     },
     "output_type": "display_data"
    }
   ],
   "source": [
    "plt.scatter(df[~df.type.str.contains('pcr')].sensitivity, df[~df.type.str.contains('pcr')].specificity,\n",
    "            color='blue', label='sorológico')\n",
    "plt.scatter(df[df.type.str.contains('pcr')].sensitivity, df[df.type.str.contains('pcr')].specificity, \n",
    "            color='red', label='PCR')\n",
    "plt.xlabel('sensitivity')\n",
    "plt.ylabel('specificity')\n",
    "plt.legend(loc='lower left')\n",
    "plt.show()"
   ]
  },
  {
   "cell_type": "code",
   "execution_count": 190,
   "id": "b0c66363",
   "metadata": {},
   "outputs": [
    {
     "data": {
      "text/html": [
       "<div>\n",
       "<style scoped>\n",
       "    .dataframe tbody tr th:only-of-type {\n",
       "        vertical-align: middle;\n",
       "    }\n",
       "\n",
       "    .dataframe tbody tr th {\n",
       "        vertical-align: top;\n",
       "    }\n",
       "\n",
       "    .dataframe thead th {\n",
       "        text-align: right;\n",
       "    }\n",
       "</style>\n",
       "<table border=\"1\" class=\"dataframe\">\n",
       "  <thead>\n",
       "    <tr style=\"text-align: right;\">\n",
       "      <th></th>\n",
       "      <th>Study</th>\n",
       "      <th>TP</th>\n",
       "      <th>FP</th>\n",
       "      <th>FN</th>\n",
       "      <th>TN</th>\n",
       "      <th>sensitivity</th>\n",
       "      <th>sensitivity_ci_lower</th>\n",
       "      <th>sensitivity_ci_upper</th>\n",
       "      <th>specificity</th>\n",
       "      <th>specificity_ci_lower</th>\n",
       "      <th>specificity_ci_upper</th>\n",
       "    </tr>\n",
       "  </thead>\n",
       "  <tbody>\n",
       "    <tr>\n",
       "      <th>count</th>\n",
       "      <td>7.100000e+01</td>\n",
       "      <td>71.000000</td>\n",
       "      <td>71.000000</td>\n",
       "      <td>71.000000</td>\n",
       "      <td>71.000000</td>\n",
       "      <td>71.000000</td>\n",
       "      <td>71.000000</td>\n",
       "      <td>71.000000</td>\n",
       "      <td>71.000000</td>\n",
       "      <td>71.000000</td>\n",
       "      <td>71.000000</td>\n",
       "    </tr>\n",
       "    <tr>\n",
       "      <th>mean</th>\n",
       "      <td>5.591396e+10</td>\n",
       "      <td>115.394366</td>\n",
       "      <td>13.971831</td>\n",
       "      <td>7.183099</td>\n",
       "      <td>191.676056</td>\n",
       "      <td>0.946901</td>\n",
       "      <td>0.835070</td>\n",
       "      <td>0.976479</td>\n",
       "      <td>0.942958</td>\n",
       "      <td>0.881127</td>\n",
       "      <td>0.962676</td>\n",
       "    </tr>\n",
       "    <tr>\n",
       "      <th>std</th>\n",
       "      <td>3.390722e+10</td>\n",
       "      <td>97.261427</td>\n",
       "      <td>45.681810</td>\n",
       "      <td>11.856656</td>\n",
       "      <td>212.390192</td>\n",
       "      <td>0.065500</td>\n",
       "      <td>0.174076</td>\n",
       "      <td>0.037037</td>\n",
       "      <td>0.132432</td>\n",
       "      <td>0.154064</td>\n",
       "      <td>0.113187</td>\n",
       "    </tr>\n",
       "    <tr>\n",
       "      <th>min</th>\n",
       "      <td>1.000901e+10</td>\n",
       "      <td>2.000000</td>\n",
       "      <td>0.000000</td>\n",
       "      <td>0.000000</td>\n",
       "      <td>5.000000</td>\n",
       "      <td>0.680000</td>\n",
       "      <td>0.160000</td>\n",
       "      <td>0.820000</td>\n",
       "      <td>0.390000</td>\n",
       "      <td>0.320000</td>\n",
       "      <td>0.440000</td>\n",
       "    </tr>\n",
       "    <tr>\n",
       "      <th>25%</th>\n",
       "      <td>1.034136e+10</td>\n",
       "      <td>49.000000</td>\n",
       "      <td>0.500000</td>\n",
       "      <td>0.000000</td>\n",
       "      <td>60.000000</td>\n",
       "      <td>0.930000</td>\n",
       "      <td>0.820000</td>\n",
       "      <td>0.970000</td>\n",
       "      <td>0.960000</td>\n",
       "      <td>0.890000</td>\n",
       "      <td>0.990000</td>\n",
       "    </tr>\n",
       "    <tr>\n",
       "      <th>50%</th>\n",
       "      <td>8.025802e+10</td>\n",
       "      <td>92.000000</td>\n",
       "      <td>2.000000</td>\n",
       "      <td>3.000000</td>\n",
       "      <td>124.000000</td>\n",
       "      <td>0.970000</td>\n",
       "      <td>0.890000</td>\n",
       "      <td>0.990000</td>\n",
       "      <td>0.980000</td>\n",
       "      <td>0.930000</td>\n",
       "      <td>1.000000</td>\n",
       "    </tr>\n",
       "    <tr>\n",
       "      <th>75%</th>\n",
       "      <td>8.086715e+10</td>\n",
       "      <td>169.000000</td>\n",
       "      <td>9.000000</td>\n",
       "      <td>7.500000</td>\n",
       "      <td>241.000000</td>\n",
       "      <td>1.000000</td>\n",
       "      <td>0.925000</td>\n",
       "      <td>1.000000</td>\n",
       "      <td>1.000000</td>\n",
       "      <td>0.960000</td>\n",
       "      <td>1.000000</td>\n",
       "    </tr>\n",
       "    <tr>\n",
       "      <th>max</th>\n",
       "      <td>8.198451e+10</td>\n",
       "      <td>422.000000</td>\n",
       "      <td>297.000000</td>\n",
       "      <td>49.000000</td>\n",
       "      <td>1364.000000</td>\n",
       "      <td>1.000000</td>\n",
       "      <td>0.980000</td>\n",
       "      <td>1.000000</td>\n",
       "      <td>1.000000</td>\n",
       "      <td>0.990000</td>\n",
       "      <td>1.000000</td>\n",
       "    </tr>\n",
       "  </tbody>\n",
       "</table>\n",
       "</div>"
      ],
      "text/plain": [
       "              Study          TP          FP         FN           TN  \\\n",
       "count  7.100000e+01   71.000000   71.000000  71.000000    71.000000   \n",
       "mean   5.591396e+10  115.394366   13.971831   7.183099   191.676056   \n",
       "std    3.390722e+10   97.261427   45.681810  11.856656   212.390192   \n",
       "min    1.000901e+10    2.000000    0.000000   0.000000     5.000000   \n",
       "25%    1.034136e+10   49.000000    0.500000   0.000000    60.000000   \n",
       "50%    8.025802e+10   92.000000    2.000000   3.000000   124.000000   \n",
       "75%    8.086715e+10  169.000000    9.000000   7.500000   241.000000   \n",
       "max    8.198451e+10  422.000000  297.000000  49.000000  1364.000000   \n",
       "\n",
       "       sensitivity  sensitivity_ci_lower  sensitivity_ci_upper  specificity  \\\n",
       "count    71.000000             71.000000             71.000000    71.000000   \n",
       "mean      0.946901              0.835070              0.976479     0.942958   \n",
       "std       0.065500              0.174076              0.037037     0.132432   \n",
       "min       0.680000              0.160000              0.820000     0.390000   \n",
       "25%       0.930000              0.820000              0.970000     0.960000   \n",
       "50%       0.970000              0.890000              0.990000     0.980000   \n",
       "75%       1.000000              0.925000              1.000000     1.000000   \n",
       "max       1.000000              0.980000              1.000000     1.000000   \n",
       "\n",
       "       specificity_ci_lower  specificity_ci_upper  \n",
       "count             71.000000             71.000000  \n",
       "mean               0.881127              0.962676  \n",
       "std                0.154064              0.113187  \n",
       "min                0.320000              0.440000  \n",
       "25%                0.890000              0.990000  \n",
       "50%                0.930000              1.000000  \n",
       "75%                0.960000              1.000000  \n",
       "max                0.990000              1.000000  "
      ]
     },
     "execution_count": 190,
     "metadata": {},
     "output_type": "execute_result"
    }
   ],
   "source": [
    "df.describe()"
   ]
  },
  {
   "cell_type": "code",
   "execution_count": 64,
   "id": "ea0ac2d0",
   "metadata": {},
   "outputs": [],
   "source": [
    "distribution = BivariateBeta()\n",
    "\n",
    "x = df.specificity\n",
    "y = df.sensitivity\n",
    "\n",
    "m1 = np.mean(x)\n",
    "m2 = np.mean(y)\n",
    "v1 = np.var(x, ddof=1)\n",
    "v2 = np.var(y, ddof=1)\n",
    "rho = np.corrcoef(x, y)[0,1]\n",
    "\n",
    "moments = [m1, m2, v1, v2, rho]"
   ]
  },
  {
   "cell_type": "code",
   "execution_count": 60,
   "id": "1b257201",
   "metadata": {},
   "outputs": [
    {
     "data": {
      "text/plain": [
       "array([1.82542555, 0.12359079, 0.13174202, 0.        ])"
      ]
     },
     "execution_count": 60,
     "metadata": {},
     "output_type": "execute_result"
    }
   ],
   "source": [
    "distribution.method_moments_estimator_1(x, y)"
   ]
  },
  {
   "cell_type": "code",
   "execution_count": 61,
   "id": "1f25c9fc",
   "metadata": {},
   "outputs": [
    {
     "data": {
      "text/plain": [
       "array([       0.        ,        0.        ,        0.        ,\n",
       "       33385287.08964973])"
      ]
     },
     "execution_count": 61,
     "metadata": {},
     "output_type": "execute_result"
    }
   ],
   "source": [
    "distribution.method_moments_estimator_2(x, y)"
   ]
  },
  {
   "cell_type": "code",
   "execution_count": 65,
   "id": "614439e3",
   "metadata": {},
   "outputs": [
    {
     "data": {
      "text/plain": [
       "array([3.27312502e+00, 1.95309929e-01, 2.09815707e-01, 5.98999003e-17])"
      ]
     },
     "execution_count": 65,
     "metadata": {},
     "output_type": "execute_result"
    }
   ],
   "source": [
    "distribution.method_moments_estimator_3(x, y, alpha0=(1,1))"
   ]
  },
  {
   "cell_type": "code",
   "execution_count": 63,
   "id": "e6c4b136",
   "metadata": {},
   "outputs": [
    {
     "data": {
      "text/plain": [
       "array([5.7846352 , 0.72017582, 0.74697218, 0.        ])"
      ]
     },
     "execution_count": 63,
     "metadata": {},
     "output_type": "execute_result"
    }
   ],
   "source": [
    "distribution.method_moments_estimator_4(x, y, alpha0=(1,1,1,1))"
   ]
  },
  {
   "cell_type": "code",
   "execution_count": 35,
   "id": "603ad42d",
   "metadata": {},
   "outputs": [],
   "source": [
    "d = BivariateBeta(alpha_hat)"
   ]
  },
  {
   "cell_type": "code",
   "execution_count": 36,
   "id": "b1af3f4d",
   "metadata": {},
   "outputs": [
    {
     "name": "stderr",
     "output_type": "stream",
     "text": [
      "/home/lucasmoschen/Documents/GitHub/bivariate-beta/notebooks/../scripts/parameter_estimation.py:192: RuntimeWarning: divide by zero encountered in log\n",
      "  den = np.log(alpha[0] + alpha[1]) + np.log(alpha[2] + alpha[3])\n",
      "/home/lucasmoschen/Documents/GitHub/bivariate-beta/notebooks/../scripts/parameter_estimation.py:193: RuntimeWarning: divide by zero encountered in log\n",
      "  den += np.log(alpha[0] + alpha[2]) + np.log(alpha[1] + alpha[3])\n",
      "/home/lucasmoschen/Documents/GitHub/bivariate-beta/notebooks/../scripts/parameter_estimation.py:195: RuntimeWarning: invalid value encountered in double_scalars\n",
      "  Cor_XY = (alpha[0]*alpha[3] - alpha[1]*alpha[2])*den\n"
     ]
    },
    {
     "data": {
      "text/plain": [
       "array([ 0.,  0.,  0.,  0., nan])"
      ]
     },
     "execution_count": 36,
     "metadata": {},
     "output_type": "execute_result"
    }
   ],
   "source": [
    "d.moments()"
   ]
  },
  {
   "cell_type": "code",
   "execution_count": 58,
   "id": "e6903bdd",
   "metadata": {},
   "outputs": [],
   "source": []
  },
  {
   "cell_type": "code",
   "execution_count": 85,
   "id": "7b560d92",
   "metadata": {},
   "outputs": [],
   "source": [
    "a = -distribution._system_three_solution(m1, m2, rho)"
   ]
  },
  {
   "cell_type": "code",
   "execution_count": 86,
   "id": "db9fc079",
   "metadata": {},
   "outputs": [
    {
     "data": {
      "text/plain": [
       "array([131.89148245,   8.92973866,   9.51868477,  -1.        ])"
      ]
     },
     "execution_count": 86,
     "metadata": {},
     "output_type": "execute_result"
    }
   ],
   "source": [
    "a"
   ]
  },
  {
   "cell_type": "code",
   "execution_count": 87,
   "id": "bb7265b8",
   "metadata": {},
   "outputs": [
    {
     "data": {
      "text/plain": [
       "-1.1102230246251565e-16"
      ]
     },
     "execution_count": 87,
     "metadata": {},
     "output_type": "execute_result"
    }
   ],
   "source": [
    "(a[0] + a[1])/a.sum() - m1"
   ]
  },
  {
   "cell_type": "code",
   "execution_count": 88,
   "id": "d51a3f9a",
   "metadata": {},
   "outputs": [
    {
     "data": {
      "text/plain": [
       "-2.220446049250313e-16"
      ]
     },
     "execution_count": 88,
     "metadata": {},
     "output_type": "execute_result"
    }
   ],
   "source": [
    "(a[0] + a[2])/a.sum() - m2"
   ]
  },
  {
   "cell_type": "code",
   "execution_count": 82,
   "id": "9bc0241b",
   "metadata": {},
   "outputs": [
    {
     "data": {
      "text/plain": [
       "0.454897394582171"
      ]
     },
     "execution_count": 82,
     "metadata": {},
     "output_type": "execute_result"
    }
   ],
   "source": [
    "(a[0]*a[3] - a[1]*a[2])/(np.sqrt((a[0]+a[1])*(a[0]+a[2])*(a[1]+a[3])*(a[2]+a[3])))"
   ]
  },
  {
   "cell_type": "code",
   "execution_count": 70,
   "id": "14c25d44",
   "metadata": {},
   "outputs": [
    {
     "data": {
      "text/plain": [
       "array([131.89148245,   8.92973866,   9.51868477,  -1.        ])"
      ]
     },
     "execution_count": 70,
     "metadata": {},
     "output_type": "execute_result"
    }
   ],
   "source": [
    "a"
   ]
  },
  {
   "cell_type": "code",
   "execution_count": 94,
   "id": "3ab3ff25",
   "metadata": {},
   "outputs": [
    {
     "data": {
      "text/plain": [
       "array([ 1.00000000e+00, -4.96984422e-01,  5.01512563e+02,  1.00000000e+00])"
      ]
     },
     "execution_count": 94,
     "metadata": {},
     "output_type": "execute_result"
    }
   ],
   "source": [
    "distribution._system_three_solution(0.001, 0.999, 0.99)"
   ]
  },
  {
   "cell_type": "code",
   "execution_count": 118,
   "id": "f3d99308",
   "metadata": {},
   "outputs": [],
   "source": [
    "expr = lambda m1, m2: (1 - m1)*(1-m2) - 0.5*np.sqrt(m1*m2*(1-m1)*(1-m2))"
   ]
  },
  {
   "cell_type": "code",
   "execution_count": 186,
   "id": "402f3c51",
   "metadata": {},
   "outputs": [],
   "source": [
    "rho = -0.99\n",
    "m1, m2 = np.meshgrid(np.linspace(1e-8,1, 100, endpoint=False), np.linspace(1e-8,1, 100, endpoint=False))\n",
    "z = distribution._system_three_solution(m1, m2, rho)\n",
    "z = (z[0]<0)*(z[1]>0)*(z[2]>0)# + (z[0]<0)*(z[1]>0)*(z[2]<0)"
   ]
  },
  {
   "cell_type": "code",
   "execution_count": 187,
   "id": "37d01033",
   "metadata": {},
   "outputs": [
    {
     "data": {
      "text/plain": [
       "<matplotlib.colorbar.Colorbar at 0x7f7ee3bdd810>"
      ]
     },
     "execution_count": 187,
     "metadata": {},
     "output_type": "execute_result"
    },
    {
     "data": {
      "image/png": "[encoded data removed]",
      "text/plain": [
       "<Figure size 432x288 with 2 Axes>"
      ]
     },
     "metadata": {
      "needs_background": "light"
     },
     "output_type": "display_data"
    }
   ],
   "source": [
    "CS = plt.contourf(m1, m2, z)\n",
    "plt.colorbar(CS)"
   ]
  },
  {
   "cell_type": "code",
   "execution_count": null,
   "id": "d884fcf9",
   "metadata": {},
   "outputs": [],
   "source": []
  }
 ],
 "metadata": {
  "kernelspec": {
   "display_name": "project-beta",
   "language": "python",
   "name": "project-beta"
  },
  "language_info": {
   "codemirror_mode": {
    "name": "ipython",
    "version": 3
   },
   "file_extension": ".py",
   "mimetype": "text/x-python",
   "name": "python",
   "nbconvert_exporter": "python",
   "pygments_lexer": "ipython3",
   "version": "3.10.4"
  }
 },
 "nbformat": 4,
 "nbformat_minor": 5
}
