{
 "cells": [
  {
   "cell_type": "code",
   "execution_count": 1,
   "id": "588f70f4-c88f-4220-93d6-6aeb3caa0184",
   "metadata": {},
   "outputs": [],
   "source": [
    "import numpy as np\n",
    "from cmdstanpy import cmdstan_path, CmdStanModel, set_cmdstan_path\n",
    "\n",
    "import matplotlib.pyplot as plt\n",
    "import arviz as az\n",
    "import os\n",
    "import tqdm\n",
    "\n",
    "import sys\n",
    "sys.path.append('../scripts')\n",
    "\n",
    "from parameter_estimation import BivariateBeta"
   ]
  },
  {
   "cell_type": "markdown",
   "id": "047b7e37-f8d4-49fa-b559-6d57a472f433",
   "metadata": {},
   "source": [
    "## Stan Model\n",
    "\n",
    "For using the following notebook, it is necessary to set the `cmdstan` path correctly. "
   ]
  },
  {
   "cell_type": "code",
   "execution_count": 2,
   "id": "1b62d647-465d-488a-920d-10eb0432dfc3",
   "metadata": {},
   "outputs": [],
   "source": [
    "set_cmdstan_path('/home/lucasmoschen/anaconda3/envs/project-beta/bin/cmdstan')"
   ]
  },
  {
   "cell_type": "markdown",
   "id": "fa330bea-53b3-4368-bd05-00978f2b5c9d",
   "metadata": {},
   "source": [
    "Then, we can proceed the compilation."
   ]
  },
  {
   "cell_type": "code",
   "execution_count": 3,
   "id": "91ed0992-b7cb-49ef-b2f6-09ee0b3e927d",
   "metadata": {},
   "outputs": [
    {
     "name": "stderr",
     "output_type": "stream",
     "text": [
      "INFO:cmdstanpy:found newer exe file, not recompiling\n"
     ]
    }
   ],
   "source": [
    "stanfile = os.path.join('..', 'scripts', 'bivariate-beta-model.stan')\n",
    "model = CmdStanModel(stan_file=stanfile, cpp_options={'STAN_THREADS':'true'})"
   ]
  },
  {
   "cell_type": "markdown",
   "id": "29e9c008-f03d-42c1-938e-35a50fc2c5c4",
   "metadata": {},
   "source": [
    "Generating the data"
   ]
  },
  {
   "cell_type": "code",
   "execution_count": 4,
   "id": "6e5389e8-94c6-4fdb-9d5e-f99be04bbd11",
   "metadata": {},
   "outputs": [],
   "source": [
    "alpha = np.array([1,1,1,1])\n",
    "n = 50\n",
    "U = np.random.dirichlet(alpha, size=n)\n",
    "X = U[:,0] + U[:,1]\n",
    "Y = U[:,0] + U[:,2]\n",
    "XY = np.column_stack([X,Y])\n",
    "\n",
    "a = np.array([1,1,1,1])\n",
    "b = np.array([1,1,1,1])\n",
    "\n",
    "data = {'n': n, 'xy': XY, 'a': a, 'b': b, 'tolerance': 1e-8}"
   ]
  },
  {
   "cell_type": "code",
   "execution_count": 5,
   "id": "5cd2a1be-52d3-4825-8fcb-37370d21d5d1",
   "metadata": {},
   "outputs": [
    {
     "name": "stderr",
     "output_type": "stream",
     "text": [
      "INFO:cmdstanpy:CmdStan start processing\n"
     ]
    },
    {
     "data": {
      "application/vnd.jupyter.widget-view+json": {
       "model_id": "78c028e01b39444ebeae5ae724890931",
       "version_major": 2,
       "version_minor": 0
      },
      "text/plain": [
       "chain 1 |          | 00:00 Status"
      ]
     },
     "metadata": {},
     "output_type": "display_data"
    },
    {
     "data": {
      "application/vnd.jupyter.widget-view+json": {
       "model_id": "41d906504fac4c038672e28a324c891c",
       "version_major": 2,
       "version_minor": 0
      },
      "text/plain": [
       "chain 2 |          | 00:00 Status"
      ]
     },
     "metadata": {},
     "output_type": "display_data"
    },
    {
     "data": {
      "application/vnd.jupyter.widget-view+json": {
       "model_id": "d4e4dcf46b8e493086bbbd567cc4078f",
       "version_major": 2,
       "version_minor": 0
      },
      "text/plain": [
       "chain 3 |          | 00:00 Status"
      ]
     },
     "metadata": {},
     "output_type": "display_data"
    },
    {
     "data": {
      "application/vnd.jupyter.widget-view+json": {
       "model_id": "9d8e9a0fb1424ebb9eb53245ae016b6c",
       "version_major": 2,
       "version_minor": 0
      },
      "text/plain": [
       "chain 4 |          | 00:00 Status"
      ]
     },
     "metadata": {},
     "output_type": "display_data"
    },
    {
     "name": "stdout",
     "output_type": "stream",
     "text": [
      "                                                                                                                                                                                                                                                                                                                                "
     ]
    },
    {
     "name": "stderr",
     "output_type": "stream",
     "text": [
      "INFO:cmdstanpy:CmdStan done processing.\n"
     ]
    },
    {
     "name": "stdout",
     "output_type": "stream",
     "text": [
      "\n"
     ]
    }
   ],
   "source": [
    "model_fit = model.sample(data=data, chains=4, iter_sampling=1000)"
   ]
  },
  {
   "cell_type": "code",
   "execution_count": 6,
   "id": "a603cb7d-3b55-42ae-907c-e13861f32ee2",
   "metadata": {},
   "outputs": [
    {
     "name": "stdout",
     "output_type": "stream",
     "text": [
      "Processing csv files: /tmp/tmpfuwkwaj6/bivariate-beta-model-20220614222953_1.csv, /tmp/tmpfuwkwaj6/bivariate-beta-model-20220614222953_2.csv, /tmp/tmpfuwkwaj6/bivariate-beta-model-20220614222953_3.csv, /tmp/tmpfuwkwaj6/bivariate-beta-model-20220614222953_4.csv\n",
      "\n",
      "Checking sampler transitions treedepth.\n",
      "Treedepth satisfactory for all transitions.\n",
      "\n",
      "Checking sampler transitions for divergences.\n",
      "No divergent transitions found.\n",
      "\n",
      "Checking E-BFMI - sampler transitions HMC potential energy.\n",
      "E-BFMI satisfactory.\n",
      "\n",
      "Effective sample size satisfactory.\n",
      "\n",
      "Split R-hat values satisfactory all parameters.\n",
      "\n",
      "Processing complete, no problems detected.\n",
      "\n"
     ]
    }
   ],
   "source": [
    "print(model_fit.diagnose())"
   ]
  },
  {
   "cell_type": "code",
   "execution_count": 7,
   "id": "0df9f1c0-60e3-4313-a2f5-0d434b8cb7f1",
   "metadata": {},
   "outputs": [
    {
     "data": {
      "text/html": [
       "<div>\n",
       "<style scoped>\n",
       "    .dataframe tbody tr th:only-of-type {\n",
       "        vertical-align: middle;\n",
       "    }\n",
       "\n",
       "    .dataframe tbody tr th {\n",
       "        vertical-align: top;\n",
       "    }\n",
       "\n",
       "    .dataframe thead th {\n",
       "        text-align: right;\n",
       "    }\n",
       "</style>\n",
       "<table border=\"1\" class=\"dataframe\">\n",
       "  <thead>\n",
       "    <tr style=\"text-align: right;\">\n",
       "      <th></th>\n",
       "      <th>Mean</th>\n",
       "      <th>MCSE</th>\n",
       "      <th>StdDev</th>\n",
       "      <th>5%</th>\n",
       "      <th>50%</th>\n",
       "      <th>95%</th>\n",
       "      <th>N_Eff</th>\n",
       "      <th>N_Eff/s</th>\n",
       "      <th>R_hat</th>\n",
       "    </tr>\n",
       "    <tr>\n",
       "      <th>name</th>\n",
       "      <th></th>\n",
       "      <th></th>\n",
       "      <th></th>\n",
       "      <th></th>\n",
       "      <th></th>\n",
       "      <th></th>\n",
       "      <th></th>\n",
       "      <th></th>\n",
       "      <th></th>\n",
       "    </tr>\n",
       "  </thead>\n",
       "  <tbody>\n",
       "    <tr>\n",
       "      <th>lp__</th>\n",
       "      <td>13.00</td>\n",
       "      <td>0.0340</td>\n",
       "      <td>1.40</td>\n",
       "      <td>10.00</td>\n",
       "      <td>13.00</td>\n",
       "      <td>15.0</td>\n",
       "      <td>1700.0</td>\n",
       "      <td>3.2</td>\n",
       "      <td>1.0</td>\n",
       "    </tr>\n",
       "    <tr>\n",
       "      <th>alpha[1]</th>\n",
       "      <td>1.00</td>\n",
       "      <td>0.0045</td>\n",
       "      <td>0.21</td>\n",
       "      <td>0.70</td>\n",
       "      <td>1.00</td>\n",
       "      <td>1.4</td>\n",
       "      <td>2244.0</td>\n",
       "      <td>4.2</td>\n",
       "      <td>1.0</td>\n",
       "    </tr>\n",
       "    <tr>\n",
       "      <th>alpha[2]</th>\n",
       "      <td>1.10</td>\n",
       "      <td>0.0051</td>\n",
       "      <td>0.23</td>\n",
       "      <td>0.74</td>\n",
       "      <td>1.10</td>\n",
       "      <td>1.5</td>\n",
       "      <td>2107.0</td>\n",
       "      <td>3.9</td>\n",
       "      <td>1.0</td>\n",
       "    </tr>\n",
       "    <tr>\n",
       "      <th>alpha[3]</th>\n",
       "      <td>0.83</td>\n",
       "      <td>0.0046</td>\n",
       "      <td>0.21</td>\n",
       "      <td>0.50</td>\n",
       "      <td>0.82</td>\n",
       "      <td>1.2</td>\n",
       "      <td>2019.0</td>\n",
       "      <td>3.8</td>\n",
       "      <td>1.0</td>\n",
       "    </tr>\n",
       "    <tr>\n",
       "      <th>alpha[4]</th>\n",
       "      <td>1.40</td>\n",
       "      <td>0.0055</td>\n",
       "      <td>0.26</td>\n",
       "      <td>0.96</td>\n",
       "      <td>1.40</td>\n",
       "      <td>1.8</td>\n",
       "      <td>2335.0</td>\n",
       "      <td>4.3</td>\n",
       "      <td>1.0</td>\n",
       "    </tr>\n",
       "  </tbody>\n",
       "</table>\n",
       "</div>"
      ],
      "text/plain": [
       "           Mean    MCSE  StdDev     5%    50%   95%   N_Eff  N_Eff/s  R_hat\n",
       "name                                                                       \n",
       "lp__      13.00  0.0340    1.40  10.00  13.00  15.0  1700.0      3.2    1.0\n",
       "alpha[1]   1.00  0.0045    0.21   0.70   1.00   1.4  2244.0      4.2    1.0\n",
       "alpha[2]   1.10  0.0051    0.23   0.74   1.10   1.5  2107.0      3.9    1.0\n",
       "alpha[3]   0.83  0.0046    0.21   0.50   0.82   1.2  2019.0      3.8    1.0\n",
       "alpha[4]   1.40  0.0055    0.26   0.96   1.40   1.8  2335.0      4.3    1.0"
      ]
     },
     "execution_count": 7,
     "metadata": {},
     "output_type": "execute_result"
    }
   ],
   "source": [
    "model_fit.summary()"
   ]
  },
  {
   "cell_type": "code",
   "execution_count": 8,
   "id": "ea112a4e-1107-425b-ad1e-3fe1dffff4c2",
   "metadata": {},
   "outputs": [],
   "source": [
    "inf_data = az.from_cmdstanpy(model_fit)"
   ]
  },
  {
   "cell_type": "code",
   "execution_count": 13,
   "id": "113c95da-7b36-4fa2-a396-57d6bd18c011",
   "metadata": {},
   "outputs": [
    {
     "data": {
      "image/png": "[encoded data removed]",
      "text/plain": [
       "<Figure size 864x144 with 2 Axes>"
      ]
     },
     "metadata": {
      "needs_background": "light"
     },
     "output_type": "display_data"
    }
   ],
   "source": [
    "az.plot_trace(inf_data)\n",
    "plt.show()"
   ]
  },
  {
   "cell_type": "code",
   "execution_count": 17,
   "id": "ef8fee25-8a75-43af-84c7-7113d7ff65a5",
   "metadata": {},
   "outputs": [
    {
     "name": "stderr",
     "output_type": "stream",
     "text": [
      "INFO:cmdstanpy:compiling stan file /home/lucasmoschen/Documents/GitHub/bivariate-beta/scripts/bivariate-beta-model-v2.stan to exe file /home/lucasmoschen/Documents/GitHub/bivariate-beta/scripts/bivariate-beta-model-v2\n",
      "INFO:cmdstanpy:compiled model executable: /home/lucasmoschen/Documents/GitHub/bivariate-beta/scripts/bivariate-beta-model-v2\n"
     ]
    }
   ],
   "source": [
    "stanfile = os.path.join('..', 'scripts', 'bivariate-beta-model-v2.stan')\n",
    "model = CmdStanModel(stan_file=stanfile, cpp_options={'STAN_THREADS':'true'})"
   ]
  },
  {
   "cell_type": "code",
   "execution_count": 18,
   "id": "d067407d-e7be-43e0-8eef-90f190cc3b8f",
   "metadata": {},
   "outputs": [
    {
     "name": "stderr",
     "output_type": "stream",
     "text": [
      "INFO:cmdstanpy:CmdStan start processing\n"
     ]
    },
    {
     "data": {
      "application/vnd.jupyter.widget-view+json": {
       "model_id": "e2b1fe511af244bb86ca980d6c4e8189",
       "version_major": 2,
       "version_minor": 0
      },
      "text/plain": [
       "chain 1 |          | 00:00 Status"
      ]
     },
     "metadata": {},
     "output_type": "display_data"
    },
    {
     "data": {
      "application/vnd.jupyter.widget-view+json": {
       "model_id": "d1d622f58a084f81a90335f77a0978ab",
       "version_major": 2,
       "version_minor": 0
      },
      "text/plain": [
       "chain 2 |          | 00:00 Status"
      ]
     },
     "metadata": {},
     "output_type": "display_data"
    },
    {
     "data": {
      "application/vnd.jupyter.widget-view+json": {
       "model_id": "ca01cdf304bf4010b6bcd9e717c55879",
       "version_major": 2,
       "version_minor": 0
      },
      "text/plain": [
       "chain 3 |          | 00:00 Status"
      ]
     },
     "metadata": {},
     "output_type": "display_data"
    },
    {
     "data": {
      "application/vnd.jupyter.widget-view+json": {
       "model_id": "40e7e31ad1d244ef809720ee29c372c2",
       "version_major": 2,
       "version_minor": 0
      },
      "text/plain": [
       "chain 4 |          | 00:00 Status"
      ]
     },
     "metadata": {},
     "output_type": "display_data"
    },
    {
     "name": "stdout",
     "output_type": "stream",
     "text": [
      "                                                                                                                                                                                                                                                                                                                                "
     ]
    },
    {
     "name": "stderr",
     "output_type": "stream",
     "text": [
      "INFO:cmdstanpy:CmdStan done processing.\n"
     ]
    },
    {
     "name": "stdout",
     "output_type": "stream",
     "text": [
      "\n"
     ]
    }
   ],
   "source": [
    "model_fit_v2 = model.sample(data=data, chains=4, iter_sampling=1000)"
   ]
  },
  {
   "cell_type": "code",
   "execution_count": 29,
   "id": "ebc51ece-21b7-446b-a00f-f16a2f961c7d",
   "metadata": {},
   "outputs": [
    {
     "data": {
      "text/html": [
       "<div>\n",
       "<style scoped>\n",
       "    .dataframe tbody tr th:only-of-type {\n",
       "        vertical-align: middle;\n",
       "    }\n",
       "\n",
       "    .dataframe tbody tr th {\n",
       "        vertical-align: top;\n",
       "    }\n",
       "\n",
       "    .dataframe thead th {\n",
       "        text-align: right;\n",
       "    }\n",
       "</style>\n",
       "<table border=\"1\" class=\"dataframe\">\n",
       "  <thead>\n",
       "    <tr style=\"text-align: right;\">\n",
       "      <th></th>\n",
       "      <th>Mean</th>\n",
       "      <th>MCSE</th>\n",
       "      <th>StdDev</th>\n",
       "      <th>5%</th>\n",
       "      <th>50%</th>\n",
       "      <th>95%</th>\n",
       "      <th>N_Eff</th>\n",
       "      <th>N_Eff/s</th>\n",
       "      <th>R_hat</th>\n",
       "    </tr>\n",
       "    <tr>\n",
       "      <th>name</th>\n",
       "      <th></th>\n",
       "      <th></th>\n",
       "      <th></th>\n",
       "      <th></th>\n",
       "      <th></th>\n",
       "      <th></th>\n",
       "      <th></th>\n",
       "      <th></th>\n",
       "      <th></th>\n",
       "    </tr>\n",
       "  </thead>\n",
       "  <tbody>\n",
       "    <tr>\n",
       "      <th>alpha[1]</th>\n",
       "      <td>1.00</td>\n",
       "      <td>0.0055</td>\n",
       "      <td>0.21</td>\n",
       "      <td>0.70</td>\n",
       "      <td>1.00</td>\n",
       "      <td>1.4</td>\n",
       "      <td>1512.0</td>\n",
       "      <td>239.0</td>\n",
       "      <td>1.0</td>\n",
       "    </tr>\n",
       "    <tr>\n",
       "      <th>alpha[2]</th>\n",
       "      <td>1.10</td>\n",
       "      <td>0.0073</td>\n",
       "      <td>0.24</td>\n",
       "      <td>0.76</td>\n",
       "      <td>1.10</td>\n",
       "      <td>1.5</td>\n",
       "      <td>1076.0</td>\n",
       "      <td>170.0</td>\n",
       "      <td>1.0</td>\n",
       "    </tr>\n",
       "    <tr>\n",
       "      <th>alpha[3]</th>\n",
       "      <td>0.85</td>\n",
       "      <td>0.0075</td>\n",
       "      <td>0.21</td>\n",
       "      <td>0.52</td>\n",
       "      <td>0.83</td>\n",
       "      <td>1.2</td>\n",
       "      <td>802.0</td>\n",
       "      <td>127.0</td>\n",
       "      <td>1.0</td>\n",
       "    </tr>\n",
       "    <tr>\n",
       "      <th>alpha[4]</th>\n",
       "      <td>1.40</td>\n",
       "      <td>0.0062</td>\n",
       "      <td>0.26</td>\n",
       "      <td>0.97</td>\n",
       "      <td>1.40</td>\n",
       "      <td>1.8</td>\n",
       "      <td>1726.0</td>\n",
       "      <td>273.0</td>\n",
       "      <td>1.0</td>\n",
       "    </tr>\n",
       "  </tbody>\n",
       "</table>\n",
       "</div>"
      ],
      "text/plain": [
       "          Mean    MCSE  StdDev    5%   50%  95%   N_Eff  N_Eff/s  R_hat\n",
       "name                                                                   \n",
       "alpha[1]  1.00  0.0055    0.21  0.70  1.00  1.4  1512.0    239.0    1.0\n",
       "alpha[2]  1.10  0.0073    0.24  0.76  1.10  1.5  1076.0    170.0    1.0\n",
       "alpha[3]  0.85  0.0075    0.21  0.52  0.83  1.2   802.0    127.0    1.0\n",
       "alpha[4]  1.40  0.0062    0.26  0.97  1.40  1.8  1726.0    273.0    1.0"
      ]
     },
     "execution_count": 29,
     "metadata": {},
     "output_type": "execute_result"
    }
   ],
   "source": [
    "df = model_fit_v2.summary()\n",
    "df[df.index.str.contains('alpha')]"
   ]
  },
  {
   "cell_type": "code",
   "execution_count": 31,
   "id": "add39239-0a87-40e6-8483-f89a6577e811",
   "metadata": {},
   "outputs": [
    {
     "data": {
      "text/html": [
       "<div>\n",
       "<style scoped>\n",
       "    .dataframe tbody tr th:only-of-type {\n",
       "        vertical-align: middle;\n",
       "    }\n",
       "\n",
       "    .dataframe tbody tr th {\n",
       "        vertical-align: top;\n",
       "    }\n",
       "\n",
       "    .dataframe thead th {\n",
       "        text-align: right;\n",
       "    }\n",
       "</style>\n",
       "<table border=\"1\" class=\"dataframe\">\n",
       "  <thead>\n",
       "    <tr style=\"text-align: right;\">\n",
       "      <th></th>\n",
       "      <th>Mean</th>\n",
       "      <th>MCSE</th>\n",
       "      <th>StdDev</th>\n",
       "      <th>5%</th>\n",
       "      <th>50%</th>\n",
       "      <th>95%</th>\n",
       "      <th>N_Eff</th>\n",
       "      <th>N_Eff/s</th>\n",
       "      <th>R_hat</th>\n",
       "    </tr>\n",
       "    <tr>\n",
       "      <th>name</th>\n",
       "      <th></th>\n",
       "      <th></th>\n",
       "      <th></th>\n",
       "      <th></th>\n",
       "      <th></th>\n",
       "      <th></th>\n",
       "      <th></th>\n",
       "      <th></th>\n",
       "      <th></th>\n",
       "    </tr>\n",
       "  </thead>\n",
       "  <tbody>\n",
       "    <tr>\n",
       "      <th>lp__</th>\n",
       "      <td>13.00</td>\n",
       "      <td>0.0340</td>\n",
       "      <td>1.40</td>\n",
       "      <td>10.00</td>\n",
       "      <td>13.00</td>\n",
       "      <td>15.0</td>\n",
       "      <td>1700.0</td>\n",
       "      <td>3.2</td>\n",
       "      <td>1.0</td>\n",
       "    </tr>\n",
       "    <tr>\n",
       "      <th>alpha[1]</th>\n",
       "      <td>1.00</td>\n",
       "      <td>0.0045</td>\n",
       "      <td>0.21</td>\n",
       "      <td>0.70</td>\n",
       "      <td>1.00</td>\n",
       "      <td>1.4</td>\n",
       "      <td>2244.0</td>\n",
       "      <td>4.2</td>\n",
       "      <td>1.0</td>\n",
       "    </tr>\n",
       "    <tr>\n",
       "      <th>alpha[2]</th>\n",
       "      <td>1.10</td>\n",
       "      <td>0.0051</td>\n",
       "      <td>0.23</td>\n",
       "      <td>0.74</td>\n",
       "      <td>1.10</td>\n",
       "      <td>1.5</td>\n",
       "      <td>2107.0</td>\n",
       "      <td>3.9</td>\n",
       "      <td>1.0</td>\n",
       "    </tr>\n",
       "    <tr>\n",
       "      <th>alpha[3]</th>\n",
       "      <td>0.83</td>\n",
       "      <td>0.0046</td>\n",
       "      <td>0.21</td>\n",
       "      <td>0.50</td>\n",
       "      <td>0.82</td>\n",
       "      <td>1.2</td>\n",
       "      <td>2019.0</td>\n",
       "      <td>3.8</td>\n",
       "      <td>1.0</td>\n",
       "    </tr>\n",
       "    <tr>\n",
       "      <th>alpha[4]</th>\n",
       "      <td>1.40</td>\n",
       "      <td>0.0055</td>\n",
       "      <td>0.26</td>\n",
       "      <td>0.96</td>\n",
       "      <td>1.40</td>\n",
       "      <td>1.8</td>\n",
       "      <td>2335.0</td>\n",
       "      <td>4.3</td>\n",
       "      <td>1.0</td>\n",
       "    </tr>\n",
       "  </tbody>\n",
       "</table>\n",
       "</div>"
      ],
      "text/plain": [
       "           Mean    MCSE  StdDev     5%    50%   95%   N_Eff  N_Eff/s  R_hat\n",
       "name                                                                       \n",
       "lp__      13.00  0.0340    1.40  10.00  13.00  15.0  1700.0      3.2    1.0\n",
       "alpha[1]   1.00  0.0045    0.21   0.70   1.00   1.4  2244.0      4.2    1.0\n",
       "alpha[2]   1.10  0.0051    0.23   0.74   1.10   1.5  2107.0      3.9    1.0\n",
       "alpha[3]   0.83  0.0046    0.21   0.50   0.82   1.2  2019.0      3.8    1.0\n",
       "alpha[4]   1.40  0.0055    0.26   0.96   1.40   1.8  2335.0      4.3    1.0"
      ]
     },
     "execution_count": 31,
     "metadata": {},
     "output_type": "execute_result"
    }
   ],
   "source": [
    "model_fit.summary()"
   ]
  },
  {
   "cell_type": "markdown",
   "id": "e8ffc537-e6e8-499a-bebd-c7822a4a391a",
   "metadata": {},
   "source": [
    "## Analyzing the estimation"
   ]
  },
  {
   "cell_type": "code",
   "execution_count": 64,
   "id": "56d5246b-82ec-4b0e-a82d-b846a5fa9339",
   "metadata": {},
   "outputs": [],
   "source": [
    "alpha = np.array([1,1,1,1])\n",
    "n = 50\n",
    "monte_carlo_simulation = 100\n",
    "U = np.random.dirichlet(alpha, size=(n, monte_carlo_simulation))\n",
    "X = U[:,:,0] + U[:,:,1]\n",
    "Y = U[:,:,0] + U[:,:,2]\n",
    "\n",
    "a = np.array([1,1,1,1])\n",
    "b = np.array([1,1,1,1])"
   ]
  },
  {
   "cell_type": "code",
   "execution_count": 65,
   "id": "5ab8fbf6-8d1a-4b65-a207-7240dbe5911f",
   "metadata": {
    "collapsed": true,
    "jupyter": {
     "outputs_hidden": true
    },
    "tags": []
   },
   "outputs": [
    {
     "name": "stderr",
     "output_type": "stream",
     "text": [
      "  0%|                                                   | 0/100 [00:00<?, ?it/s]INFO:cmdstanpy:CmdStan start processing\n",
      "INFO:cmdstanpy:CmdStan start processing\n",
      "INFO:cmdstanpy:CmdStan done processing\n",
      "  1%|▍                                          | 1/100 [00:04<07:07,  4.32s/it]INFO:cmdstanpy:CmdStan start processing\n",
      "INFO:cmdstanpy:CmdStan start processing\n",
      "INFO:cmdstanpy:CmdStan done processing\n",
      "  2%|▊                                          | 2/100 [00:08<06:57,  4.26s/it]INFO:cmdstanpy:CmdStan start processing\n",
      "INFO:cmdstanpy:CmdStan start processing\n",
      "INFO:cmdstanpy:CmdStan done processing\n",
      "  3%|█▎                                         | 3/100 [00:12<06:36,  4.09s/it]INFO:cmdstanpy:CmdStan start processing\n",
      "INFO:cmdstanpy:CmdStan start processing\n",
      "INFO:cmdstanpy:CmdStan done processing\n",
      "  4%|█▋                                         | 4/100 [00:16<06:25,  4.01s/it]INFO:cmdstanpy:CmdStan start processing\n",
      "INFO:cmdstanpy:CmdStan start processing\n",
      "INFO:cmdstanpy:CmdStan done processing\n",
      "  5%|██▏                                        | 5/100 [00:20<06:16,  3.96s/it]INFO:cmdstanpy:CmdStan start processing\n",
      "INFO:cmdstanpy:CmdStan start processing\n",
      "INFO:cmdstanpy:CmdStan done processing\n",
      "  6%|██▌                                        | 6/100 [00:24<06:20,  4.05s/it]INFO:cmdstanpy:CmdStan start processing\n",
      "INFO:cmdstanpy:CmdStan start processing\n",
      "INFO:cmdstanpy:CmdStan done processing\n",
      "  7%|███                                        | 7/100 [00:28<06:20,  4.09s/it]INFO:cmdstanpy:CmdStan start processing\n",
      "INFO:cmdstanpy:CmdStan start processing\n",
      "INFO:cmdstanpy:CmdStan done processing\n",
      "  8%|███▍                                       | 8/100 [00:32<06:07,  4.00s/it]INFO:cmdstanpy:CmdStan start processing\n",
      "INFO:cmdstanpy:CmdStan start processing\n",
      "INFO:cmdstanpy:CmdStan done processing\n",
      "  9%|███▊                                       | 9/100 [00:36<06:03,  3.99s/it]INFO:cmdstanpy:CmdStan start processing\n",
      "INFO:cmdstanpy:CmdStan start processing\n",
      "INFO:cmdstanpy:CmdStan done processing\n",
      " 10%|████▏                                     | 10/100 [00:40<06:01,  4.01s/it]INFO:cmdstanpy:CmdStan start processing\n",
      "INFO:cmdstanpy:CmdStan start processing\n",
      "INFO:cmdstanpy:CmdStan done processing\n",
      " 11%|████▌                                     | 11/100 [00:44<06:07,  4.12s/it]INFO:cmdstanpy:CmdStan start processing\n",
      "INFO:cmdstanpy:CmdStan start processing\n",
      "INFO:cmdstanpy:CmdStan done processing\n",
      " 12%|█████                                     | 12/100 [00:49<06:10,  4.22s/it]INFO:cmdstanpy:CmdStan start processing\n",
      "INFO:cmdstanpy:CmdStan start processing\n",
      "INFO:cmdstanpy:CmdStan done processing\n",
      " 13%|█████▍                                    | 13/100 [00:53<06:04,  4.19s/it]INFO:cmdstanpy:CmdStan start processing\n",
      "INFO:cmdstanpy:CmdStan start processing\n",
      "INFO:cmdstanpy:CmdStan done processing\n",
      " 14%|█████▉                                    | 14/100 [00:57<06:04,  4.24s/it]INFO:cmdstanpy:CmdStan start processing\n",
      "INFO:cmdstanpy:CmdStan start processing\n",
      "INFO:cmdstanpy:CmdStan done processing\n",
      " 15%|██████▎                                   | 15/100 [01:02<06:05,  4.31s/it]INFO:cmdstanpy:CmdStan start processing\n",
      "INFO:cmdstanpy:CmdStan start processing\n",
      "INFO:cmdstanpy:CmdStan done processing\n",
      " 16%|██████▋                                   | 16/100 [01:06<05:57,  4.26s/it]INFO:cmdstanpy:CmdStan start processing\n",
      "INFO:cmdstanpy:CmdStan start processing\n",
      "INFO:cmdstanpy:CmdStan done processing\n",
      " 17%|███████▏                                  | 17/100 [01:10<05:53,  4.26s/it]INFO:cmdstanpy:CmdStan start processing\n",
      "INFO:cmdstanpy:CmdStan start processing\n",
      "INFO:cmdstanpy:CmdStan done processing\n",
      " 18%|███████▌                                  | 18/100 [01:14<05:47,  4.24s/it]INFO:cmdstanpy:CmdStan start processing\n",
      "INFO:cmdstanpy:CmdStan start processing\n",
      "INFO:cmdstanpy:CmdStan done processing\n",
      " 19%|███████▉                                  | 19/100 [01:19<05:43,  4.24s/it]INFO:cmdstanpy:CmdStan start processing\n",
      "INFO:cmdstanpy:CmdStan start processing\n",
      "INFO:cmdstanpy:CmdStan done processing\n",
      " 20%|████████▍                                 | 20/100 [01:23<05:40,  4.25s/it]INFO:cmdstanpy:CmdStan start processing\n",
      "INFO:cmdstanpy:CmdStan start processing\n",
      "INFO:cmdstanpy:CmdStan done processing\n",
      " 21%|████████▊                                 | 21/100 [01:27<05:40,  4.31s/it]INFO:cmdstanpy:CmdStan start processing\n",
      "INFO:cmdstanpy:CmdStan start processing\n",
      "INFO:cmdstanpy:CmdStan done processing\n",
      " 22%|█████████▏                                | 22/100 [01:31<05:33,  4.27s/it]INFO:cmdstanpy:CmdStan start processing\n",
      "INFO:cmdstanpy:CmdStan start processing\n",
      "INFO:cmdstanpy:CmdStan done processing\n",
      " 23%|█████████▋                                | 23/100 [01:36<05:36,  4.37s/it]INFO:cmdstanpy:CmdStan start processing\n",
      "INFO:cmdstanpy:CmdStan start processing\n",
      "INFO:cmdstanpy:CmdStan done processing\n",
      " 24%|██████████                                | 24/100 [01:41<05:46,  4.56s/it]INFO:cmdstanpy:CmdStan start processing\n",
      "INFO:cmdstanpy:CmdStan start processing\n",
      "INFO:cmdstanpy:CmdStan done processing\n",
      " 25%|██████████▌                               | 25/100 [01:46<05:40,  4.54s/it]INFO:cmdstanpy:CmdStan start processing\n",
      "INFO:cmdstanpy:CmdStan start processing\n",
      "INFO:cmdstanpy:CmdStan done processing\n",
      " 26%|██████████▉                               | 26/100 [01:50<05:33,  4.51s/it]INFO:cmdstanpy:CmdStan start processing\n",
      "INFO:cmdstanpy:CmdStan start processing\n",
      "INFO:cmdstanpy:CmdStan done processing\n",
      " 27%|███████████▎                              | 27/100 [01:54<05:25,  4.46s/it]INFO:cmdstanpy:CmdStan start processing\n",
      "INFO:cmdstanpy:CmdStan start processing\n",
      "INFO:cmdstanpy:CmdStan done processing\n",
      " 28%|███████████▊                              | 28/100 [01:59<05:17,  4.41s/it]INFO:cmdstanpy:CmdStan start processing\n",
      "INFO:cmdstanpy:CmdStan start processing\n",
      "INFO:cmdstanpy:CmdStan done processing\n",
      " 29%|████████████▏                             | 29/100 [02:03<05:06,  4.31s/it]INFO:cmdstanpy:CmdStan start processing\n",
      "INFO:cmdstanpy:CmdStan start processing\n",
      "INFO:cmdstanpy:CmdStan done processing\n",
      " 30%|████████████▌                             | 30/100 [02:07<04:59,  4.28s/it]INFO:cmdstanpy:CmdStan start processing\n",
      "INFO:cmdstanpy:CmdStan start processing\n",
      "INFO:cmdstanpy:CmdStan done processing\n",
      " 31%|█████████████                             | 31/100 [02:11<04:53,  4.25s/it]INFO:cmdstanpy:CmdStan start processing\n",
      "INFO:cmdstanpy:CmdStan start processing\n",
      "INFO:cmdstanpy:CmdStan done processing\n",
      " 32%|█████████████▍                            | 32/100 [02:15<04:45,  4.21s/it]INFO:cmdstanpy:CmdStan start processing\n",
      "INFO:cmdstanpy:CmdStan start processing\n",
      "INFO:cmdstanpy:CmdStan done processing\n",
      " 33%|█████████████▊                            | 33/100 [02:19<04:41,  4.19s/it]INFO:cmdstanpy:CmdStan start processing\n",
      "INFO:cmdstanpy:CmdStan start processing\n",
      "INFO:cmdstanpy:CmdStan done processing\n",
      " 34%|██████████████▎                           | 34/100 [02:23<04:33,  4.15s/it]INFO:cmdstanpy:CmdStan start processing\n",
      "INFO:cmdstanpy:CmdStan start processing\n",
      "INFO:cmdstanpy:CmdStan done processing\n",
      " 35%|██████████████▋                           | 35/100 [02:27<04:26,  4.10s/it]INFO:cmdstanpy:CmdStan start processing\n",
      "INFO:cmdstanpy:CmdStan start processing\n",
      "INFO:cmdstanpy:CmdStan done processing\n",
      " 36%|███████████████                           | 36/100 [02:32<04:26,  4.17s/it]INFO:cmdstanpy:CmdStan start processing\n",
      "INFO:cmdstanpy:CmdStan start processing\n",
      "INFO:cmdstanpy:CmdStan done processing\n",
      " 37%|███████████████▌                          | 37/100 [02:36<04:22,  4.17s/it]INFO:cmdstanpy:CmdStan start processing\n",
      "INFO:cmdstanpy:CmdStan start processing\n",
      "INFO:cmdstanpy:CmdStan done processing\n",
      " 38%|███████████████▉                          | 38/100 [02:40<04:21,  4.22s/it]INFO:cmdstanpy:CmdStan start processing\n",
      "INFO:cmdstanpy:CmdStan start processing\n",
      "INFO:cmdstanpy:CmdStan done processing\n",
      " 39%|████████████████▍                         | 39/100 [02:44<04:14,  4.17s/it]INFO:cmdstanpy:CmdStan start processing\n",
      "INFO:cmdstanpy:CmdStan start processing\n",
      "INFO:cmdstanpy:CmdStan done processing\n",
      " 40%|████████████████▊                         | 40/100 [02:48<04:07,  4.12s/it]INFO:cmdstanpy:CmdStan start processing\n",
      "INFO:cmdstanpy:CmdStan start processing\n",
      "INFO:cmdstanpy:CmdStan done processing\n",
      " 41%|█████████████████▏                        | 41/100 [02:53<04:05,  4.17s/it]INFO:cmdstanpy:CmdStan start processing\n",
      "INFO:cmdstanpy:CmdStan start processing\n",
      "INFO:cmdstanpy:CmdStan done processing\n",
      " 42%|█████████████████▋                        | 42/100 [02:57<03:58,  4.12s/it]INFO:cmdstanpy:CmdStan start processing\n",
      "INFO:cmdstanpy:CmdStan start processing\n",
      "INFO:cmdstanpy:CmdStan done processing\n",
      " 43%|██████████████████                        | 43/100 [03:01<03:54,  4.12s/it]INFO:cmdstanpy:CmdStan start processing\n",
      "INFO:cmdstanpy:CmdStan start processing\n",
      "INFO:cmdstanpy:CmdStan done processing\n",
      " 44%|██████████████████▍                       | 44/100 [03:05<03:49,  4.10s/it]INFO:cmdstanpy:CmdStan start processing\n",
      "INFO:cmdstanpy:CmdStan start processing\n",
      "INFO:cmdstanpy:CmdStan done processing\n",
      " 45%|██████████████████▉                       | 45/100 [03:09<03:47,  4.14s/it]INFO:cmdstanpy:CmdStan start processing\n",
      "INFO:cmdstanpy:CmdStan start processing\n",
      "INFO:cmdstanpy:CmdStan done processing\n",
      " 46%|███████████████████▎                      | 46/100 [03:13<03:45,  4.18s/it]INFO:cmdstanpy:CmdStan start processing\n",
      "INFO:cmdstanpy:CmdStan start processing\n",
      "INFO:cmdstanpy:CmdStan done processing\n",
      " 47%|███████████████████▋                      | 47/100 [03:17<03:40,  4.16s/it]INFO:cmdstanpy:CmdStan start processing\n",
      "INFO:cmdstanpy:CmdStan start processing\n",
      "INFO:cmdstanpy:CmdStan done processing\n",
      " 48%|████████████████████▏                     | 48/100 [03:21<03:35,  4.15s/it]INFO:cmdstanpy:CmdStan start processing\n",
      "INFO:cmdstanpy:CmdStan start processing\n",
      "INFO:cmdstanpy:CmdStan done processing\n",
      " 49%|████████████████████▌                     | 49/100 [03:26<03:30,  4.13s/it]INFO:cmdstanpy:CmdStan start processing\n",
      "INFO:cmdstanpy:CmdStan start processing\n",
      "INFO:cmdstanpy:CmdStan done processing\n",
      " 50%|█████████████████████                     | 50/100 [03:30<03:26,  4.14s/it]INFO:cmdstanpy:CmdStan start processing\n",
      "INFO:cmdstanpy:CmdStan start processing\n",
      "INFO:cmdstanpy:CmdStan done processing\n",
      " 51%|█████████████████████▍                    | 51/100 [03:34<03:21,  4.11s/it]INFO:cmdstanpy:CmdStan start processing\n",
      "INFO:cmdstanpy:CmdStan start processing\n",
      "INFO:cmdstanpy:CmdStan done processing\n",
      " 52%|█████████████████████▊                    | 52/100 [03:38<03:18,  4.13s/it]INFO:cmdstanpy:CmdStan start processing\n",
      "INFO:cmdstanpy:CmdStan start processing\n",
      "INFO:cmdstanpy:CmdStan done processing\n",
      " 53%|██████████████████████▎                   | 53/100 [03:42<03:14,  4.14s/it]INFO:cmdstanpy:CmdStan start processing\n",
      "INFO:cmdstanpy:CmdStan start processing\n",
      "INFO:cmdstanpy:CmdStan done processing\n",
      " 54%|██████████████████████▋                   | 54/100 [03:46<03:10,  4.14s/it]INFO:cmdstanpy:CmdStan start processing\n",
      "INFO:cmdstanpy:CmdStan start processing\n",
      "INFO:cmdstanpy:CmdStan done processing\n",
      " 55%|███████████████████████                   | 55/100 [03:50<03:06,  4.14s/it]INFO:cmdstanpy:CmdStan start processing\n",
      "INFO:cmdstanpy:CmdStan start processing\n",
      "INFO:cmdstanpy:CmdStan done processing\n",
      " 56%|███████████████████████▌                  | 56/100 [03:55<03:05,  4.22s/it]INFO:cmdstanpy:CmdStan start processing\n",
      "INFO:cmdstanpy:CmdStan start processing\n",
      "INFO:cmdstanpy:CmdStan done processing\n",
      " 57%|███████████████████████▉                  | 57/100 [03:59<03:02,  4.24s/it]INFO:cmdstanpy:CmdStan start processing\n",
      "INFO:cmdstanpy:CmdStan start processing\n",
      "INFO:cmdstanpy:CmdStan done processing\n",
      " 58%|████████████████████████▎                 | 58/100 [04:03<02:57,  4.23s/it]INFO:cmdstanpy:CmdStan start processing\n",
      "INFO:cmdstanpy:CmdStan start processing\n",
      "INFO:cmdstanpy:CmdStan done processing\n",
      " 59%|████████████████████████▊                 | 59/100 [04:07<02:53,  4.23s/it]INFO:cmdstanpy:CmdStan start processing\n",
      "INFO:cmdstanpy:CmdStan start processing\n",
      "INFO:cmdstanpy:CmdStan done processing\n",
      " 60%|█████████████████████████▏                | 60/100 [04:12<02:47,  4.19s/it]INFO:cmdstanpy:CmdStan start processing\n",
      "INFO:cmdstanpy:CmdStan start processing\n",
      "INFO:cmdstanpy:CmdStan done processing\n",
      " 61%|█████████████████████████▌                | 61/100 [04:16<02:44,  4.21s/it]INFO:cmdstanpy:CmdStan start processing\n",
      "INFO:cmdstanpy:CmdStan start processing\n",
      "INFO:cmdstanpy:CmdStan done processing\n",
      " 62%|██████████████████████████                | 62/100 [04:20<02:39,  4.20s/it]INFO:cmdstanpy:CmdStan start processing\n",
      "INFO:cmdstanpy:CmdStan start processing\n",
      "INFO:cmdstanpy:CmdStan done processing\n",
      " 63%|██████████████████████████▍               | 63/100 [04:24<02:34,  4.17s/it]INFO:cmdstanpy:CmdStan start processing\n",
      "INFO:cmdstanpy:CmdStan start processing\n",
      "INFO:cmdstanpy:CmdStan done processing\n",
      " 64%|██████████████████████████▉               | 64/100 [04:28<02:29,  4.15s/it]INFO:cmdstanpy:CmdStan start processing\n",
      "INFO:cmdstanpy:CmdStan start processing\n",
      "INFO:cmdstanpy:CmdStan done processing\n",
      " 65%|███████████████████████████▎              | 65/100 [04:32<02:25,  4.16s/it]INFO:cmdstanpy:CmdStan start processing\n",
      "INFO:cmdstanpy:CmdStan start processing\n",
      "INFO:cmdstanpy:CmdStan done processing\n",
      " 66%|███████████████████████████▋              | 66/100 [04:37<02:22,  4.18s/it]INFO:cmdstanpy:CmdStan start processing\n",
      "INFO:cmdstanpy:CmdStan start processing\n",
      "INFO:cmdstanpy:CmdStan done processing\n",
      " 67%|████████████████████████████▏             | 67/100 [04:41<02:17,  4.18s/it]INFO:cmdstanpy:CmdStan start processing\n",
      "INFO:cmdstanpy:CmdStan start processing\n",
      "INFO:cmdstanpy:CmdStan done processing\n",
      " 68%|████████████████████████████▌             | 68/100 [04:45<02:13,  4.17s/it]INFO:cmdstanpy:CmdStan start processing\n",
      "INFO:cmdstanpy:CmdStan start processing\n",
      "INFO:cmdstanpy:CmdStan done processing\n",
      " 69%|████████████████████████████▉             | 69/100 [04:49<02:10,  4.19s/it]INFO:cmdstanpy:CmdStan start processing\n",
      "INFO:cmdstanpy:CmdStan start processing\n",
      "INFO:cmdstanpy:CmdStan done processing\n",
      " 70%|█████████████████████████████▍            | 70/100 [04:53<02:05,  4.17s/it]INFO:cmdstanpy:CmdStan start processing\n",
      "INFO:cmdstanpy:CmdStan start processing\n",
      "INFO:cmdstanpy:CmdStan done processing\n",
      " 71%|█████████████████████████████▊            | 71/100 [04:58<02:02,  4.21s/it]INFO:cmdstanpy:CmdStan start processing\n",
      "INFO:cmdstanpy:CmdStan start processing\n",
      "INFO:cmdstanpy:CmdStan done processing\n",
      " 72%|██████████████████████████████▏           | 72/100 [05:02<01:55,  4.14s/it]INFO:cmdstanpy:CmdStan start processing\n",
      "INFO:cmdstanpy:CmdStan start processing\n",
      "INFO:cmdstanpy:CmdStan done processing\n",
      " 73%|██████████████████████████████▋           | 73/100 [05:06<01:50,  4.10s/it]INFO:cmdstanpy:CmdStan start processing\n",
      "INFO:cmdstanpy:CmdStan start processing\n",
      "INFO:cmdstanpy:CmdStan done processing\n",
      " 74%|███████████████████████████████           | 74/100 [05:10<01:46,  4.08s/it]INFO:cmdstanpy:CmdStan start processing\n",
      "INFO:cmdstanpy:CmdStan start processing\n",
      "INFO:cmdstanpy:CmdStan done processing\n",
      " 75%|███████████████████████████████▌          | 75/100 [05:14<01:42,  4.12s/it]INFO:cmdstanpy:CmdStan start processing\n",
      "INFO:cmdstanpy:CmdStan start processing\n",
      "INFO:cmdstanpy:CmdStan done processing\n",
      " 76%|███████████████████████████████▉          | 76/100 [05:18<01:38,  4.11s/it]INFO:cmdstanpy:CmdStan start processing\n",
      "INFO:cmdstanpy:CmdStan start processing\n",
      "INFO:cmdstanpy:CmdStan done processing\n",
      " 77%|████████████████████████████████▎         | 77/100 [05:22<01:34,  4.11s/it]INFO:cmdstanpy:CmdStan start processing\n",
      "INFO:cmdstanpy:CmdStan start processing\n",
      "INFO:cmdstanpy:CmdStan done processing\n",
      " 78%|████████████████████████████████▊         | 78/100 [05:26<01:31,  4.14s/it]INFO:cmdstanpy:CmdStan start processing\n",
      "INFO:cmdstanpy:CmdStan start processing\n",
      "INFO:cmdstanpy:CmdStan done processing\n",
      " 79%|█████████████████████████████████▏        | 79/100 [05:30<01:26,  4.13s/it]INFO:cmdstanpy:CmdStan start processing\n",
      "INFO:cmdstanpy:CmdStan start processing\n",
      "INFO:cmdstanpy:CmdStan done processing\n",
      " 80%|█████████████████████████████████▌        | 80/100 [05:35<01:23,  4.16s/it]INFO:cmdstanpy:CmdStan start processing\n",
      "INFO:cmdstanpy:CmdStan start processing\n",
      "INFO:cmdstanpy:CmdStan done processing\n",
      " 81%|██████████████████████████████████        | 81/100 [05:39<01:18,  4.13s/it]INFO:cmdstanpy:CmdStan start processing\n",
      "INFO:cmdstanpy:CmdStan start processing\n",
      "INFO:cmdstanpy:CmdStan done processing\n",
      " 82%|██████████████████████████████████▍       | 82/100 [05:43<01:14,  4.16s/it]INFO:cmdstanpy:CmdStan start processing\n",
      "INFO:cmdstanpy:CmdStan start processing\n",
      "INFO:cmdstanpy:CmdStan done processing\n",
      " 83%|██████████████████████████████████▊       | 83/100 [05:47<01:11,  4.21s/it]INFO:cmdstanpy:CmdStan start processing\n",
      "INFO:cmdstanpy:CmdStan start processing\n",
      "INFO:cmdstanpy:CmdStan done processing\n",
      " 84%|███████████████████████████████████▎      | 84/100 [05:51<01:06,  4.18s/it]INFO:cmdstanpy:CmdStan start processing\n",
      "INFO:cmdstanpy:CmdStan start processing\n",
      "INFO:cmdstanpy:CmdStan done processing\n",
      " 85%|███████████████████████████████████▋      | 85/100 [05:56<01:02,  4.19s/it]INFO:cmdstanpy:CmdStan start processing\n",
      "INFO:cmdstanpy:CmdStan start processing\n",
      "INFO:cmdstanpy:CmdStan done processing\n",
      " 86%|████████████████████████████████████      | 86/100 [06:00<00:58,  4.17s/it]INFO:cmdstanpy:CmdStan start processing\n",
      "INFO:cmdstanpy:CmdStan start processing\n",
      "INFO:cmdstanpy:CmdStan done processing\n",
      " 87%|████████████████████████████████████▌     | 87/100 [06:04<00:54,  4.20s/it]INFO:cmdstanpy:CmdStan start processing\n",
      "INFO:cmdstanpy:CmdStan start processing\n",
      "INFO:cmdstanpy:CmdStan done processing\n",
      " 88%|████████████████████████████████████▉     | 88/100 [06:08<00:49,  4.14s/it]INFO:cmdstanpy:CmdStan start processing\n",
      "INFO:cmdstanpy:CmdStan start processing\n",
      "INFO:cmdstanpy:CmdStan done processing\n",
      " 89%|█████████████████████████████████████▍    | 89/100 [06:12<00:45,  4.15s/it]INFO:cmdstanpy:CmdStan start processing\n",
      "INFO:cmdstanpy:CmdStan start processing\n",
      "INFO:cmdstanpy:CmdStan done processing\n",
      " 90%|█████████████████████████████████████▊    | 90/100 [06:16<00:41,  4.19s/it]INFO:cmdstanpy:CmdStan start processing\n",
      "INFO:cmdstanpy:CmdStan start processing\n",
      "INFO:cmdstanpy:CmdStan done processing\n",
      " 91%|██████████████████████████████████████▏   | 91/100 [06:21<00:37,  4.18s/it]INFO:cmdstanpy:CmdStan start processing\n",
      "INFO:cmdstanpy:CmdStan start processing\n",
      "INFO:cmdstanpy:CmdStan done processing\n",
      " 92%|██████████████████████████████████████▋   | 92/100 [06:25<00:33,  4.17s/it]INFO:cmdstanpy:CmdStan start processing\n",
      "INFO:cmdstanpy:CmdStan start processing\n",
      "INFO:cmdstanpy:CmdStan done processing\n",
      " 93%|███████████████████████████████████████   | 93/100 [06:29<00:29,  4.14s/it]INFO:cmdstanpy:CmdStan start processing\n",
      "INFO:cmdstanpy:CmdStan start processing\n",
      "INFO:cmdstanpy:CmdStan done processing\n",
      " 94%|███████████████████████████████████████▍  | 94/100 [06:33<00:24,  4.14s/it]INFO:cmdstanpy:CmdStan start processing\n",
      "INFO:cmdstanpy:CmdStan start processing\n",
      "INFO:cmdstanpy:CmdStan done processing\n",
      " 95%|███████████████████████████████████████▉  | 95/100 [06:37<00:20,  4.17s/it]INFO:cmdstanpy:CmdStan start processing\n",
      "INFO:cmdstanpy:CmdStan start processing\n",
      "INFO:cmdstanpy:CmdStan done processing\n",
      " 96%|████████████████████████████████████████▎ | 96/100 [06:41<00:16,  4.17s/it]INFO:cmdstanpy:CmdStan start processing\n",
      "INFO:cmdstanpy:CmdStan start processing\n",
      "INFO:cmdstanpy:CmdStan done processing\n",
      " 97%|████████████████████████████████████████▋ | 97/100 [06:45<00:12,  4.14s/it]INFO:cmdstanpy:CmdStan start processing\n",
      "INFO:cmdstanpy:CmdStan start processing\n",
      "INFO:cmdstanpy:CmdStan done processing\n",
      " 98%|█████████████████████████████████████████▏| 98/100 [06:50<00:08,  4.15s/it]INFO:cmdstanpy:CmdStan start processing\n",
      "INFO:cmdstanpy:CmdStan start processing\n",
      "INFO:cmdstanpy:CmdStan done processing\n",
      " 99%|█████████████████████████████████████████▌| 99/100 [06:54<00:04,  4.18s/it]INFO:cmdstanpy:CmdStan start processing\n",
      "INFO:cmdstanpy:CmdStan start processing\n",
      "INFO:cmdstanpy:CmdStan done processing\n",
      "100%|█████████████████████████████████████████| 100/100 [06:58<00:00,  4.18s/it]\n"
     ]
    }
   ],
   "source": [
    "mse = np.zeros(4)\n",
    "bias = np.zeros(4)\n",
    "coverage = np.zeros(4)\n",
    "mape = np.zeros(4)\n",
    "\n",
    "for i in tqdm.tqdm(range(monte_carlo_simulation)):\n",
    "    XY = np.column_stack([X[:,i],Y[:,i]])\n",
    "    data = {'n': n, 'xy': XY, 'a': a, 'b': b, 'tolerance': 1e-8}\n",
    "    model_fit_v2 = model.sample(data=data, chains=4, iter_sampling=1000, show_progress=False, show_console=False)\n",
    "    df = model_fit_v2.summary(percentiles=(2.5, 97.5))\n",
    "    \n",
    "    alpha_hat = df.iloc[1:5].Mean.values\n",
    "    lb = df.iloc[1:5]['2.5%'].values\n",
    "    ub = df.iloc[1:5]['97.5%'].values\n",
    "    \n",
    "    bias_new = alpha_hat - alpha\n",
    "    mse_new = bias_new * bias_new\n",
    "    mape_new = abs(bias_new)/alpha\n",
    "    coverage_new = (lb < alpha)*(ub > alpha)\n",
    "    \n",
    "    bias = (bias * i + bias_new)/(i+1)\n",
    "    mse = (mse * i + mse_new)/(i+1)\n",
    "    mape = (mape * i + mape_new)/(i+1)\n",
    "    coverage = (coverage * i + coverage_new)/(i+1)"
   ]
  },
  {
   "cell_type": "code",
   "execution_count": null,
   "id": "dde0b04f-5e8f-43c5-883f-d916eec1783e",
   "metadata": {},
   "outputs": [],
   "source": []
  }
 ],
 "metadata": {
  "kernelspec": {
   "display_name": "project-beta",
   "language": "python",
   "name": "project-beta"
  },
  "language_info": {
   "codemirror_mode": {
    "name": "ipython",
    "version": 3
   },
   "file_extension": ".py",
   "mimetype": "text/x-python",
   "name": "python",
   "nbconvert_exporter": "python",
   "pygments_lexer": "ipython3",
   "version": "3.10.4"
  }
 },
 "nbformat": 4,
 "nbformat_minor": 5
}
