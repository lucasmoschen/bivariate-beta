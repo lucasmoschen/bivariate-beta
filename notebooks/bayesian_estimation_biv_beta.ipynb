{
 "cells": [
  {
   "cell_type": "code",
   "execution_count": 8,
   "id": "588f70f4-c88f-4220-93d6-6aeb3caa0184",
   "metadata": {},
   "outputs": [],
   "source": [
    "import numpy as np\n",
    "from cmdstanpy import cmdstan_path, CmdStanModel, set_cmdstan_path\n",
    "\n",
    "import matplotlib.pyplot as plt\n",
    "import arviz as az\n",
    "import os\n",
    "import tqdm\n",
    "\n",
    "import sys\n",
    "sys.path.append('../scripts')\n",
    "\n",
    "from parameter_estimation import BivariateBeta"
   ]
  },
  {
   "cell_type": "markdown",
   "id": "047b7e37-f8d4-49fa-b559-6d57a472f433",
   "metadata": {},
   "source": [
    "## Stan Model\n",
    "\n",
    "For using the following notebook, it is necessary to set the `cmdstan` path correctly. "
   ]
  },
  {
   "cell_type": "code",
   "execution_count": 2,
   "id": "1b62d647-465d-488a-920d-10eb0432dfc3",
   "metadata": {},
   "outputs": [],
   "source": [
    "set_cmdstan_path('/home/lucasmoschen/anaconda3/envs/project-beta/bin/cmdstan')"
   ]
  },
  {
   "cell_type": "markdown",
   "id": "fa330bea-53b3-4368-bd05-00978f2b5c9d",
   "metadata": {},
   "source": [
    "Then, we can proceed the compilation."
   ]
  },
  {
   "cell_type": "code",
   "execution_count": 3,
   "id": "91ed0992-b7cb-49ef-b2f6-09ee0b3e927d",
   "metadata": {},
   "outputs": [
    {
     "name": "stderr",
     "output_type": "stream",
     "text": [
      "INFO:cmdstanpy:found newer exe file, not recompiling\n"
     ]
    }
   ],
   "source": [
    "stanfile = os.path.join('..', 'scripts', 'bivariate-beta-model.stan')\n",
    "model = CmdStanModel(stan_file=stanfile, cpp_options={'STAN_THREADS':'true'})"
   ]
  },
  {
   "cell_type": "markdown",
   "id": "29e9c008-f03d-42c1-938e-35a50fc2c5c4",
   "metadata": {},
   "source": [
    "Generating the data"
   ]
  },
  {
   "cell_type": "code",
   "execution_count": 4,
   "id": "6e5389e8-94c6-4fdb-9d5e-f99be04bbd11",
   "metadata": {},
   "outputs": [],
   "source": [
    "alpha = np.array([1,1,1,1])\n",
    "n = 50\n",
    "U = np.random.dirichlet(alpha, size=n)\n",
    "X = U[:,0] + U[:,1]\n",
    "Y = U[:,0] + U[:,2]\n",
    "XY = np.column_stack([X,Y])\n",
    "\n",
    "a = np.array([1,1,1,1])\n",
    "b = np.array([1,1,1,1])\n",
    "\n",
    "data = {'n': n, 'xy': XY, 'a': a, 'b': b, 'tolerance': 1e-8}"
   ]
  },
  {
   "cell_type": "code",
   "execution_count": 5,
   "id": "5cd2a1be-52d3-4825-8fcb-37370d21d5d1",
   "metadata": {},
   "outputs": [
    {
     "name": "stderr",
     "output_type": "stream",
     "text": [
      "INFO:cmdstanpy:CmdStan start processing\n"
     ]
    },
    {
     "data": {
      "application/vnd.jupyter.widget-view+json": {
       "model_id": "49cf8922be25456c8e55ae14010aff3f",
       "version_major": 2,
       "version_minor": 0
      },
      "text/plain": [
       "chain 1 |          | 00:00 Status"
      ]
     },
     "metadata": {},
     "output_type": "display_data"
    },
    {
     "data": {
      "application/vnd.jupyter.widget-view+json": {
       "model_id": "46e9286cfcee4ed6bf909c62a370381f",
       "version_major": 2,
       "version_minor": 0
      },
      "text/plain": [
       "chain 2 |          | 00:00 Status"
      ]
     },
     "metadata": {},
     "output_type": "display_data"
    },
    {
     "data": {
      "application/vnd.jupyter.widget-view+json": {
       "model_id": "7313f2672c0d446ba093efa632fc30e9",
       "version_major": 2,
       "version_minor": 0
      },
      "text/plain": [
       "chain 3 |          | 00:00 Status"
      ]
     },
     "metadata": {},
     "output_type": "display_data"
    },
    {
     "data": {
      "application/vnd.jupyter.widget-view+json": {
       "model_id": "273af37310884538bf8032c04b16816c",
       "version_major": 2,
       "version_minor": 0
      },
      "text/plain": [
       "chain 4 |          | 00:00 Status"
      ]
     },
     "metadata": {},
     "output_type": "display_data"
    },
    {
     "name": "stdout",
     "output_type": "stream",
     "text": [
      "                                                                                                                                                                                                                                                                                                                                "
     ]
    },
    {
     "name": "stderr",
     "output_type": "stream",
     "text": [
      "INFO:cmdstanpy:CmdStan done processing.\n"
     ]
    },
    {
     "name": "stdout",
     "output_type": "stream",
     "text": [
      "\n"
     ]
    }
   ],
   "source": [
    "model_fit = model.sample(data=data, chains=4, iter_sampling=1000)"
   ]
  },
  {
   "cell_type": "code",
   "execution_count": 6,
   "id": "a603cb7d-3b55-42ae-907c-e13861f32ee2",
   "metadata": {},
   "outputs": [
    {
     "name": "stdout",
     "output_type": "stream",
     "text": [
      "Processing csv files: /tmp/tmp8lqw_h40/bivariate-beta-model-20220604214749_1.csv, /tmp/tmp8lqw_h40/bivariate-beta-model-20220604214749_2.csv, /tmp/tmp8lqw_h40/bivariate-beta-model-20220604214749_3.csv, /tmp/tmp8lqw_h40/bivariate-beta-model-20220604214749_4.csv\n",
      "\n",
      "Checking sampler transitions treedepth.\n",
      "Treedepth satisfactory for all transitions.\n",
      "\n",
      "Checking sampler transitions for divergences.\n",
      "No divergent transitions found.\n",
      "\n",
      "Checking E-BFMI - sampler transitions HMC potential energy.\n",
      "E-BFMI satisfactory.\n",
      "\n",
      "Effective sample size satisfactory.\n",
      "\n",
      "Split R-hat values satisfactory all parameters.\n",
      "\n",
      "Processing complete, no problems detected.\n",
      "\n"
     ]
    }
   ],
   "source": [
    "print(model_fit.diagnose())"
   ]
  },
  {
   "cell_type": "code",
   "execution_count": 7,
   "id": "0df9f1c0-60e3-4313-a2f5-0d434b8cb7f1",
   "metadata": {},
   "outputs": [
    {
     "data": {
      "text/html": [
       "<div>\n",
       "<style scoped>\n",
       "    .dataframe tbody tr th:only-of-type {\n",
       "        vertical-align: middle;\n",
       "    }\n",
       "\n",
       "    .dataframe tbody tr th {\n",
       "        vertical-align: top;\n",
       "    }\n",
       "\n",
       "    .dataframe thead th {\n",
       "        text-align: right;\n",
       "    }\n",
       "</style>\n",
       "<table border=\"1\" class=\"dataframe\">\n",
       "  <thead>\n",
       "    <tr style=\"text-align: right;\">\n",
       "      <th></th>\n",
       "      <th>Mean</th>\n",
       "      <th>MCSE</th>\n",
       "      <th>StdDev</th>\n",
       "      <th>5%</th>\n",
       "      <th>50%</th>\n",
       "      <th>95%</th>\n",
       "      <th>N_Eff</th>\n",
       "      <th>N_Eff/s</th>\n",
       "      <th>R_hat</th>\n",
       "    </tr>\n",
       "    <tr>\n",
       "      <th>name</th>\n",
       "      <th></th>\n",
       "      <th></th>\n",
       "      <th></th>\n",
       "      <th></th>\n",
       "      <th></th>\n",
       "      <th></th>\n",
       "      <th></th>\n",
       "      <th></th>\n",
       "      <th></th>\n",
       "    </tr>\n",
       "  </thead>\n",
       "  <tbody>\n",
       "    <tr>\n",
       "      <th>lp__</th>\n",
       "      <td>13.0</td>\n",
       "      <td>0.0350</td>\n",
       "      <td>1.40</td>\n",
       "      <td>11.00</td>\n",
       "      <td>14.0</td>\n",
       "      <td>15.0</td>\n",
       "      <td>1700.0</td>\n",
       "      <td>3.0</td>\n",
       "      <td>1.0</td>\n",
       "    </tr>\n",
       "    <tr>\n",
       "      <th>alpha[1]</th>\n",
       "      <td>1.1</td>\n",
       "      <td>0.0051</td>\n",
       "      <td>0.24</td>\n",
       "      <td>0.72</td>\n",
       "      <td>1.1</td>\n",
       "      <td>1.5</td>\n",
       "      <td>2180.0</td>\n",
       "      <td>4.0</td>\n",
       "      <td>1.0</td>\n",
       "    </tr>\n",
       "    <tr>\n",
       "      <th>alpha[2]</th>\n",
       "      <td>1.1</td>\n",
       "      <td>0.0052</td>\n",
       "      <td>0.24</td>\n",
       "      <td>0.71</td>\n",
       "      <td>1.1</td>\n",
       "      <td>1.5</td>\n",
       "      <td>2063.0</td>\n",
       "      <td>3.8</td>\n",
       "      <td>1.0</td>\n",
       "    </tr>\n",
       "    <tr>\n",
       "      <th>alpha[3]</th>\n",
       "      <td>1.2</td>\n",
       "      <td>0.0057</td>\n",
       "      <td>0.25</td>\n",
       "      <td>0.82</td>\n",
       "      <td>1.2</td>\n",
       "      <td>1.7</td>\n",
       "      <td>1988.0</td>\n",
       "      <td>3.7</td>\n",
       "      <td>1.0</td>\n",
       "    </tr>\n",
       "    <tr>\n",
       "      <th>alpha[4]</th>\n",
       "      <td>1.3</td>\n",
       "      <td>0.0055</td>\n",
       "      <td>0.25</td>\n",
       "      <td>0.88</td>\n",
       "      <td>1.3</td>\n",
       "      <td>1.7</td>\n",
       "      <td>2161.0</td>\n",
       "      <td>4.0</td>\n",
       "      <td>1.0</td>\n",
       "    </tr>\n",
       "  </tbody>\n",
       "</table>\n",
       "</div>"
      ],
      "text/plain": [
       "          Mean    MCSE  StdDev     5%   50%   95%   N_Eff  N_Eff/s  R_hat\n",
       "name                                                                     \n",
       "lp__      13.0  0.0350    1.40  11.00  14.0  15.0  1700.0      3.0    1.0\n",
       "alpha[1]   1.1  0.0051    0.24   0.72   1.1   1.5  2180.0      4.0    1.0\n",
       "alpha[2]   1.1  0.0052    0.24   0.71   1.1   1.5  2063.0      3.8    1.0\n",
       "alpha[3]   1.2  0.0057    0.25   0.82   1.2   1.7  1988.0      3.7    1.0\n",
       "alpha[4]   1.3  0.0055    0.25   0.88   1.3   1.7  2161.0      4.0    1.0"
      ]
     },
     "execution_count": 7,
     "metadata": {},
     "output_type": "execute_result"
    }
   ],
   "source": [
    "model_fit.summary()"
   ]
  },
  {
   "cell_type": "code",
   "execution_count": 10,
   "id": "ea112a4e-1107-425b-ad1e-3fe1dffff4c2",
   "metadata": {},
   "outputs": [],
   "source": [
    "inf_data = az.from_cmdstanpy(model_fit)"
   ]
  },
  {
   "cell_type": "code",
   "execution_count": 14,
   "id": "113c95da-7b36-4fa2-a396-57d6bd18c011",
   "metadata": {},
   "outputs": [
    {
     "data": {
      "image/png": "[encoded data removed]",
      "text/plain": [
       "<Figure size 1987.2x331.2 with 4 Axes>"
      ]
     },
     "metadata": {
      "needs_background": "light"
     },
     "output_type": "display_data"
    }
   ],
   "source": [
    "az.plot_posterior(inf_data, var_names='alpha')\n",
    "plt.show()"
   ]
  },
  {
   "cell_type": "code",
   "execution_count": null,
   "id": "77f9966e-bbe8-4987-955c-2249fa64d327",
   "metadata": {},
   "outputs": [],
   "source": []
  }
 ],
 "metadata": {
  "kernelspec": {
   "display_name": "project-beta",
   "language": "python",
   "name": "project-beta"
  },
  "language_info": {
   "codemirror_mode": {
    "name": "ipython",
    "version": 3
   },
   "file_extension": ".py",
   "mimetype": "text/x-python",
   "name": "python",
   "nbconvert_exporter": "python",
   "pygments_lexer": "ipython3",
   "version": "3.10.4"
  }
 },
 "nbformat": 4,
 "nbformat_minor": 5
}
