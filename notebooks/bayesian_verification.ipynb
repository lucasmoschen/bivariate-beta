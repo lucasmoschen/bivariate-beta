{
 "cells": [
  {
   "cell_type": "markdown",
   "id": "6d987ce8-c405-4d55-9928-de30c90d526a",
   "metadata": {
    "tags": []
   },
   "source": [
    "# Bayesian estimation of the bivariate beta parameter"
   ]
  },
  {
   "cell_type": "code",
   "execution_count": 1,
   "id": "98dadc87-0fcf-4cdb-aa0b-ba97db9bc25c",
   "metadata": {
    "tags": []
   },
   "outputs": [],
   "source": [
    "import logging\n",
    "logger = logging.getLogger('cmdstanpy')\n",
    "logger.setLevel(logging.CRITICAL)\n",
    "\n",
    "import os\n",
    "import tqdm\n",
    "import numpy as np\n",
    "from scipy import stats\n",
    "import pandas as pd\n",
    "\n",
    "from cmdstanpy import cmdstan_path, CmdStanModel, set_cmdstan_path\n",
    "import abcpy\n",
    "\n",
    "import matplotlib.pyplot as plt\n",
    "import matplotlib\n",
    "import arviz as az\n",
    "plt.style.use('science')\n",
    "\n",
    "import sys\n",
    "sys.path.append('../scripts/python')\n",
    "    \n",
    "from parameter_estimation import BivariateBeta"
   ]
  },
  {
   "cell_type": "markdown",
   "id": "047b7e37-f8d4-49fa-b559-6d57a472f433",
   "metadata": {
    "tags": []
   },
   "source": [
    "## Stan Model\n",
    "\n",
    "For using the following notebook, it is necessary to set the `cmdstan` path correctly. "
   ]
  },
  {
   "cell_type": "code",
   "execution_count": 2,
   "id": "1b62d647-465d-488a-920d-10eb0432dfc3",
   "metadata": {
    "tags": []
   },
   "outputs": [],
   "source": [
    "set_cmdstan_path('/home/lucasmoschen/anaconda3/envs/project-beta/bin/cmdstan')"
   ]
  },
  {
   "cell_type": "markdown",
   "id": "fa330bea-53b3-4368-bd05-00978f2b5c9d",
   "metadata": {},
   "source": [
    "Then, we can proceed the compilation."
   ]
  },
  {
   "cell_type": "code",
   "execution_count": 89,
   "id": "91ed0992-b7cb-49ef-b2f6-09ee0b3e927d",
   "metadata": {
    "tags": []
   },
   "outputs": [
    {
     "name": "stderr",
     "output_type": "stream",
     "text": [
      "INFO:cmdstanpy:found newer exe file, not recompiling\n",
      "INFO:cmdstanpy:found newer exe file, not recompiling\n",
      "INFO:cmdstanpy:found newer exe file, not recompiling\n",
      "INFO:cmdstanpy:found newer exe file, not recompiling\n"
     ]
    }
   ],
   "source": [
    "stanfile = os.path.join('..', 'scripts', 'stan', 'simple_normal_model.stan')\n",
    "simple_normal_model = CmdStanModel(stan_file=stanfile, cpp_options={'STAN_THREADS': True}, \n",
    "                                   stanc_options={'O1': True})\n",
    "\n",
    "stanfile = os.path.join('..', 'scripts', 'stan', 'simple_gamma_model.stan')\n",
    "simple_gamma_model = CmdStanModel(stan_file=stanfile, cpp_options={'STAN_THREADS': True}, \n",
    "                                   stanc_options={'O1': True})\n",
    "\n",
    "stanfile = os.path.join('..', 'scripts', 'stan', 'simple_model.stan')\n",
    "simple_model = CmdStanModel(stan_file=stanfile, cpp_options={'STAN_THREADS': True}, \n",
    "                      stanc_options={'O1': True})\n",
    "\n",
    "stanfile = os.path.join('..', 'scripts', 'stan', 'bivariate-beta-model-v10.stan')\n",
    "model10 = CmdStanModel(stan_file=stanfile, cpp_options={'STAN_THREADS': True})"
   ]
  },
  {
   "cell_type": "markdown",
   "id": "df78fb61-5b2a-42b0-998b-d0aa72533dd5",
   "metadata": {
    "tags": []
   },
   "source": [
    "## Default hyperparameters"
   ]
  },
  {
   "cell_type": "markdown",
   "id": "29e9c008-f03d-42c1-938e-35a50fc2c5c4",
   "metadata": {},
   "source": [
    "Generating the data"
   ]
  },
  {
   "cell_type": "code",
   "execution_count": 4,
   "id": "6e5389e8-94c6-4fdb-9d5e-f99be04bbd11",
   "metadata": {
    "tags": []
   },
   "outputs": [],
   "source": [
    "def generate_data(true_alpha, n, seed):\n",
    "    ro = np.random.RandomState(seed=seed)\n",
    "    U = ro.dirichlet(true_alpha, size=n)\n",
    "    X = U[:,0] + U[:,1]\n",
    "    Y = U[:,0] + U[:,2]\n",
    "    XY = np.column_stack([X,Y])\n",
    "    return U[:,0], XY"
   ]
  },
  {
   "cell_type": "markdown",
   "id": "b67f327d",
   "metadata": {},
   "source": [
    "## Conditioning on the sum of beta random variables"
   ]
  },
  {
   "cell_type": "code",
   "execution_count": 65,
   "id": "6047c8ad-4eab-497c-a9a0-96cac9f188fe",
   "metadata": {},
   "outputs": [
    {
     "name": "stderr",
     "output_type": "stream",
     "text": [
      "INFO:cmdstanpy:CmdStan start processing\n"
     ]
    },
    {
     "data": {
      "application/vnd.jupyter.widget-view+json": {
       "model_id": "afcfc6967aeb4dabbffef350bd6f0bf5",
       "version_major": 2,
       "version_minor": 0
      },
      "text/plain": [
       "chain 1 |          | 00:00 Status"
      ]
     },
     "metadata": {},
     "output_type": "display_data"
    },
    {
     "data": {
      "application/vnd.jupyter.widget-view+json": {
       "model_id": "013428ef75424a44a8ae7b7c5f0d3bd0",
       "version_major": 2,
       "version_minor": 0
      },
      "text/plain": [
       "chain 2 |          | 00:00 Status"
      ]
     },
     "metadata": {},
     "output_type": "display_data"
    },
    {
     "data": {
      "application/vnd.jupyter.widget-view+json": {
       "model_id": "0fdfdb4004c04d3289f1b7ad93b64b27",
       "version_major": 2,
       "version_minor": 0
      },
      "text/plain": [
       "chain 3 |          | 00:00 Status"
      ]
     },
     "metadata": {},
     "output_type": "display_data"
    },
    {
     "data": {
      "application/vnd.jupyter.widget-view+json": {
       "model_id": "e69ddfaf23704fd5b8773c4aed41ff67",
       "version_major": 2,
       "version_minor": 0
      },
      "text/plain": [
       "chain 4 |          | 00:00 Status"
      ]
     },
     "metadata": {},
     "output_type": "display_data"
    },
    {
     "name": "stdout",
     "output_type": "stream",
     "text": [
      "                                                                                                                                                                                                                                                                                                                                "
     ]
    },
    {
     "name": "stderr",
     "output_type": "stream",
     "text": [
      "INFO:cmdstanpy:CmdStan done processing.\n"
     ]
    },
    {
     "name": "stdout",
     "output_type": "stream",
     "text": [
      "\n"
     ]
    }
   ],
   "source": [
    "true_alpha = np.array([2.5, 1.0, 1.9, 1.8])\n",
    "n = 1\n",
    "\n",
    "rng = np.random.default_rng(seed=903321)\n",
    "U1 = rng.beta(true_alpha[0], true_alpha[1], size=n)\n",
    "U2 = rng.beta(true_alpha[2], true_alpha[3], size=n)\n",
    " \n",
    "data = {'x': U1+U2, 'n': n}\n",
    "data.update(dict(zip('abcd', true_alpha)))\n",
    "\n",
    "fit = simple_model.sample(data=data, seed=1000, adapt_delta=0.8, iter_sampling=100000, iter_warmup=90000)"
   ]
  },
  {
   "cell_type": "code",
   "execution_count": 7,
   "id": "9ce46468",
   "metadata": {},
   "outputs": [
    {
     "name": "stdout",
     "output_type": "stream",
     "text": [
      "Processing csv files: /tmp/tmpumx3aitn/simple_model-20220807142006_1.csv, /tmp/tmpumx3aitn/simple_model-20220807142006_2.csv, /tmp/tmpumx3aitn/simple_model-20220807142006_3.csv, /tmp/tmpumx3aitn/simple_model-20220807142006_4.csv\n",
      "\n",
      "Checking sampler transitions treedepth.\n",
      "Treedepth satisfactory for all transitions.\n",
      "\n",
      "Checking sampler transitions for divergences.\n",
      "No divergent transitions found.\n",
      "\n",
      "Checking E-BFMI - sampler transitions HMC potential energy.\n",
      "E-BFMI satisfactory.\n",
      "\n",
      "Effective sample size satisfactory.\n",
      "\n",
      "Split R-hat values satisfactory all parameters.\n",
      "\n",
      "Processing complete, no problems detected.\n",
      "\n"
     ]
    }
   ],
   "source": [
    "print(fit.diagnose())"
   ]
  },
  {
   "cell_type": "code",
   "execution_count": 9,
   "id": "2d2b2617",
   "metadata": {},
   "outputs": [
    {
     "data": {
      "image/png": "[encoded data removed]",
      "text/plain": [
       "<Figure size 432x288 with 1 Axes>"
      ]
     },
     "metadata": {
      "needs_background": "light"
     },
     "output_type": "display_data"
    }
   ],
   "source": [
    "az.plot_posterior(fit)\n",
    "plt.show()"
   ]
  },
  {
   "cell_type": "code",
   "execution_count": 10,
   "id": "ba5030dc",
   "metadata": {},
   "outputs": [],
   "source": [
    "draws = fit.draws_pd()"
   ]
  },
  {
   "cell_type": "code",
   "execution_count": 12,
   "id": "3e673a1e",
   "metadata": {},
   "outputs": [
    {
     "data": {
      "text/plain": [
       "<matplotlib.collections.PathCollection at 0x7f49f2c663b0>"
      ]
     },
     "execution_count": 12,
     "metadata": {},
     "output_type": "execute_result"
    },
    {
     "data": {
      "image/png": "[encoded data removed]",
      "text/plain": [
       "<Figure size 432x288 with 1 Axes>"
      ]
     },
     "metadata": {
      "needs_background": "light"
     },
     "output_type": "display_data"
    }
   ],
   "source": [
    "plt.scatter(draws[draws['divergent__'] == 0]['u[1]'], \n",
    "            draws[draws['divergent__'] == 0]['lp__'], \n",
    "            color='blue')\n",
    "plt.scatter(draws[draws['divergent__'] == 1]['u[1]'],\n",
    "            draws[draws['divergent__'] == 1]['lp__'], \n",
    "            color='red', alpha=0.05)"
   ]
  },
  {
   "cell_type": "code",
   "execution_count": 14,
   "id": "e012a50c",
   "metadata": {},
   "outputs": [
    {
     "data": {
      "image/png": "[encoded data removed]",
      "text/plain": [
       "<Figure size 432x288 with 1 Axes>"
      ]
     },
     "metadata": {
      "needs_background": "light"
     },
     "output_type": "display_data"
    }
   ],
   "source": [
    "plt.hist(draws[draws['divergent__'] == 1]['u[1]'], bins=50)\n",
    "plt.show()"
   ]
  },
  {
   "cell_type": "code",
   "execution_count": 15,
   "id": "6e7718b0-2d3a-4dfe-8cee-2d0bf4f4d521",
   "metadata": {},
   "outputs": [
    {
     "data": {
      "image/png": "[encoded data removed]",
      "text/plain": [
       "<Figure size 432x288 with 1 Axes>"
      ]
     },
     "metadata": {
      "needs_background": "light"
     },
     "output_type": "display_data"
    }
   ],
   "source": [
    "plt.hist(draws[(draws['u[1]'] > 0.99)&(draws['u[1]'] < 0.991)]['lp__'], bins=50)\n",
    "plt.show()"
   ]
  },
  {
   "cell_type": "code",
   "execution_count": 17,
   "id": "a2c93933",
   "metadata": {},
   "outputs": [
    {
     "data": {
      "image/png": "[encoded data removed]",
      "text/plain": [
       "<Figure size 432x288 with 1 Axes>"
      ]
     },
     "metadata": {
      "needs_background": "light"
     },
     "output_type": "display_data"
    }
   ],
   "source": [
    "t = np.linspace(U1+U2-1,1,1000,endpoint=False)\n",
    "plt.plot(t, stats.beta(true_alpha[0], true_alpha[1]).logpdf(t) + \\\n",
    "            stats.beta(true_alpha[2], true_alpha[3]).logpdf(U1+U2-t) - 1.8,\n",
    "         label='posterior')\n",
    "plt.scatter(draws[draws['divergent__'] == 0]['u[1]'], \n",
    "            draws[draws['divergent__'] == 0]['lp__'], \n",
    "            color='blue')\n",
    "plt.scatter(draws[draws['divergent__'] == 1]['u[1]'],\n",
    "            draws[draws['divergent__'] == 1]['lp__'], \n",
    "            color='red')\n",
    "plt.legend()\n",
    "plt.show()"
   ]
  },
  {
   "cell_type": "code",
   "execution_count": 18,
   "id": "bc3e59cc",
   "metadata": {},
   "outputs": [
    {
     "data": {
      "image/png": "[encoded data removed]",
      "text/plain": [
       "<Figure size 432x288 with 1 Axes>"
      ]
     },
     "metadata": {
      "needs_background": "light"
     },
     "output_type": "display_data"
    }
   ],
   "source": [
    "plt.plot(np.cumsum(fit.draws()[:,1,-1])/np.linspace(1, 100000,100000))\n",
    "plt.axhline(U1)\n",
    "plt.show()"
   ]
  },
  {
   "cell_type": "code",
   "execution_count": 47,
   "id": "e7693595",
   "metadata": {},
   "outputs": [
    {
     "data": {
      "text/plain": [
       "39.43758531252327"
      ]
     },
     "execution_count": 47,
     "metadata": {},
     "output_type": "execute_result"
    }
   ],
   "source": [
    "X"
   ]
  },
  {
   "cell_type": "markdown",
   "id": "f3c857dc",
   "metadata": {},
   "source": [
    "## Conditioning on the sum of normal distributions"
   ]
  },
  {
   "cell_type": "code",
   "execution_count": 95,
   "id": "f40252d6",
   "metadata": {},
   "outputs": [],
   "source": [
    "mu1 = 10\n",
    "mu2 = -10\n",
    "sigma1 = 1\n",
    "sigma2 = 1\n",
    "\n",
    "X = np.random.normal(mu1, sigma1)\n",
    "Y = np.random.normal(mu2, sigma2)\n",
    "\n",
    "data = {'s': X+Y, 'mu1': mu1, 'mu2': mu2, 'sigma1': sigma1, 'sigma2': sigma2}\n",
    "\n",
    "true_mean = mu1 + sigma1**2/(sigma1**2 + sigma2**2) * (X+Y-(mu2+mu1))\n",
    "true_std = sigma1 * sigma2 / np.sqrt(sigma1**2 + sigma2**2)\n",
    "true_x = np.random.normal(true_mean, true_std, size=100000)"
   ]
  },
  {
   "cell_type": "code",
   "execution_count": 96,
   "id": "1c87bc0d",
   "metadata": {},
   "outputs": [
    {
     "name": "stderr",
     "output_type": "stream",
     "text": [
      "INFO:cmdstanpy:CmdStan start processing\n"
     ]
    },
    {
     "data": {
      "application/vnd.jupyter.widget-view+json": {
       "model_id": "7a03384fcc0945ec919b784258c63170",
       "version_major": 2,
       "version_minor": 0
      },
      "text/plain": [
       "chain 1 |          | 00:00 Status"
      ]
     },
     "metadata": {},
     "output_type": "display_data"
    },
    {
     "data": {
      "application/vnd.jupyter.widget-view+json": {
       "model_id": "7b948b7b3661468f8c7084774af22f07",
       "version_major": 2,
       "version_minor": 0
      },
      "text/plain": [
       "chain 2 |          | 00:00 Status"
      ]
     },
     "metadata": {},
     "output_type": "display_data"
    },
    {
     "data": {
      "application/vnd.jupyter.widget-view+json": {
       "model_id": "0b5c1a48d2bd4bc4846bbd37b2198be2",
       "version_major": 2,
       "version_minor": 0
      },
      "text/plain": [
       "chain 3 |          | 00:00 Status"
      ]
     },
     "metadata": {},
     "output_type": "display_data"
    },
    {
     "data": {
      "application/vnd.jupyter.widget-view+json": {
       "model_id": "9d09011a51cb479cbc2242b325cd3d78",
       "version_major": 2,
       "version_minor": 0
      },
      "text/plain": [
       "chain 4 |          | 00:00 Status"
      ]
     },
     "metadata": {},
     "output_type": "display_data"
    },
    {
     "name": "stdout",
     "output_type": "stream",
     "text": [
      "                                                                                                                                                                                                                                                                                                                                "
     ]
    },
    {
     "name": "stderr",
     "output_type": "stream",
     "text": [
      "INFO:cmdstanpy:CmdStan done processing.\n"
     ]
    },
    {
     "name": "stdout",
     "output_type": "stream",
     "text": [
      "\n"
     ]
    }
   ],
   "source": [
    "fit = simple_normal_model.sample(data=data, iter_sampling=10000)"
   ]
  },
  {
   "cell_type": "code",
   "execution_count": 97,
   "id": "3c56c6cc",
   "metadata": {},
   "outputs": [
    {
     "data": {
      "image/png": "[encoded data removed]",
      "text/plain": [
       "<Figure size 432x288 with 1 Axes>"
      ]
     },
     "metadata": {
      "needs_background": "light"
     },
     "output_type": "display_data"
    }
   ],
   "source": [
    "ax = az.plot_posterior(fit)\n",
    "ax.hist(true_x, bins=50, density=True, alpha=0.3)\n",
    "plt.show()"
   ]
  },
  {
   "cell_type": "markdown",
   "id": "77102d6d",
   "metadata": {},
   "source": [
    "## Conditioning on the sum of gamma distributions"
   ]
  },
  {
   "cell_type": "code",
   "execution_count": 133,
   "id": "650c5969",
   "metadata": {},
   "outputs": [],
   "source": [
    "alpha1 = 0.2\n",
    "alpha2 = 0.2\n",
    "beta1  = 0.2\n",
    "beta2  = 0.2\n",
    "\n",
    "X = np.random.gamma(shape=alpha1, scale=1/beta1)\n",
    "Y = np.random.gamma(shape=alpha2, scale=1/beta2)\n",
    "\n",
    "data = {'s': X+Y, 'alpha1': alpha1, 'alpha2': alpha2, 'beta1': beta1, 'beta2': beta2}\n",
    "\n",
    "true_x = (X+Y) * np.random.beta(alpha1, alpha2, size=100000)"
   ]
  },
  {
   "cell_type": "code",
   "execution_count": 134,
   "id": "75f9b00d",
   "metadata": {},
   "outputs": [
    {
     "name": "stderr",
     "output_type": "stream",
     "text": [
      "INFO:cmdstanpy:CmdStan start processing\n"
     ]
    },
    {
     "data": {
      "application/vnd.jupyter.widget-view+json": {
       "model_id": "377af9f168734490a0954ea1c7c1972d",
       "version_major": 2,
       "version_minor": 0
      },
      "text/plain": [
       "chain 1 |          | 00:00 Status"
      ]
     },
     "metadata": {},
     "output_type": "display_data"
    },
    {
     "data": {
      "application/vnd.jupyter.widget-view+json": {
       "model_id": "b183c7fb34fd4b36a35db76e8255b52f",
       "version_major": 2,
       "version_minor": 0
      },
      "text/plain": [
       "chain 2 |          | 00:00 Status"
      ]
     },
     "metadata": {},
     "output_type": "display_data"
    },
    {
     "data": {
      "application/vnd.jupyter.widget-view+json": {
       "model_id": "2e07eaf79d9f4806a33d849b2077bdb6",
       "version_major": 2,
       "version_minor": 0
      },
      "text/plain": [
       "chain 3 |          | 00:00 Status"
      ]
     },
     "metadata": {},
     "output_type": "display_data"
    },
    {
     "data": {
      "application/vnd.jupyter.widget-view+json": {
       "model_id": "49fe44585c314bf981029d0820bb7ce5",
       "version_major": 2,
       "version_minor": 0
      },
      "text/plain": [
       "chain 4 |          | 00:00 Status"
      ]
     },
     "metadata": {},
     "output_type": "display_data"
    },
    {
     "name": "stdout",
     "output_type": "stream",
     "text": [
      "                                                                                                                                                                                                                                                                                                                                "
     ]
    },
    {
     "name": "stderr",
     "output_type": "stream",
     "text": [
      "INFO:cmdstanpy:CmdStan done processing.\n"
     ]
    },
    {
     "name": "stdout",
     "output_type": "stream",
     "text": [
      "\n"
     ]
    }
   ],
   "source": [
    "fit = simple_gamma_model.sample(data=data, iter_sampling=10000)"
   ]
  },
  {
   "cell_type": "code",
   "execution_count": 135,
   "id": "69b12747",
   "metadata": {},
   "outputs": [
    {
     "data": {
      "image/png": "[encoded data removed]",
      "text/plain": [
       "<Figure size 432x288 with 1 Axes>"
      ]
     },
     "metadata": {
      "needs_background": "light"
     },
     "output_type": "display_data"
    }
   ],
   "source": [
    "ax = az.plot_posterior(fit)\n",
    "ax.hist(true_x, bins=50, density=True, alpha=0.3)\n",
    "plt.show()"
   ]
  },
  {
   "cell_type": "code",
   "execution_count": 136,
   "id": "06fe6e19",
   "metadata": {},
   "outputs": [
    {
     "data": {
      "text/plain": [
       "array([[<AxesSubplot:title={'center':'x'}>,\n",
       "        <AxesSubplot:title={'center':'x'}>]], dtype=object)"
      ]
     },
     "execution_count": 136,
     "metadata": {},
     "output_type": "execute_result"
    },
    {
     "data": {
      "image/png": "[encoded data removed]",
      "text/plain": [
       "<Figure size 864x144 with 2 Axes>"
      ]
     },
     "metadata": {
      "needs_background": "light"
     },
     "output_type": "display_data"
    }
   ],
   "source": [
    "az.plot_trace(fit)"
   ]
  },
  {
   "cell_type": "code",
   "execution_count": null,
   "id": "af2a5266",
   "metadata": {},
   "outputs": [],
   "source": []
  }
 ],
 "metadata": {
  "kernelspec": {
   "display_name": "ProjectBeta",
   "language": "python",
   "name": "projectbeta"
  },
  "language_info": {
   "codemirror_mode": {
    "name": "ipython",
    "version": 3
   },
   "file_extension": ".py",
   "mimetype": "text/x-python",
   "name": "python",
   "nbconvert_exporter": "python",
   "pygments_lexer": "ipython3",
   "version": "3.10.4"
  }
 },
 "nbformat": 4,
 "nbformat_minor": 5
}
