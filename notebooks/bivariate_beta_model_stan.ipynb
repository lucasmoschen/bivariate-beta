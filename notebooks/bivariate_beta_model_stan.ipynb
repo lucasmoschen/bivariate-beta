{
 "cells": [
  {
   "cell_type": "markdown",
   "metadata": {},
   "source": [
    "# Bayesian parameter estimation of the bivariate beta distribution"
   ]
  },
  {
   "cell_type": "code",
   "execution_count": 1,
   "metadata": {},
   "outputs": [],
   "source": [
    "import nest_asyncio\n",
    "nest_asyncio.apply()\n",
    "\n",
    "import numpy as np\n",
    "#from cmdstanpy import cmdstan_path, CmdStanModel\n",
    "import stan\n",
    "import matplotlib.pyplot as plt\n",
    "import os\n",
    "import tqdm\n",
    "\n",
    "import sys\n",
    "sys.path.append('../scripts')\n",
    "\n",
    "from parameter_estimation import BivariateBeta"
   ]
  },
  {
   "cell_type": "markdown",
   "metadata": {},
   "source": [
    "First, let's analyze the `integrate_1d` function from Stan"
   ]
  },
  {
   "cell_type": "code",
   "execution_count": 9,
   "metadata": {},
   "outputs": [],
   "source": [
    "alpha = np.random.gamma(1,1,size=4)\n",
    "n = 1000\n",
    "XY = np.random.random(size=(n,2))\n",
    "\n",
    "data = {'n': n, 'xy': XY, 'tolerance': 1e-10, 'alpha': alpha}"
   ]
  },
  {
   "cell_type": "code",
   "execution_count": 3,
   "metadata": {},
   "outputs": [
    {
     "name": "stderr",
     "output_type": "stream",
     "text": [
      "\u001b[32mBuilding:\u001b[0m found in cache, done.\n",
      "\u001b[36mMessages from \u001b[0m\u001b[36;1mstanc\u001b[0m\u001b[36m:\u001b[0m\n",
      "Warning in '/tmp/httpstan_j22sbpao/model_edxvebxa.stan', line 11, column 31: The\n",
      "    variable integrand may not have been assigned a value before its use.\n"
     ]
    }
   ],
   "source": [
    "filename = '../scripts/bivariate-beta-density.stan'\n",
    "with open(filename) as f:\n",
    "    model = f.read()\n",
    "\n",
    "bivbeta_density = stan.build(model, data)"
   ]
  },
  {
   "cell_type": "code",
   "execution_count": 4,
   "metadata": {},
   "outputs": [
    {
     "name": "stderr",
     "output_type": "stream",
     "text": [
      "\u001b[36mSampling:\u001b[0m   0%\n",
      "\u001b[1A\u001b[0J\u001b[36mSampling:\u001b[0m 100% (1/1)\n",
      "\u001b[1A\u001b[0J\u001b[32mSampling:\u001b[0m 100% (1/1), done.\n",
      "\u001b[36mMessages received during sampling:\u001b[0m\n",
      "  Exception: Exception: Error in function tanh_sinh<double>::integrate: The tanh_sinh quadrature evaluated your function at a singular point and got inf. Please narrow the bounds of integration or check your function for singularities. (in '/tmp/httpstan_b1u1lh1i/model_edxvebxa.stan', line 11, column 7 to column 102) (in '/tmp/httpstan_b1u1lh1i/model_edxvebxa.stan', line 32, column 8 to column 90)\n"
     ]
    }
   ],
   "source": [
    "quantities_stan = bivbeta_density.fixed_param(num_chains=1, num_samples=1)\n",
    "quantities_stan = quantities_stan['density']"
   ]
  },
  {
   "cell_type": "code",
   "execution_count": 15,
   "metadata": {},
   "outputs": [
    {
     "name": "stderr",
     "output_type": "stream",
     "text": [
      "/home/lucasmoschen/Documents/GitHub/bivariate-beta/notebooks/../scripts/parameter_estimation.py:84: IntegrationWarning: The algorithm does not converge.  Roundoff error is detected\n",
      "  in the extrapolation table.  It is assumed that the requested tolerance\n",
      "  cannot be achieved, and that the returned result (if full_output = 1) is \n",
      "  the best which can be obtained.\n",
      "  result = quad(self._log_integral_pdf, lb, ub, args = ((x, y, self.alpha),), epsabs=1e-10, limit=50)[0]\n",
      "/home/lucasmoschen/Documents/GitHub/bivariate-beta/notebooks/../scripts/parameter_estimation.py:83: IntegrationWarning: The algorithm does not converge.  Roundoff error is detected\n",
      "  in the extrapolation table.  It is assumed that the requested tolerance\n",
      "  cannot be achieved, and that the returned result (if full_output = 1) is \n",
      "  the best which can be obtained.\n",
      "  result2 = quad(self._integral_pdf, lb, ub, args = (x, y, self.alpha), epsabs=1e-10, limit=50)[0]\n",
      "/home/lucasmoschen/Documents/GitHub/bivariate-beta/notebooks/../scripts/parameter_estimation.py:83: IntegrationWarning: The maximum number of subdivisions (50) has been achieved.\n",
      "  If increasing the limit yields no improvement it is advised to analyze \n",
      "  the integrand in order to determine the difficulties.  If the position of a \n",
      "  local difficulty can be determined (singularity, discontinuity) one will \n",
      "  probably gain from splitting up the interval and calling the integrator \n",
      "  on the subranges.  Perhaps a special-purpose integrator should be used.\n",
      "  result2 = quad(self._integral_pdf, lb, ub, args = (x, y, self.alpha), epsabs=1e-10, limit=50)[0]\n",
      "/home/lucasmoschen/Documents/GitHub/bivariate-beta/notebooks/../scripts/parameter_estimation.py:84: IntegrationWarning: The maximum number of subdivisions (50) has been achieved.\n",
      "  If increasing the limit yields no improvement it is advised to analyze \n",
      "  the integrand in order to determine the difficulties.  If the position of a \n",
      "  local difficulty can be determined (singularity, discontinuity) one will \n",
      "  probably gain from splitting up the interval and calling the integrator \n",
      "  on the subranges.  Perhaps a special-purpose integrator should be used.\n",
      "  result = quad(self._log_integral_pdf, lb, ub, args = ((x, y, self.alpha),), epsabs=1e-10, limit=50)[0]\n"
     ]
    }
   ],
   "source": [
    "biv_beta_object = BivariateBeta(alpha=alpha)\n",
    "quantities_scipy = np.array([np.log(biv_beta_object.pdf(XY[i,0], XY[i,1])) for i in range(n)]).reshape(-1,2)"
   ]
  },
  {
   "cell_type": "code",
   "execution_count": 19,
   "metadata": {},
   "outputs": [
    {
     "data": {
      "text/plain": [
       "0.0008469311749701447"
      ]
     },
     "execution_count": 19,
     "metadata": {},
     "output_type": "execute_result"
    }
   ],
   "source": [
    "max(abs(quantities_scipy[:,0]-quantities_scipy[:,1]))"
   ]
  },
  {
   "cell_type": "code",
   "execution_count": 108,
   "metadata": {},
   "outputs": [
    {
     "name": "stdout",
     "output_type": "stream",
     "text": [
      "max_value = [4.76753986]\n",
      "(x,y) = [1.15400206e-04 4.76916404e-01]\n",
      "integral=4.767539856106468\n"
     ]
    }
   ],
   "source": [
    "id_max = np.argmax(abs(quantities_stan-quantities_scipy))\n",
    "print('max_value = {}'.format(max(abs(quantities_stan-quantities_scipy))))\n",
    "print('(x,y) = {}'.format(XY[id_max]))\n",
    "print('integral={}'.format(np.log(biv_beta_object.pdf(XY[id_max,0], XY[id_max,1]))))"
   ]
  },
  {
   "cell_type": "markdown",
   "metadata": {},
   "source": [
    "Getting the Stan model."
   ]
  },
  {
   "cell_type": "code",
   "execution_count": 2,
   "metadata": {},
   "outputs": [],
   "source": [
    "filename = '../scripts/bivariate-beta-model.stan'"
   ]
  },
  {
   "cell_type": "raw",
   "metadata": {},
   "source": [
    "filename = '../scripts/bivariate-beta-model.stan'\n",
    "bivbeta_model = CmdStanModel(stan_file=filename)"
   ]
  },
  {
   "cell_type": "markdown",
   "metadata": {},
   "source": [
    "Generating data."
   ]
  },
  {
   "cell_type": "code",
   "execution_count": 23,
   "metadata": {},
   "outputs": [],
   "source": [
    "alpha = np.array([1,1,1,1])\n",
    "n = 1\n",
    "U = np.random.dirichlet(alpha, size=n)\n",
    "X = U[:,0] + U[:,1]\n",
    "Y = U[:,0] + U[:,2]\n",
    "XY = np.column_stack([X,Y])\n",
    "\n",
    "a = np.array([1,1,1,1])\n",
    "b = np.array([1,1,1,1])\n",
    "\n",
    "data = {'n': n, 'xy': XY, 'a': a, 'b': b, 'tolerance': 1e-8}"
   ]
  },
  {
   "cell_type": "raw",
   "metadata": {},
   "source": [
    "with open(filename) as f:\n",
    "    model = f.read()\n",
    "\n",
    "bivbeta_model = stan.build(model, data)"
   ]
  },
  {
   "cell_type": "markdown",
   "metadata": {},
   "source": [
    "Sampling"
   ]
  },
  {
   "cell_type": "code",
   "execution_count": 25,
   "metadata": {},
   "outputs": [
    {
     "name": "stderr",
     "output_type": "stream",
     "text": [
      "\u001b[36mSampling:\u001b[0m   0%\n",
      "\u001b[1A\u001b[0J\u001b[36mSampling:\u001b[0m   0% (1/8000)\n",
      "\u001b[1A\u001b[0J\u001b[36mSampling:\u001b[0m   0% (2/8000)\n",
      "\u001b[1A\u001b[0J\u001b[36mSampling:\u001b[0m   0% (3/8000)\n",
      "\u001b[1A\u001b[0J\u001b[36mSampling:\u001b[0m   0% (4/8000)\n",
      "\u001b[1A\u001b[0J\u001b[36mSampling:\u001b[0m   1% (103/8000)\n",
      "\u001b[1A\u001b[0J\u001b[36mSampling:\u001b[0m   3% (202/8000)\n",
      "\u001b[1A\u001b[0J\u001b[36mSampling:\u001b[0m   4% (301/8000)\n",
      "\u001b[1A\u001b[0J\u001b[36mSampling:\u001b[0m   5% (400/8000)\n",
      "\u001b[1A\u001b[0J\u001b[36mSampling:\u001b[0m   6% (500/8000)\n",
      "\u001b[1A\u001b[0J\u001b[36mSampling:\u001b[0m   8% (600/8000)\n",
      "\u001b[1A\u001b[0J\u001b[36mSampling:\u001b[0m   9% (700/8000)\n",
      "\u001b[1A\u001b[0J\u001b[36mSampling:\u001b[0m  10% (800/8000)\n",
      "\u001b[1A\u001b[0J\u001b[36mSampling:\u001b[0m  11% (900/8000)\n",
      "\u001b[1A\u001b[0J\u001b[36mSampling:\u001b[0m  12% (1000/8000)\n",
      "\u001b[1A\u001b[0J\u001b[36mSampling:\u001b[0m  14% (1100/8000)\n",
      "\u001b[1A\u001b[0J\u001b[36mSampling:\u001b[0m  15% (1200/8000)\n",
      "\u001b[1A\u001b[0J\u001b[36mSampling:\u001b[0m  16% (1300/8000)\n",
      "\u001b[1A\u001b[0J\u001b[36mSampling:\u001b[0m  18% (1400/8000)\n",
      "\u001b[1A\u001b[0J\u001b[36mSampling:\u001b[0m  19% (1500/8000)\n",
      "\u001b[1A\u001b[0J\u001b[36mSampling:\u001b[0m  20% (1600/8000)\n",
      "\u001b[1A\u001b[0J\u001b[36mSampling:\u001b[0m  21% (1700/8000)\n",
      "\u001b[1A\u001b[0J\u001b[36mSampling:\u001b[0m  22% (1800/8000)\n",
      "\u001b[1A\u001b[0J\u001b[36mSampling:\u001b[0m  24% (1900/8000)\n",
      "\u001b[1A\u001b[0J\u001b[36mSampling:\u001b[0m  25% (2000/8000)\n",
      "\u001b[1A\u001b[0J\u001b[36mSampling:\u001b[0m  26% (2100/8000)\n",
      "\u001b[1A\u001b[0J\u001b[36mSampling:\u001b[0m  28% (2200/8000)\n",
      "\u001b[1A\u001b[0J\u001b[36mSampling:\u001b[0m  29% (2300/8000)\n",
      "\u001b[1A\u001b[0J\u001b[36mSampling:\u001b[0m  30% (2400/8000)\n",
      "\u001b[1A\u001b[0J\u001b[36mSampling:\u001b[0m  31% (2500/8000)\n",
      "\u001b[1A\u001b[0J\u001b[36mSampling:\u001b[0m  32% (2600/8000)\n",
      "\u001b[1A\u001b[0J\u001b[36mSampling:\u001b[0m  34% (2700/8000)\n",
      "\u001b[1A\u001b[0J\u001b[36mSampling:\u001b[0m  35% (2800/8000)\n",
      "\u001b[1A\u001b[0J\u001b[36mSampling:\u001b[0m  36% (2900/8000)\n",
      "\u001b[1A\u001b[0J\u001b[36mSampling:\u001b[0m  38% (3000/8000)\n",
      "\u001b[1A\u001b[0J\u001b[36mSampling:\u001b[0m  39% (3100/8000)\n",
      "\u001b[1A\u001b[0J\u001b[36mSampling:\u001b[0m  40% (3200/8000)\n",
      "\u001b[1A\u001b[0J\u001b[36mSampling:\u001b[0m  41% (3300/8000)\n",
      "\u001b[1A\u001b[0J\u001b[36mSampling:\u001b[0m  42% (3400/8000)\n",
      "\u001b[1A\u001b[0J\u001b[36mSampling:\u001b[0m  44% (3500/8000)\n",
      "\u001b[1A\u001b[0J\u001b[36mSampling:\u001b[0m  45% (3600/8000)\n",
      "\u001b[1A\u001b[0J\u001b[36mSampling:\u001b[0m  46% (3701/8000)\n",
      "\u001b[1A\u001b[0J\u001b[36mSampling:\u001b[0m  48% (3802/8000)\n",
      "\u001b[1A\u001b[0J\u001b[36mSampling:\u001b[0m  49% (3903/8000)\n",
      "\u001b[1A\u001b[0J\u001b[36mSampling:\u001b[0m  50% (4002/8000)\n",
      "\u001b[1A\u001b[0J\u001b[36mSampling:\u001b[0m  51% (4103/8000)\n",
      "\u001b[1A\u001b[0J\u001b[36mSampling:\u001b[0m  53% (4202/8000)\n",
      "\u001b[1A\u001b[0J\u001b[36mSampling:\u001b[0m  55% (4401/8000)\n",
      "\u001b[1A\u001b[0J\u001b[36mSampling:\u001b[0m  56% (4501/8000)\n",
      "\u001b[1A\u001b[0J\u001b[36mSampling:\u001b[0m  58% (4600/8000)\n",
      "\u001b[1A\u001b[0J\u001b[36mSampling:\u001b[0m  60% (4800/8000)\n",
      "\u001b[1A\u001b[0J\u001b[36mSampling:\u001b[0m  61% (4900/8000)\n",
      "\u001b[1A\u001b[0J\u001b[36mSampling:\u001b[0m  62% (5000/8000)\n",
      "\u001b[1A\u001b[0J\u001b[36mSampling:\u001b[0m  64% (5100/8000)\n",
      "\u001b[1A\u001b[0J\u001b[36mSampling:\u001b[0m  65% (5200/8000)\n",
      "\u001b[1A\u001b[0J\u001b[36mSampling:\u001b[0m  66% (5300/8000)\n",
      "\u001b[1A\u001b[0J\u001b[36mSampling:\u001b[0m  69% (5500/8000)\n",
      "\u001b[1A\u001b[0J\u001b[36mSampling:\u001b[0m  71% (5700/8000)\n",
      "\u001b[1A\u001b[0J\u001b[36mSampling:\u001b[0m  72% (5800/8000)\n",
      "\u001b[1A\u001b[0J\u001b[36mSampling:\u001b[0m  74% (5900/8000)\n",
      "\u001b[1A\u001b[0J\u001b[36mSampling:\u001b[0m  75% (6000/8000)\n",
      "\u001b[1A\u001b[0J\u001b[36mSampling:\u001b[0m  76% (6100/8000)\n",
      "\u001b[1A\u001b[0J\u001b[36mSampling:\u001b[0m  78% (6200/8000)\n",
      "\u001b[1A\u001b[0J\u001b[36mSampling:\u001b[0m  80% (6400/8000)\n",
      "\u001b[1A\u001b[0J\u001b[36mSampling:\u001b[0m  81% (6500/8000)\n",
      "\u001b[1A\u001b[0J\u001b[36mSampling:\u001b[0m  84% (6700/8000)\n",
      "\u001b[1A\u001b[0J\u001b[36mSampling:\u001b[0m  85% (6800/8000)\n",
      "\u001b[1A\u001b[0J\u001b[36mSampling:\u001b[0m  86% (6900/8000)\n",
      "\u001b[1A\u001b[0J\u001b[36mSampling:\u001b[0m  88% (7000/8000)\n",
      "\u001b[1A\u001b[0J\u001b[36mSampling:\u001b[0m  89% (7100/8000)\n",
      "\u001b[1A\u001b[0J\u001b[36mSampling:\u001b[0m  90% (7200/8000)\n",
      "\u001b[1A\u001b[0J\u001b[36mSampling:\u001b[0m  91% (7300/8000)\n",
      "\u001b[1A\u001b[0J\u001b[36mSampling:\u001b[0m  92% (7400/8000)\n",
      "\u001b[1A\u001b[0J\u001b[36mSampling:\u001b[0m  94% (7500/8000)\n",
      "\u001b[1A\u001b[0J\u001b[36mSampling:\u001b[0m  95% (7600/8000)\n",
      "\u001b[1A\u001b[0J\u001b[36mSampling:\u001b[0m  98% (7800/8000)\n",
      "\u001b[1A\u001b[0J\u001b[36mSampling:\u001b[0m  99% (7900/8000)\n",
      "\u001b[1A\u001b[0J\u001b[36mSampling:\u001b[0m 100% (8000/8000)\n",
      "\u001b[1A\u001b[0J\u001b[32mSampling:\u001b[0m 100% (8000/8000), done.\n",
      "\u001b[36mMessages received during sampling:\u001b[0m\n",
      "  Gradient evaluation took 0.001247 seconds\n",
      "  1000 transitions using 10 leapfrog steps per transition would take 12.47 seconds.\n",
      "  Adjust your expectations accordingly!\n",
      "  Gradient evaluation took 0.006461 seconds\n",
      "  1000 transitions using 10 leapfrog steps per transition would take 64.61 seconds.\n",
      "  Adjust your expectations accordingly!\n",
      "  Gradient evaluation took 0.005384 seconds\n",
      "  1000 transitions using 10 leapfrog steps per transition would take 53.84 seconds.\n",
      "  Adjust your expectations accordingly!\n",
      "  Gradient evaluation took 0.005463 seconds\n",
      "  1000 transitions using 10 leapfrog steps per transition would take 54.63 seconds.\n",
      "  Adjust your expectations accordingly!\n"
     ]
    }
   ],
   "source": [
    "model_fit = bivbeta_model.sample(num_chains=4, num_samples=1000)"
   ]
  },
  {
   "cell_type": "code",
   "execution_count": 27,
   "metadata": {},
   "outputs": [
    {
     "data": {
      "text/plain": [
       "array([0.23757785, 0.23674657, 0.15590381, 0.15995233])"
      ]
     },
     "execution_count": 27,
     "metadata": {},
     "output_type": "execute_result"
    }
   ],
   "source": [
    "np.quantile(model_fit['alpha'], axis=1, q=0.1)"
   ]
  },
  {
   "cell_type": "code",
   "execution_count": null,
   "metadata": {},
   "outputs": [],
   "source": []
  }
 ],
 "metadata": {
  "interpreter": {
   "hash": "63638139854e329365b4222387bbd31424a6edfb77acb40ed96a5a7629ade7cc"
  },
  "kernelspec": {
   "display_name": "bivBeta",
   "language": "python",
   "name": "bivbeta"
  },
  "language_info": {
   "codemirror_mode": {
    "name": "ipython",
    "version": 3
   },
   "file_extension": ".py",
   "mimetype": "text/x-python",
   "name": "python",
   "nbconvert_exporter": "python",
   "pygments_lexer": "ipython3",
   "version": "3.9.7"
  }
 },
 "nbformat": 4,
 "nbformat_minor": 4
}
