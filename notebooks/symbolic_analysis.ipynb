{
 "cells": [
  {
   "cell_type": "code",
   "execution_count": 1,
   "id": "052d0306-4a1a-4b03-8dfa-cb60f676770d",
   "metadata": {},
   "outputs": [],
   "source": [
    "import sympy as sp\n",
    "import numpy as np\n",
    "import matplotlib.pyplot as plt"
   ]
  },
  {
   "cell_type": "code",
   "execution_count": 3,
   "id": "c91644fb-21da-43c0-b120-57f0f32b570e",
   "metadata": {},
   "outputs": [],
   "source": [
    "m1, m2, v1, v2, rho = sp.symbols('m1 m2 v1 v2 rho')"
   ]
  },
  {
   "cell_type": "markdown",
   "id": "d66dba06-8ceb-41ae-b04d-ce259f10c4b7",
   "metadata": {},
   "source": [
    "Proposition 1"
   ]
  },
  {
   "cell_type": "code",
   "execution_count": 11,
   "id": "e55a64d2-9f1b-4e7b-86fa-b4ba8501a1ac",
   "metadata": {},
   "outputs": [],
   "source": [
    "alpha_tilde = (m1 - m1*m1 - v1)/v1\n",
    "alpha4 = alpha_tilde*(rho * sp.sqrt(m1*m2*(1-m1)*(1-m2)) + (1-m1)*(1-m2))\n",
    "alpha1 = (m1 + m2 - 1)*alpha_tilde + alpha4 \n",
    "alpha2 = (1 - m2)*alpha_tilde - alpha4\n",
    "alpha3 = (1 - m1)*alpha_tilde - alpha4\n",
    "alpha_sum = alpha1+alpha2+alpha3+alpha4"
   ]
  },
  {
   "cell_type": "code",
   "execution_count": 12,
   "id": "f2c43923-57f9-44e8-ab28-f86f387479c0",
   "metadata": {},
   "outputs": [
    {
     "data": {
      "text/latex": [
       "$\\displaystyle m_{1}$"
      ],
      "text/plain": [
       "m1"
      ]
     },
     "execution_count": 12,
     "metadata": {},
     "output_type": "execute_result"
    }
   ],
   "source": [
    "exp = (alpha1 + alpha2)/alpha_sum\n",
    "sp.simplify(exp)"
   ]
  },
  {
   "cell_type": "code",
   "execution_count": 13,
   "id": "5cecb1cf-f10c-41de-bd90-d37151ca5531",
   "metadata": {},
   "outputs": [
    {
     "data": {
      "text/latex": [
       "$\\displaystyle m_{2}$"
      ],
      "text/plain": [
       "m2"
      ]
     },
     "execution_count": 13,
     "metadata": {},
     "output_type": "execute_result"
    }
   ],
   "source": [
    "exp = (alpha1 + alpha3)/alpha_sum\n",
    "sp.simplify(exp)"
   ]
  },
  {
   "cell_type": "code",
   "execution_count": 15,
   "id": "85c90369-2b55-46fe-b7de-9ae5e185055a",
   "metadata": {},
   "outputs": [
    {
     "data": {
      "text/latex": [
       "$\\displaystyle v_{1}$"
      ],
      "text/plain": [
       "v1"
      ]
     },
     "execution_count": 15,
     "metadata": {},
     "output_type": "execute_result"
    }
   ],
   "source": [
    "exp = (alpha1 + alpha2)*(alpha3+alpha4)/(alpha_sum**2*(alpha_sum+1))\n",
    "sp.simplify(exp)"
   ]
  },
  {
   "cell_type": "code",
   "execution_count": 20,
   "id": "f5f1d1be-335b-480c-bd75-2cb0f64f9cd7",
   "metadata": {},
   "outputs": [
    {
     "data": {
      "text/latex": [
       "$\\displaystyle \\rho^{2}$"
      ],
      "text/plain": [
       "rho**2"
      ]
     },
     "execution_count": 20,
     "metadata": {},
     "output_type": "execute_result"
    }
   ],
   "source": [
    "exp = (alpha1*alpha4 - alpha2*alpha3)**2/((alpha1+alpha2)*(alpha3+alpha4)*(alpha1+alpha3)*(alpha2+alpha4))\n",
    "sp.simplify(exp)"
   ]
  },
  {
   "cell_type": "markdown",
   "id": "1e18214d-0e78-4204-9048-bdb8f98250b3",
   "metadata": {},
   "source": [
    "Method of solution 2"
   ]
  },
  {
   "cell_type": "code",
   "execution_count": 67,
   "id": "febc6a07-7239-4dc1-b361-04f4f7e65898",
   "metadata": {},
   "outputs": [
    {
     "data": {
      "text/plain": [
       "0"
      ]
     },
     "execution_count": 67,
     "metadata": {},
     "output_type": "execute_result"
    }
   ],
   "source": [
    "m1 = np.random.uniform(size=100000)\n",
    "m2 = np.random.uniform(size=100000)\n",
    "\n",
    "sq = np.sqrt(m1*m2*(1-m1)*(1-m2))\n",
    "lb = -np.minimum(m1*m2, (1-m1)*(1-m2))/sq\n",
    "ub = (np.minimum(m1, m2) - m1*m2)/sq\n",
    "\n",
    "rho = np.random.uniform(lb, ub)\n",
    "rho = np.random.uniform(ub, 1)\n",
    "\n",
    "I = rho*sq\n",
    "alpha1 = (m1*m2 + I)/((1-m1)*(1-m2) + I)\n",
    "alpha2 = (m1*(1-m2) - I)/((1-m1)*(1-m2) + I)\n",
    "alpha3 = (m2*(1-m1) - I)/((1-m1)*(1-m2) + I)\n",
    "\n",
    "ind = (alpha1 > 0)*(alpha2 > 0)*(alpha3 > 0)\n",
    "ind.sum()"
   ]
  },
  {
   "cell_type": "code",
   "execution_count": 6,
   "id": "011dee2b-c2d8-4a47-8e16-4eb9fcff134c",
   "metadata": {},
   "outputs": [],
   "source": [
    "a, b, c, alpha4 = sp.symbols('a b c alpha4')\n",
    "alpha1 = a + b - c + alpha4 \n",
    "alpha2 = c - b - alpha4\n",
    "alpha3 = c - a - alpha4\n",
    "rho_squared = (alpha1*alpha4 - alpha2*alpha3)**2/(a*b*(c-a)*(c-b))\n",
    "exp = alpha1*alpha4 - alpha2*alpha3"
   ]
  },
  {
   "cell_type": "code",
   "execution_count": 7,
   "id": "c889f63e-b702-4ee2-b28b-6c2f423af38a",
   "metadata": {},
   "outputs": [
    {
     "data": {
      "text/latex": [
       "$\\displaystyle - a b + a c + \\alpha_{4} c + b c - c^{2}$"
      ],
      "text/plain": [
       "-a*b + a*c + alpha4*c + b*c - c**2"
      ]
     },
     "execution_count": 7,
     "metadata": {},
     "output_type": "execute_result"
    }
   ],
   "source": [
    "sp.simplify(exp)"
   ]
  },
  {
   "cell_type": "markdown",
   "id": "4048bd5b",
   "metadata": {},
   "source": [
    "Method of moments 3"
   ]
  },
  {
   "cell_type": "code",
   "execution_count": 4,
   "id": "65d9131f",
   "metadata": {},
   "outputs": [
    {
     "name": "stdout",
     "output_type": "stream",
     "text": [
      "(-alpha3 - alpha4)/(m1 - 1)\n"
     ]
    },
    {
     "data": {
      "text/latex": [
       "$\\displaystyle \\frac{- \\alpha_{3} m_{1} m_{2} + \\alpha_{3} m_{1} + \\alpha_{3} m_{2} - \\alpha_{3} - \\alpha_{4} m_{1} m_{2} + \\alpha_{4} m_{2}}{\\sqrt{m_{1} m_{2} \\left(m_{1} m_{2} - m_{1} - m_{2} + 1\\right)} \\left(\\alpha_{3} + \\alpha_{4}\\right)}$"
      ],
      "text/plain": [
       "(-alpha3*m1*m2 + alpha3*m1 + alpha3*m2 - alpha3 - alpha4*m1*m2 + alpha4*m2)/(sqrt(m1*m2*(m1*m2 - m1 - m2 + 1))*(alpha3 + alpha4))"
      ]
     },
     "execution_count": 4,
     "metadata": {},
     "output_type": "execute_result"
    }
   ],
   "source": [
    "alpha3, alpha4 = sp.symbols('alpha3 alpha4')\n",
    "\n",
    "alpha1 = (m1+m2-1)/(1-m1) * alpha3 + m2/(1-m1) * alpha4\n",
    "alpha2 = (1-m2)/(1-m1) * alpha3 + (m1-m2)/(1-m1) * alpha4\n",
    "\n",
    "s = sp.simplify(alpha1 + alpha2 + alpha3 + alpha4)\n",
    "\n",
    "print(s)\n",
    "\n",
    "rho = sp.simplify((alpha1*alpha4 - alpha2*alpha3)/(s*s*sp.sqrt(m1*m2*(1-m1)*(1-m2))))\n",
    "rho"
   ]
  },
  {
   "cell_type": "code",
   "execution_count": 17,
   "id": "62311b5c",
   "metadata": {},
   "outputs": [],
   "source": [
    "l1, l2, l3, l4, E1, E2, E = sp.symbols('lambda_1 lambda_2 lambda_3 lambda_4 E1 E2 E')\n",
    "alpha3, alpha4 = sp.symbols('alpha_3 alpha_4')\n",
    "\n",
    "#E = m2*(1-m1) - rho*sp.sqrt(m1*m2*(1-m1)*(1-m2))\n",
    "s = (alpha3 + alpha4)/(1-m1)\n",
    "obj = (s - E1)**2 + (s - E2)**2 + (E*s - alpha3)**2\n",
    "g1 = - ((m1 + m2 - 1)*alpha3 + m2*alpha4)\n",
    "g2 = -((1-m2)*alpha3 + (m1-m2)*alpha4)\n",
    "g3 = -alpha3\n",
    "g4 = -alpha4\n",
    "\n",
    "lagrangian = sp.simplify(obj + l1*g1 + l2*g2 + l3*g3 + l4*g4)"
   ]
  },
  {
   "cell_type": "code",
   "execution_count": 20,
   "id": "b8b60542",
   "metadata": {},
   "outputs": [],
   "source": [
    "# Suppose l1 = l2 = l3 = l4 = 0\n",
    "eq1 = sp.simplify(lagrangian.diff(alpha3)).subs({l1: 0, l2: 0, l3: 0, l4: 0})\n",
    "eq2 = sp.simplify(lagrangian.diff(alpha4)).subs({l1: 0, l2: 0, l3: 0, l4: 0})"
   ]
  },
  {
   "cell_type": "code",
   "execution_count": 21,
   "id": "15895642",
   "metadata": {},
   "outputs": [
    {
     "data": {
      "text/plain": [
       "{alpha_3: E*E1/2 + E*E2/2,\n",
       " alpha_4: -E*E1/2 - E*E2/2 - E1*m1/2 + E1/2 - E2*m1/2 + E2/2}"
      ]
     },
     "execution_count": 21,
     "metadata": {},
     "output_type": "execute_result"
    }
   ],
   "source": [
    "sp.solve([eq1, eq2], [alpha3, alpha4])"
   ]
  },
  {
   "cell_type": "code",
   "execution_count": 22,
   "id": "f2995d87-df41-4a0d-84c9-fb564306d416",
   "metadata": {},
   "outputs": [],
   "source": [
    "# Suppose l3 \\neq 0 e l4 \\neq 0 \\implies alpha3 = alpha4 = 0\n",
    "\n",
    "eq1 = sp.simplify(lagrangian.diff(alpha3)).subs({alpha3: 0, alpha4: 0})\n",
    "eq2 = sp.simplify(lagrangian.diff(alpha4)).subs({alpha3: 0, alpha4: 0})"
   ]
  },
  {
   "cell_type": "code",
   "execution_count": 29,
   "id": "27fe7570-f7a1-4394-98dc-f6d5a0945825",
   "metadata": {},
   "outputs": [
    {
     "data": {
      "text/plain": [
       "{lambda_1: lambda_3*(-m1 + m2)/(m1**2 - m1) + lambda_4*(1 - m2)/(m1**2 - m1) + (2*E1 + 2*E2)/(m1**2 - m1),\n",
       " lambda_2: lambda_3*m2/(m1**2 - m1) + lambda_4*(-m1 - m2 + 1)/(m1**2 - m1) + (2*E1 + 2*E2)/(m1**2 - m1)}"
      ]
     },
     "execution_count": 29,
     "metadata": {},
     "output_type": "execute_result"
    }
   ],
   "source": [
    "sp.solve([eq1, eq2], [l1, l2, l3, l4])"
   ]
  },
  {
   "cell_type": "markdown",
   "id": "2746b1e4-e8cb-40d4-9597-a4db131bf023",
   "metadata": {},
   "source": [
    "## Jeffrey prior"
   ]
  },
  {
   "cell_type": "code",
   "execution_count": 2,
   "id": "d36715d0-9d95-41e8-860e-247b46c52aba",
   "metadata": {},
   "outputs": [],
   "source": [
    "alpha1, alpha2, alpha3, alpha4, u, x, y = sp.symbols('alpha_1 alpha_2 alpha_3 alpha4 u x y')\n",
    "\n",
    "f = (x-u)**(alpha2-1) * (y-u)**(alpha3-1) * (1-x-y+u)**(alpha4-1) / (1-u)**(alpha2+alpha3+alpha4-1)\n",
    "f /= sp.gamma(alpha2)*sp.gamma(alpha3)*sp.gamma(alpha4)/sp.gamma(alpha2+alpha3+alpha4)\n",
    "l = sp.expand_log(sp.log(f), force=True)"
   ]
  },
  {
   "cell_type": "code",
   "execution_count": 3,
   "id": "3bda45e6-e159-45c3-8e17-08c7dc49d31e",
   "metadata": {},
   "outputs": [
    {
     "data": {
      "text/latex": [
       "$\\displaystyle \\left[\\begin{matrix}- \\operatorname{polygamma}{\\left(1,\\alpha_{2} \\right)} + \\operatorname{polygamma}{\\left(1,\\alpha_{4} + \\alpha_{2} + \\alpha_{3} \\right)} & \\operatorname{polygamma}{\\left(1,\\alpha_{4} + \\alpha_{2} + \\alpha_{3} \\right)} & \\operatorname{polygamma}{\\left(1,\\alpha_{4} + \\alpha_{2} + \\alpha_{3} \\right)} & - \\frac{1}{- u + x} + \\frac{1}{1 - u}\\\\\\operatorname{polygamma}{\\left(1,\\alpha_{4} + \\alpha_{2} + \\alpha_{3} \\right)} & - \\operatorname{polygamma}{\\left(1,\\alpha_{3} \\right)} + \\operatorname{polygamma}{\\left(1,\\alpha_{4} + \\alpha_{2} + \\alpha_{3} \\right)} & \\operatorname{polygamma}{\\left(1,\\alpha_{4} + \\alpha_{2} + \\alpha_{3} \\right)} & - \\frac{1}{- u + y} + \\frac{1}{1 - u}\\\\\\operatorname{polygamma}{\\left(1,\\alpha_{4} + \\alpha_{2} + \\alpha_{3} \\right)} & \\operatorname{polygamma}{\\left(1,\\alpha_{4} + \\alpha_{2} + \\alpha_{3} \\right)} & - \\operatorname{polygamma}{\\left(1,\\alpha_{4} \\right)} + \\operatorname{polygamma}{\\left(1,\\alpha_{4} + \\alpha_{2} + \\alpha_{3} \\right)} & \\frac{1}{u - x - y + 1} + \\frac{1}{1 - u}\\\\- \\frac{1}{- u + x} + \\frac{1}{1 - u} & - \\frac{1}{- u + y} + \\frac{1}{1 - u} & \\frac{1}{u - x - y + 1} + \\frac{1}{1 - u} & - \\frac{\\alpha_{4} - 1}{\\left(u - x - y + 1\\right)^{2}} - \\frac{\\alpha_{2} - 1}{\\left(- u + x\\right)^{2}} - \\frac{\\alpha_{3} - 1}{\\left(- u + y\\right)^{2}} - \\frac{- \\alpha_{4} - \\alpha_{2} - \\alpha_{3} + 1}{\\left(1 - u\\right)^{2}}\\end{matrix}\\right]$"
      ],
      "text/plain": [
       "Matrix([\n",
       "[-polygamma(1, alpha_2) + polygamma(1, alpha4 + alpha_2 + alpha_3),                          polygamma(1, alpha4 + alpha_2 + alpha_3),                         polygamma(1, alpha4 + alpha_2 + alpha_3),                                                                                                                 -1/(-u + x) + 1/(1 - u)],\n",
       "[                         polygamma(1, alpha4 + alpha_2 + alpha_3), -polygamma(1, alpha_3) + polygamma(1, alpha4 + alpha_2 + alpha_3),                         polygamma(1, alpha4 + alpha_2 + alpha_3),                                                                                                                 -1/(-u + y) + 1/(1 - u)],\n",
       "[                         polygamma(1, alpha4 + alpha_2 + alpha_3),                          polygamma(1, alpha4 + alpha_2 + alpha_3), -polygamma(1, alpha4) + polygamma(1, alpha4 + alpha_2 + alpha_3),                                                                                                           1/(u - x - y + 1) + 1/(1 - u)],\n",
       "[                                          -1/(-u + x) + 1/(1 - u),                                           -1/(-u + y) + 1/(1 - u),                                    1/(u - x - y + 1) + 1/(1 - u), -(alpha4 - 1)/(u - x - y + 1)**2 - (alpha_2 - 1)/(-u + x)**2 - (alpha_3 - 1)/(-u + y)**2 - (-alpha4 - alpha_2 - alpha_3 + 1)/(1 - u)**2]])"
      ]
     },
     "execution_count": 3,
     "metadata": {},
     "output_type": "execute_result"
    }
   ],
   "source": [
    "l_2 = sp.diff(l, alpha2)\n",
    "l_3 = sp.diff(l, alpha3)\n",
    "l_4 = sp.diff(l, alpha4)\n",
    "l_u = sp.diff(l, u)\n",
    "\n",
    "M = sp.Matrix([[l_2.diff(alpha2), l_2.diff(alpha3), l_2.diff(alpha4), l_2.diff(u)],\n",
    "               [l_3.diff(alpha2), l_3.diff(alpha3), l_3.diff(alpha4), l_3.diff(u)],\n",
    "               [l_4.diff(alpha2), l_4.diff(alpha3), l_4.diff(alpha4), l_4.diff(u)],\n",
    "               [l_u.diff(alpha2), l_u.diff(alpha3), l_u.diff(alpha4), l_u.diff(u)]])\n",
    "\n",
    "M"
   ]
  },
  {
   "cell_type": "markdown",
   "id": "8a655d28-7921-4098-9776-c75101cdf750",
   "metadata": {},
   "source": [
    "$x-u = u_2 \\sim Beta(\\alpha_2, \\alpha_1+\\alpha_3+\\alpha_4)$\n",
    "\n",
    "$y-u = u_3 \\sim Beta(\\alpha_3, \\alpha_1+\\alpha_2+\\alpha_4)$\n",
    "\n",
    "$1-x-y+u = u_4 \\sim Beta(\\alpha_4, \\alpha_1+\\alpha_2+\\alpha_3)$\n",
    "\n",
    "I notice that if $X \\sim Beta(\\alpha, \\beta)$, then $E[X^{-n}] = B(\\alpha-n, \\beta)/Beta(\\alpha, \\beta)$ if $\\alpha > n$ and infinity otherwise."
   ]
  },
  {
   "cell_type": "code",
   "execution_count": 4,
   "id": "d4ea0798-9c98-453f-a5c1-983285fa8904",
   "metadata": {},
   "outputs": [
    {
     "data": {
      "text/latex": [
       "$\\displaystyle \\left[\\begin{matrix}- \\operatorname{polygamma}{\\left(1,\\alpha_{2} \\right)} + \\operatorname{polygamma}{\\left(1,\\alpha_{4} + \\alpha_{2} + \\alpha_{3} \\right)} & \\operatorname{polygamma}{\\left(1,\\alpha_{4} + \\alpha_{2} + \\alpha_{3} \\right)} & \\operatorname{polygamma}{\\left(1,\\alpha_{4} + \\alpha_{2} + \\alpha_{3} \\right)} & - \\frac{\\operatorname{B}\\left(\\alpha_{2} - 1, \\alpha_{4} + \\alpha_{1} + \\alpha_{3}\\right)}{\\operatorname{B}\\left(\\alpha_{2}, \\alpha_{4} + \\alpha_{1} + \\alpha_{3}\\right)} + \\frac{1}{1 - u}\\\\\\operatorname{polygamma}{\\left(1,\\alpha_{4} + \\alpha_{2} + \\alpha_{3} \\right)} & - \\operatorname{polygamma}{\\left(1,\\alpha_{3} \\right)} + \\operatorname{polygamma}{\\left(1,\\alpha_{4} + \\alpha_{2} + \\alpha_{3} \\right)} & \\operatorname{polygamma}{\\left(1,\\alpha_{4} + \\alpha_{2} + \\alpha_{3} \\right)} & - \\frac{\\operatorname{B}\\left(\\alpha_{3} - 1, \\alpha_{4} + \\alpha_{1} + \\alpha_{2}\\right)}{\\operatorname{B}\\left(\\alpha_{3}, \\alpha_{4} + \\alpha_{1} + \\alpha_{2}\\right)} + \\frac{1}{1 - u}\\\\\\operatorname{polygamma}{\\left(1,\\alpha_{4} + \\alpha_{2} + \\alpha_{3} \\right)} & \\operatorname{polygamma}{\\left(1,\\alpha_{4} + \\alpha_{2} + \\alpha_{3} \\right)} & - \\operatorname{polygamma}{\\left(1,\\alpha_{4} \\right)} + \\operatorname{polygamma}{\\left(1,\\alpha_{4} + \\alpha_{2} + \\alpha_{3} \\right)} & \\frac{\\operatorname{B}\\left(\\alpha_{4} - 1, \\alpha_{1} + \\alpha_{2} + \\alpha_{3}\\right)}{\\operatorname{B}\\left(\\alpha_{4}, \\alpha_{1} + \\alpha_{2} + \\alpha_{3}\\right)} + \\frac{1}{1 - u}\\\\- \\frac{\\operatorname{B}\\left(\\alpha_{2} - 1, \\alpha_{4} + \\alpha_{1} + \\alpha_{3}\\right)}{\\operatorname{B}\\left(\\alpha_{2}, \\alpha_{4} + \\alpha_{1} + \\alpha_{3}\\right)} + \\frac{1}{1 - u} & - \\frac{\\operatorname{B}\\left(\\alpha_{3} - 1, \\alpha_{4} + \\alpha_{1} + \\alpha_{2}\\right)}{\\operatorname{B}\\left(\\alpha_{3}, \\alpha_{4} + \\alpha_{1} + \\alpha_{2}\\right)} + \\frac{1}{1 - u} & \\frac{\\operatorname{B}\\left(\\alpha_{4} - 1, \\alpha_{1} + \\alpha_{2} + \\alpha_{3}\\right)}{\\operatorname{B}\\left(\\alpha_{4}, \\alpha_{1} + \\alpha_{2} + \\alpha_{3}\\right)} + \\frac{1}{1 - u} & - \\frac{\\left(\\alpha_{4} - 1\\right) \\operatorname{B}\\left(\\alpha_{4} - 2, \\alpha_{1} + \\alpha_{2} + \\alpha_{3}\\right)}{\\operatorname{B}\\left(\\alpha_{4}, \\alpha_{1} + \\alpha_{2} + \\alpha_{3}\\right)} - \\frac{\\left(\\alpha_{2} - 1\\right) \\operatorname{B}\\left(\\alpha_{2} - 2, \\alpha_{4} + \\alpha_{1} + \\alpha_{3}\\right)}{\\operatorname{B}\\left(\\alpha_{2}, \\alpha_{4} + \\alpha_{1} + \\alpha_{3}\\right)} - \\frac{\\left(\\alpha_{3} - 1\\right) \\operatorname{B}\\left(\\alpha_{3} - 2, \\alpha_{4} + \\alpha_{1} + \\alpha_{2}\\right)}{\\operatorname{B}\\left(\\alpha_{3}, \\alpha_{4} + \\alpha_{1} + \\alpha_{2}\\right)} - \\frac{- \\alpha_{4} - \\alpha_{2} - \\alpha_{3} + 1}{\\left(1 - u\\right)^{2}}\\end{matrix}\\right]$"
      ],
      "text/plain": [
       "Matrix([\n",
       "[                                   -polygamma(1, alpha_2) + polygamma(1, alpha4 + alpha_2 + alpha_3),                                                             polygamma(1, alpha4 + alpha_2 + alpha_3),                                                            polygamma(1, alpha4 + alpha_2 + alpha_3),                                                                                                                                                                                                                                                                 -beta(alpha_2 - 1, alpha4 + alpha_1 + alpha_3)/beta(alpha_2, alpha4 + alpha_1 + alpha_3) + 1/(1 - u)],\n",
       "[                                                            polygamma(1, alpha4 + alpha_2 + alpha_3),                                    -polygamma(1, alpha_3) + polygamma(1, alpha4 + alpha_2 + alpha_3),                                                            polygamma(1, alpha4 + alpha_2 + alpha_3),                                                                                                                                                                                                                                                                 -beta(alpha_3 - 1, alpha4 + alpha_1 + alpha_2)/beta(alpha_3, alpha4 + alpha_1 + alpha_2) + 1/(1 - u)],\n",
       "[                                                            polygamma(1, alpha4 + alpha_2 + alpha_3),                                                             polygamma(1, alpha4 + alpha_2 + alpha_3),                                    -polygamma(1, alpha4) + polygamma(1, alpha4 + alpha_2 + alpha_3),                                                                                                                                                                                                                                                                  beta(alpha4 - 1, alpha_1 + alpha_2 + alpha_3)/beta(alpha4, alpha_1 + alpha_2 + alpha_3) + 1/(1 - u)],\n",
       "[-beta(alpha_2 - 1, alpha4 + alpha_1 + alpha_3)/beta(alpha_2, alpha4 + alpha_1 + alpha_3) + 1/(1 - u), -beta(alpha_3 - 1, alpha4 + alpha_1 + alpha_2)/beta(alpha_3, alpha4 + alpha_1 + alpha_2) + 1/(1 - u), beta(alpha4 - 1, alpha_1 + alpha_2 + alpha_3)/beta(alpha4, alpha_1 + alpha_2 + alpha_3) + 1/(1 - u), -(alpha4 - 1)*beta(alpha4 - 2, alpha_1 + alpha_2 + alpha_3)/beta(alpha4, alpha_1 + alpha_2 + alpha_3) - (alpha_2 - 1)*beta(alpha_2 - 2, alpha4 + alpha_1 + alpha_3)/beta(alpha_2, alpha4 + alpha_1 + alpha_3) - (alpha_3 - 1)*beta(alpha_3 - 2, alpha4 + alpha_1 + alpha_2)/beta(alpha_3, alpha4 + alpha_1 + alpha_2) - (-alpha4 - alpha_2 - alpha_3 + 1)/(1 - u)**2]])"
      ]
     },
     "execution_count": 4,
     "metadata": {},
     "output_type": "execute_result"
    }
   ],
   "source": [
    "M[3,3] = M[3,3].subs(1/(x-u)**2, sp.beta(alpha2-2, alpha1+alpha3+alpha4)/sp.beta(alpha2, alpha1+alpha3+alpha4))\n",
    "M[3,3] = M[3,3].subs(1/(y-u)**2, sp.beta(alpha3-2, alpha1+alpha2+alpha4)/sp.beta(alpha3, alpha1+alpha2+alpha4))\n",
    "v = M[3,3].subs(1/(1-x-y+u)**2, sp.beta(alpha4-2, alpha1+alpha2+alpha3)/sp.beta(alpha4, alpha1+alpha2+alpha3))\n",
    "M = M.subs(1/(x-u), sp.beta(alpha2-1, alpha1+alpha3+alpha4)/sp.beta(alpha2, alpha1+alpha3+alpha4))\n",
    "M = M.subs(1/(y-u), sp.beta(alpha3-1, alpha1+alpha2+alpha4)/sp.beta(alpha3, alpha1+alpha2+alpha4))\n",
    "M = M.subs(1/(1-x-y+u), sp.beta(alpha4-1, alpha1+alpha2+alpha3)/sp.beta(alpha4, alpha1+alpha2+alpha3))\n",
    "M[3,3] = v\n",
    "M"
   ]
  },
  {
   "cell_type": "markdown",
   "id": "af09cc5b-f8fd-4b0c-b05c-f3825a9abeab",
   "metadata": {},
   "source": [
    "Notice that the Jeffreys priors is ony defined for $\\alpha_i > 2, i=2,3,4$, that is, the density has infinity value if $\\alpha_2 \\le 2$, for instance."
   ]
  }
 ],
 "metadata": {
  "kernelspec": {
   "display_name": "project-beta",
   "language": "python",
   "name": "project-beta"
  },
  "language_info": {
   "codemirror_mode": {
    "name": "ipython",
    "version": 3
   },
   "file_extension": ".py",
   "mimetype": "text/x-python",
   "name": "python",
   "nbconvert_exporter": "python",
   "pygments_lexer": "ipython3",
   "version": "3.10.4"
  }
 },
 "nbformat": 4,
 "nbformat_minor": 5
}
