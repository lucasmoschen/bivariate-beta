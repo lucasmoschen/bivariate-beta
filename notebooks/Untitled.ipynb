{
 "cells": [
  {
   "cell_type": "code",
   "execution_count": 1,
   "id": "052d0306-4a1a-4b03-8dfa-cb60f676770d",
   "metadata": {},
   "outputs": [],
   "source": [
    "import sympy as sp"
   ]
  },
  {
   "cell_type": "code",
   "execution_count": 78,
   "id": "c91644fb-21da-43c0-b120-57f0f32b570e",
   "metadata": {},
   "outputs": [],
   "source": [
    "m1, m2, rho, alpha3, alpha4 = sp.symbols('m1 m2 rho alpha3 alpha4')"
   ]
  },
  {
   "cell_type": "code",
   "execution_count": 79,
   "id": "d82ad411-a96f-4100-908b-0ba06a43cfdd",
   "metadata": {},
   "outputs": [],
   "source": [
    "alpha1 = (m1 + m2 - 1)/(1 - m1) * alpha3 + m2 / (1 - m1) * alpha4 \n",
    "alpha2 = (1 - m2)/(1 - m1) * alpha3 + (m1 - m2) / (1 - m1) * alpha4\n",
    "alpha_sum = sp.simplify(alpha1 + alpha2 + alpha3 + alpha4)\n",
    "\n",
    "exp = (alpha1 * alpha4 - alpha2 * alpha3)/(alpha_sum**2 * sp.sqrt(m1 * m2 * (1-m1) * (1-m2)))\n",
    "exp = sp.simplify(exp)\n",
    "\n",
    "alpha3 = sp.solve(exp-rho, alpha3)[0]\n",
    "alpha1 = sp.simplify((m1 + m2 - 1)/(1 - m1) * alpha3 + m2 / (1 - m1) * alpha4)\n",
    "alpha2 = sp.simplify((1 - m2)/(1 - m1) * alpha3 + (m1 - m2) / (1 - m1) * alpha4)\n",
    "alpha_sum = sp.simplify(alpha1 + alpha2 + alpha3 + alpha4)"
   ]
  },
  {
   "cell_type": "code",
   "execution_count": 80,
   "id": "a4a657f6-0899-4e64-a923-95982a0119a5",
   "metadata": {},
   "outputs": [
    {
     "data": {
      "text/latex": [
       "$\\displaystyle \\frac{\\alpha_{4}}{m_{1} m_{2} - m_{1} - m_{2} + \\rho \\sqrt{m_{1} m_{2} \\left(m_{1} m_{2} - m_{1} - m_{2} + 1\\right)} + 1}$"
      ],
      "text/plain": [
       "alpha4/(m1*m2 - m1 - m2 + rho*sqrt(m1*m2*(m1*m2 - m1 - m2 + 1)) + 1)"
      ]
     },
     "execution_count": 80,
     "metadata": {},
     "output_type": "execute_result"
    }
   ],
   "source": [
    "alpha_sum"
   ]
  },
  {
   "cell_type": "code",
   "execution_count": 141,
   "id": "0e52fe09-db04-4af8-b4e7-133c482b2cbf",
   "metadata": {},
   "outputs": [],
   "source": [
    "m1, m2, alpha3, alpha4 = sp.symbols('m1 m2 alpha3 alpha4')"
   ]
  },
  {
   "cell_type": "code",
   "execution_count": 147,
   "id": "de74dc72-be24-4e51-832b-58b4bc0e7d34",
   "metadata": {},
   "outputs": [],
   "source": [
    "alpha1 = ((m1 + m2 - 1) * alpha3 + m2 * alpha4) / (1 - m1)\n",
    "alpha2 = ((1 - m2) * alpha3 + (m1 - m2) * alpha4) / (1 - m1)\n",
    "alpha_sum = sp.simplify(alpha1 + alpha2 + alpha3 + alpha4)"
   ]
  },
  {
   "cell_type": "code",
   "execution_count": 148,
   "id": "4524d049-6cde-47f4-a6ca-93ff26ef49ec",
   "metadata": {},
   "outputs": [
    {
     "data": {
      "text/latex": [
       "$\\displaystyle \\frac{- \\alpha_{3} m_{1} m_{2} + \\alpha_{3} m_{1} + \\alpha_{3} m_{2} - \\alpha_{3} - \\alpha_{4} m_{1} m_{2} + \\alpha_{4} m_{2}}{\\sqrt{m_{1} m_{2} \\left(m_{1} m_{2} - m_{1} - m_{2} + 1\\right)} \\left(\\alpha_{3} + \\alpha_{4}\\right)}$"
      ],
      "text/plain": [
       "(-alpha3*m1*m2 + alpha3*m1 + alpha3*m2 - alpha3 - alpha4*m1*m2 + alpha4*m2)/(sqrt(m1*m2*(m1*m2 - m1 - m2 + 1))*(alpha3 + alpha4))"
      ]
     },
     "execution_count": 148,
     "metadata": {},
     "output_type": "execute_result"
    }
   ],
   "source": [
    "exp = ((alpha1 * alpha4 - alpha2 * alpha3)/(alpha_sum**2 * sp.sqrt(m1*m2*(1-m1)*(1-m2))))\n",
    "sp.simplify(exp)"
   ]
  },
  {
   "cell_type": "code",
   "execution_count": 149,
   "id": "b3f7e3fe-afd6-4f40-8b7b-69ef9930e4b9",
   "metadata": {},
   "outputs": [
    {
     "data": {
      "text/latex": [
       "$\\displaystyle - \\frac{\\alpha_{3} + \\alpha_{4}}{m_{1} - 1}$"
      ],
      "text/plain": [
       "-(alpha3 + alpha4)/(m1 - 1)"
      ]
     },
     "execution_count": 149,
     "metadata": {},
     "output_type": "execute_result"
    }
   ],
   "source": [
    "alpha_sum"
   ]
  },
  {
   "cell_type": "code",
   "execution_count": null,
   "id": "1d5df6a6-e8f6-430c-9076-937fd9236039",
   "metadata": {},
   "outputs": [],
   "source": []
  }
 ],
 "metadata": {
  "kernelspec": {
   "display_name": "bivBeta",
   "language": "python",
   "name": "bivbeta"
  },
  "language_info": {
   "codemirror_mode": {
    "name": "ipython",
    "version": 3
   },
   "file_extension": ".py",
   "mimetype": "text/x-python",
   "name": "python",
   "nbconvert_exporter": "python",
   "pygments_lexer": "ipython3",
   "version": "3.9.7"
  }
 },
 "nbformat": 4,
 "nbformat_minor": 5
}
