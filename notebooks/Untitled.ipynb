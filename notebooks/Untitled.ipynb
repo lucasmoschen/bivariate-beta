{
 "cells": [
  {
   "cell_type": "code",
   "execution_count": 1,
   "id": "052d0306-4a1a-4b03-8dfa-cb60f676770d",
   "metadata": {},
   "outputs": [],
   "source": [
    "import sympy as sp\n",
    "import numpy as np\n",
    "import matplotlib.pyplot as plt"
   ]
  },
  {
   "cell_type": "code",
   "execution_count": 3,
   "id": "c91644fb-21da-43c0-b120-57f0f32b570e",
   "metadata": {},
   "outputs": [],
   "source": [
    "m1, m2, v1, v2, rho = sp.symbols('m1 m2 v1 v2 rho')"
   ]
  },
  {
   "cell_type": "markdown",
   "id": "d66dba06-8ceb-41ae-b04d-ce259f10c4b7",
   "metadata": {},
   "source": [
    "Proposition 1"
   ]
  },
  {
   "cell_type": "code",
   "execution_count": 11,
   "id": "e55a64d2-9f1b-4e7b-86fa-b4ba8501a1ac",
   "metadata": {},
   "outputs": [],
   "source": [
    "alpha_tilde = (m1 - m1*m1 - v1)/v1\n",
    "alpha4 = alpha_tilde*(rho * sp.sqrt(m1*m2*(1-m1)*(1-m2)) + (1-m1)*(1-m2))\n",
    "alpha1 = (m1 + m2 - 1)*alpha_tilde + alpha4 \n",
    "alpha2 = (1 - m2)*alpha_tilde - alpha4\n",
    "alpha3 = (1 - m1)*alpha_tilde - alpha4\n",
    "alpha_sum = alpha1+alpha2+alpha3+alpha4"
   ]
  },
  {
   "cell_type": "code",
   "execution_count": 12,
   "id": "f2c43923-57f9-44e8-ab28-f86f387479c0",
   "metadata": {},
   "outputs": [
    {
     "data": {
      "text/latex": [
       "$\\displaystyle m_{1}$"
      ],
      "text/plain": [
       "m1"
      ]
     },
     "execution_count": 12,
     "metadata": {},
     "output_type": "execute_result"
    }
   ],
   "source": [
    "exp = (alpha1 + alpha2)/alpha_sum\n",
    "sp.simplify(exp)"
   ]
  },
  {
   "cell_type": "code",
   "execution_count": 13,
   "id": "5cecb1cf-f10c-41de-bd90-d37151ca5531",
   "metadata": {},
   "outputs": [
    {
     "data": {
      "text/latex": [
       "$\\displaystyle m_{2}$"
      ],
      "text/plain": [
       "m2"
      ]
     },
     "execution_count": 13,
     "metadata": {},
     "output_type": "execute_result"
    }
   ],
   "source": [
    "exp = (alpha1 + alpha3)/alpha_sum\n",
    "sp.simplify(exp)"
   ]
  },
  {
   "cell_type": "code",
   "execution_count": 15,
   "id": "85c90369-2b55-46fe-b7de-9ae5e185055a",
   "metadata": {},
   "outputs": [
    {
     "data": {
      "text/latex": [
       "$\\displaystyle v_{1}$"
      ],
      "text/plain": [
       "v1"
      ]
     },
     "execution_count": 15,
     "metadata": {},
     "output_type": "execute_result"
    }
   ],
   "source": [
    "exp = (alpha1 + alpha2)*(alpha3+alpha4)/(alpha_sum**2*(alpha_sum+1))\n",
    "sp.simplify(exp)"
   ]
  },
  {
   "cell_type": "code",
   "execution_count": 20,
   "id": "f5f1d1be-335b-480c-bd75-2cb0f64f9cd7",
   "metadata": {},
   "outputs": [
    {
     "data": {
      "text/latex": [
       "$\\displaystyle \\rho^{2}$"
      ],
      "text/plain": [
       "rho**2"
      ]
     },
     "execution_count": 20,
     "metadata": {},
     "output_type": "execute_result"
    }
   ],
   "source": [
    "exp = (alpha1*alpha4 - alpha2*alpha3)**2/((alpha1+alpha2)*(alpha3+alpha4)*(alpha1+alpha3)*(alpha2+alpha4))\n",
    "sp.simplify(exp)"
   ]
  },
  {
   "cell_type": "markdown",
   "id": "1e18214d-0e78-4204-9048-bdb8f98250b3",
   "metadata": {},
   "source": [
    "Method of solution 2"
   ]
  },
  {
   "cell_type": "code",
   "execution_count": 67,
   "id": "febc6a07-7239-4dc1-b361-04f4f7e65898",
   "metadata": {},
   "outputs": [
    {
     "data": {
      "text/plain": [
       "0"
      ]
     },
     "execution_count": 67,
     "metadata": {},
     "output_type": "execute_result"
    }
   ],
   "source": [
    "m1 = np.random.uniform(size=100000)\n",
    "m2 = np.random.uniform(size=100000)\n",
    "\n",
    "sq = np.sqrt(m1*m2*(1-m1)*(1-m2))\n",
    "lb = -np.minimum(m1*m2, (1-m1)*(1-m2))/sq\n",
    "ub = (np.minimum(m1, m2) - m1*m2)/sq\n",
    "\n",
    "rho = np.random.uniform(lb, ub)\n",
    "rho = np.random.uniform(ub, 1)\n",
    "\n",
    "I = rho*sq\n",
    "alpha1 = (m1*m2 + I)/((1-m1)*(1-m2) + I)\n",
    "alpha2 = (m1*(1-m2) - I)/((1-m1)*(1-m2) + I)\n",
    "alpha3 = (m2*(1-m1) - I)/((1-m1)*(1-m2) + I)\n",
    "\n",
    "ind = (alpha1 > 0)*(alpha2 > 0)*(alpha3 > 0)\n",
    "ind.sum()"
   ]
  },
  {
   "cell_type": "code",
   "execution_count": 6,
   "id": "011dee2b-c2d8-4a47-8e16-4eb9fcff134c",
   "metadata": {},
   "outputs": [],
   "source": [
    "a, b, c, alpha4 = sp.symbols('a b c alpha4')\n",
    "alpha1 = a + b - c + alpha4 \n",
    "alpha2 = c - b - alpha4\n",
    "alpha3 = c - a - alpha4\n",
    "rho_squared = (alpha1*alpha4 - alpha2*alpha3)**2/(a*b*(c-a)*(c-b))\n",
    "exp = alpha1*alpha4 - alpha2*alpha3"
   ]
  },
  {
   "cell_type": "code",
   "execution_count": 7,
   "id": "c889f63e-b702-4ee2-b28b-6c2f423af38a",
   "metadata": {},
   "outputs": [
    {
     "data": {
      "text/latex": [
       "$\\displaystyle - a b + a c + \\alpha_{4} c + b c - c^{2}$"
      ],
      "text/plain": [
       "-a*b + a*c + alpha4*c + b*c - c**2"
      ]
     },
     "execution_count": 7,
     "metadata": {},
     "output_type": "execute_result"
    }
   ],
   "source": [
    "sp.simplify(exp)"
   ]
  },
  {
   "cell_type": "code",
   "execution_count": null,
   "id": "c2bd9460-809a-42ab-be8d-9d3e915b8f0f",
   "metadata": {},
   "outputs": [],
   "source": []
  }
 ],
 "metadata": {
  "kernelspec": {
   "display_name": "bivBeta",
   "language": "python",
   "name": "bivbeta"
  },
  "language_info": {
   "codemirror_mode": {
    "name": "ipython",
    "version": 3
   },
   "file_extension": ".py",
   "mimetype": "text/x-python",
   "name": "python",
   "nbconvert_exporter": "python",
   "pygments_lexer": "ipython3",
   "version": "3.9.7"
  }
 },
 "nbformat": 4,
 "nbformat_minor": 5
}
